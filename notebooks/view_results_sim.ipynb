version https://git-lfs.github.com/spec/v1
oid sha256:fa1f53d31ff72666bbc63edaeff01b7fd08d93c940eddde6b37ceb0055fe4a0a
size 194467
