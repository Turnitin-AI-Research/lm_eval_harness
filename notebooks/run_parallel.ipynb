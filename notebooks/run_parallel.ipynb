{
 "cells": [
  {
   "cell_type": "markdown",
   "metadata": {},
   "source": [
    "## Run Experiments in Parallel"
   ]
  },
  {
   "cell_type": "code",
   "execution_count": null,
   "metadata": {},
   "outputs": [],
   "source": [
    "import os\n",
    "import sys\n",
    "import typing\n",
    "import json\n",
    "import pandas as pd\n",
    "if 'NOTEBOOKDIR' not in locals():\n",
    "    NOTEBOOKDIR = os.getcwd()\n",
    "from pathlib import Path\n",
    "RUNDIR = str(Path(NOTEBOOKDIR).parent)\n",
    "sys.path.append(str(RUNDIR))\n",
    "import ray"
   ]
  },
  {
   "cell_type": "code",
   "execution_count": null,
   "metadata": {},
   "outputs": [],
   "source": [
    "# run \"ray start --head --dashboard-host 0.0.0.0\" from the repo root directory from within the venv lme.\n",
    "# If you to attach another machine to the cluster, then run \"ray start --address=<head-node-ip>:6379\" there.\n",
    "# To view dashboard, forward local port to remote dashboard either using vscode or via ssh: ssh -L 8265:<head-node-ip>:8265 <head-node-ip>\n",
    "ray.init(address='auto')"
   ]
  },
  {
   "cell_type": "code",
   "execution_count": null,
   "metadata": {
    "scrolled": true,
    "tags": []
   },
   "outputs": [],
   "source": [
    "num_fewshots = [0, 5]\n",
    "task_models = [('hellaswag_d', 'dist_sim')] #, ('hellaswag_d', 'dist_sim'), ('webqs_d', 'dist_sim')]\n",
    "pretrained = ['EleutherAI/gpt-neo-1.3B']\n",
    "encoding_schemes = ['concat_each_example', 'merge_all_segments', 'segment_each_example', 'concat_all_examples'] # ['merge_all_segments', 'segment_each_example', 'concat_each_example', 'concat_all_examples']\n",
    "word_agg_schemes = ['mean']\n",
    "norms = ['layer']\n",
    "sim_funcs = ['dot_product']\n",
    "\n",
    "@ray.remote(max_calls=1, num_gpus=1)\n",
    "# @ray.remote(max_calls=1, num_cpus=4)\n",
    "def run_eval(args):\n",
    "    from main import main\n",
    "    return main(*args)\n",
    "\n",
    "futures = []\n",
    "for num_fewshot in num_fewshots:\n",
    "    for task, model in task_models:\n",
    "        for submodel in pretrained:\n",
    "            for encoding_scheme in encoding_schemes:\n",
    "                for word_agg_scheme in word_agg_schemes:\n",
    "                    for norm in norms:\n",
    "                        for sim_func in sim_funcs:\n",
    "                            _args = [\n",
    "                                \"--device\", \"0\",\n",
    "                                \"--output_dir\", \"lmeval_results2/\",\n",
    "                                # \"--limit\", \"5\",\n",
    "                                \"--tasks\", task,\n",
    "                                \"--model\", model,\n",
    "                                \"--no_cache\",\n",
    "                                '--num_fewshot', f'{num_fewshot}',\n",
    "                                '--task_args', f'encoding_scheme={encoding_scheme}'\n",
    "                            ]\n",
    "                            model_args = f'WORD_AGG_SCHEME={word_agg_scheme},EXAMPLE_AGG_SCHEME=None,SEGMENT_AGG_SCHEME=None,NORM={norm},SIMILARITY_FUNC={sim_func}'\n",
    "                            if submodel is not None:\n",
    "                                model_args = model_args + f',pretrained={submodel}'\n",
    "                            _args.extend(['--model_args', model_args])\n",
    "                            future = run_eval.remote(_args)\n",
    "                            futures.append(future)\n",
    "\n",
    "responses = ray.get(futures)\n",
    "# for resp in responses:\n",
    "#     fpath, results = resp\n",
    "#     with open(fpath, \"wt\", encoding='utf-8') as f:\n",
    "#         json.dump(results, f, indent=2)\n",
    "\n",
    "responses"
   ]
  }
 ],
 "metadata": {
  "kernelspec": {
   "display_name": "Python 3.9.13 ('.venv_lme': venv)",
   "language": "python",
   "name": "python3"
  },
  "language_info": {
   "codemirror_mode": {
    "name": "ipython",
    "version": 3
   },
   "file_extension": ".py",
   "mimetype": "text/x-python",
   "name": "python",
   "nbconvert_exporter": "python",
   "pygments_lexer": "ipython3",
   "version": "3.9.13"
  },
  "vscode": {
   "interpreter": {
    "hash": "4a9a0c18e9779ed2e58fb5ce841cff9e897a8be01ea55109e48089b82d3eb788"
   }
  }
 },
 "nbformat": 4,
 "nbformat_minor": 4
}
