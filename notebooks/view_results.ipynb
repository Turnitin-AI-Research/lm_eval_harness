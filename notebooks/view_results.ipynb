{
 "cells": [
  {
   "cell_type": "code",
   "execution_count": 1,
   "metadata": {},
   "outputs": [],
   "source": [
    "import os\n",
    "import sys\n",
    "import typing\n",
    "import json\n",
    "import re\n",
    "import pandas as pd\n",
    "import plotly.express as px\n",
    "import plotly.graph_objects as go\n",
    "from notebook_utils import read_results, task_metrics, fig_parcats\n",
    "%load_ext autoreload\n",
    "%autoreload 2"
   ]
  },
  {
   "cell_type": "markdown",
   "metadata": {},
   "source": [
    "## Evaluation Results"
   ]
  },
  {
   "attachments": {},
   "cell_type": "markdown",
   "metadata": {},
   "source": [
    "## Hellaswag"
   ]
  },
  {
   "attachments": {},
   "cell_type": "markdown",
   "metadata": {},
   "source": [
    "### Hellaswag Gen"
   ]
  },
  {
   "cell_type": "code",
   "execution_count": 2,
   "metadata": {},
   "outputs": [],
   "source": [
    "# all_df_gen = read_results(dir = '../lmeval_results_gen')\n",
    "# df_hellaswag_gen = task_metrics(all_df_gen, ['hellaswag:acc'], sort_metrics=['hellaswag:acc'])\n",
    "# # df_hellaswag_gen = df_hellaswag_gen.sort_values(by=['hellaswag:acc'], ascending=[False])\n",
    "# fig_parcats(df_hellaswag_gen, 'hellaswag:acc', ['hellaswag:acc_norm', 'hellaswag:acc_norm_stderr', 'hellaswag:acc_stderr', 'filename', 'date'], height=1500)"
   ]
  },
  {
   "cell_type": "code",
   "execution_count": 18,
   "metadata": {},
   "outputs": [
    {
     "data": {
      "text/html": [
       "<div>\n",
       "<style scoped>\n",
       "    .dataframe tbody tr th:only-of-type {\n",
       "        vertical-align: middle;\n",
       "    }\n",
       "\n",
       "    .dataframe tbody tr th {\n",
       "        vertical-align: top;\n",
       "    }\n",
       "\n",
       "    .dataframe thead th {\n",
       "        text-align: right;\n",
       "    }\n",
       "</style>\n",
       "<table border=\"1\" class=\"dataframe\">\n",
       "  <thead>\n",
       "    <tr style=\"text-align: right;\">\n",
       "      <th></th>\n",
       "      <th>filename</th>\n",
       "      <th>NORM</th>\n",
       "      <th>mtime</th>\n",
       "      <th>num_fewshot</th>\n",
       "      <th>SEGMENT_AGG_SCHEME</th>\n",
       "      <th>hellaswag:acc</th>\n",
       "      <th>WORD_AGG_SCHEME</th>\n",
       "      <th>EXAMPLE_AGG_SCHEME</th>\n",
       "      <th>ENCODING_LAYER</th>\n",
       "      <th>pretrained</th>\n",
       "      <th>encoding_scheme</th>\n",
       "      <th>model_type</th>\n",
       "      <th>hellaswag:acc_stderr</th>\n",
       "      <th>SIMILARITY_FUNC</th>\n",
       "      <th>date</th>\n",
       "    </tr>\n",
       "  </thead>\n",
       "  <tbody>\n",
       "    <tr>\n",
       "      <th>11</th>\n",
       "      <td>7c90730c7f0e56815d1cee2aa94d0b1d7b63f043.json</td>\n",
       "      <td>layer</td>\n",
       "      <td>1.671833e+09</td>\n",
       "      <td>5</td>\n",
       "      <td>None</td>\n",
       "      <td>0.291177</td>\n",
       "      <td>mean</td>\n",
       "      <td>None</td>\n",
       "      <td>12</td>\n",
       "      <td>EleutherAI/gpt-neo-1.3B</td>\n",
       "      <td>concat_all_examples</td>\n",
       "      <td>dist_sim</td>\n",
       "      <td>0.004534</td>\n",
       "      <td>dot_product</td>\n",
       "      <td>2022-12-23 13:56:28.105793792-08:00</td>\n",
       "    </tr>\n",
       "    <tr>\n",
       "      <th>26</th>\n",
       "      <td>b89708c3804ffe013c2c82685f2c6927ca4840f2.json</td>\n",
       "      <td>layer</td>\n",
       "      <td>1.671830e+09</td>\n",
       "      <td>5</td>\n",
       "      <td>None</td>\n",
       "      <td>0.291177</td>\n",
       "      <td>mean</td>\n",
       "      <td>None</td>\n",
       "      <td>middle</td>\n",
       "      <td>EleutherAI/gpt-neo-1.3B</td>\n",
       "      <td>concat_all_examples</td>\n",
       "      <td>dist_sim</td>\n",
       "      <td>0.004534</td>\n",
       "      <td>dot_product</td>\n",
       "      <td>2022-12-23 13:19:25.000547328-08:00</td>\n",
       "    </tr>\n",
       "    <tr>\n",
       "      <th>3</th>\n",
       "      <td>7f4b3f8575fe7aa96688b2f8f9ea33a03242600e.json</td>\n",
       "      <td>layer</td>\n",
       "      <td>1.671832e+09</td>\n",
       "      <td>5</td>\n",
       "      <td>None</td>\n",
       "      <td>0.283808</td>\n",
       "      <td>mean</td>\n",
       "      <td>None</td>\n",
       "      <td>10</td>\n",
       "      <td>EleutherAI/gpt-neo-1.3B</td>\n",
       "      <td>concat_all_examples</td>\n",
       "      <td>dist_sim</td>\n",
       "      <td>0.004499</td>\n",
       "      <td>dot_product</td>\n",
       "      <td>2022-12-23 13:54:16.198949632-08:00</td>\n",
       "    </tr>\n",
       "    <tr>\n",
       "      <th>21</th>\n",
       "      <td>6003d541b41afdd17cb914344dc48eff4798cb44.json</td>\n",
       "      <td>layer</td>\n",
       "      <td>1.671848e+09</td>\n",
       "      <td>5</td>\n",
       "      <td>None</td>\n",
       "      <td>0.283808</td>\n",
       "      <td>last</td>\n",
       "      <td>None</td>\n",
       "      <td>23</td>\n",
       "      <td>EleutherAI/gpt-neo-1.3B</td>\n",
       "      <td>concat_all_examples</td>\n",
       "      <td>dist_sim</td>\n",
       "      <td>0.004499</td>\n",
       "      <td>dot_product</td>\n",
       "      <td>2022-12-23 18:15:07.878111744-08:00</td>\n",
       "    </tr>\n",
       "    <tr>\n",
       "      <th>2</th>\n",
       "      <td>a841acc7bb550a0c1a75b817dff4aa9690264a1b.json</td>\n",
       "      <td>layer</td>\n",
       "      <td>1.671833e+09</td>\n",
       "      <td>5</td>\n",
       "      <td>None</td>\n",
       "      <td>0.281916</td>\n",
       "      <td>mean</td>\n",
       "      <td>None</td>\n",
       "      <td>13</td>\n",
       "      <td>EleutherAI/gpt-neo-1.3B</td>\n",
       "      <td>concat_all_examples</td>\n",
       "      <td>dist_sim</td>\n",
       "      <td>0.004490</td>\n",
       "      <td>dot_product</td>\n",
       "      <td>2022-12-23 13:58:13.888862464-08:00</td>\n",
       "    </tr>\n",
       "    <tr>\n",
       "      <th>19</th>\n",
       "      <td>d8d653e416b5cabe3ba052ff4a4a964637e95287.json</td>\n",
       "      <td>layer</td>\n",
       "      <td>1.671834e+09</td>\n",
       "      <td>5</td>\n",
       "      <td>None</td>\n",
       "      <td>0.281717</td>\n",
       "      <td>mean</td>\n",
       "      <td>None</td>\n",
       "      <td>14</td>\n",
       "      <td>EleutherAI/gpt-neo-1.3B</td>\n",
       "      <td>concat_all_examples</td>\n",
       "      <td>dist_sim</td>\n",
       "      <td>0.004489</td>\n",
       "      <td>dot_product</td>\n",
       "      <td>2022-12-23 14:26:37.905763328-08:00</td>\n",
       "    </tr>\n",
       "    <tr>\n",
       "      <th>25</th>\n",
       "      <td>2987dc0f4685136f5c9363fdb8428656646e6909.json</td>\n",
       "      <td>layer</td>\n",
       "      <td>1.671833e+09</td>\n",
       "      <td>5</td>\n",
       "      <td>None</td>\n",
       "      <td>0.280223</td>\n",
       "      <td>mean</td>\n",
       "      <td>None</td>\n",
       "      <td>11</td>\n",
       "      <td>EleutherAI/gpt-neo-1.3B</td>\n",
       "      <td>concat_all_examples</td>\n",
       "      <td>dist_sim</td>\n",
       "      <td>0.004482</td>\n",
       "      <td>dot_product</td>\n",
       "      <td>2022-12-23 13:55:37.470238208-08:00</td>\n",
       "    </tr>\n",
       "    <tr>\n",
       "      <th>5</th>\n",
       "      <td>5a0b725c1c71538a67698ce8efb27c522f3e9d96.json</td>\n",
       "      <td>layer</td>\n",
       "      <td>1.671832e+09</td>\n",
       "      <td>5</td>\n",
       "      <td>None</td>\n",
       "      <td>0.276339</td>\n",
       "      <td>mean</td>\n",
       "      <td>None</td>\n",
       "      <td>9</td>\n",
       "      <td>EleutherAI/gpt-neo-1.3B</td>\n",
       "      <td>concat_all_examples</td>\n",
       "      <td>dist_sim</td>\n",
       "      <td>0.004463</td>\n",
       "      <td>dot_product</td>\n",
       "      <td>2022-12-23 13:54:22.030898688-08:00</td>\n",
       "    </tr>\n",
       "    <tr>\n",
       "      <th>24</th>\n",
       "      <td>87e95c9435a3e9ba5eb4b1f2488cb82a32638d3a.json</td>\n",
       "      <td>layer</td>\n",
       "      <td>1.671832e+09</td>\n",
       "      <td>5</td>\n",
       "      <td>None</td>\n",
       "      <td>0.269767</td>\n",
       "      <td>mean</td>\n",
       "      <td>None</td>\n",
       "      <td>8</td>\n",
       "      <td>EleutherAI/gpt-neo-1.3B</td>\n",
       "      <td>concat_all_examples</td>\n",
       "      <td>dist_sim</td>\n",
       "      <td>0.004429</td>\n",
       "      <td>dot_product</td>\n",
       "      <td>2022-12-23 13:53:45.511217664-08:00</td>\n",
       "    </tr>\n",
       "    <tr>\n",
       "      <th>22</th>\n",
       "      <td>8cceed437935ec0f01eee0c9240d5d4eb7788a83.json</td>\n",
       "      <td>layer</td>\n",
       "      <td>1.671848e+09</td>\n",
       "      <td>5</td>\n",
       "      <td>None</td>\n",
       "      <td>0.267078</td>\n",
       "      <td>last</td>\n",
       "      <td>None</td>\n",
       "      <td>22</td>\n",
       "      <td>EleutherAI/gpt-neo-1.3B</td>\n",
       "      <td>concat_all_examples</td>\n",
       "      <td>dist_sim</td>\n",
       "      <td>0.004415</td>\n",
       "      <td>dot_product</td>\n",
       "      <td>2022-12-23 18:14:31.862424576-08:00</td>\n",
       "    </tr>\n",
       "    <tr>\n",
       "      <th>31</th>\n",
       "      <td>806d98558c2f6400cb193ed2cfffb3b673f8e7b7.json</td>\n",
       "      <td>layer</td>\n",
       "      <td>1.671832e+09</td>\n",
       "      <td>5</td>\n",
       "      <td>None</td>\n",
       "      <td>0.265286</td>\n",
       "      <td>mean</td>\n",
       "      <td>None</td>\n",
       "      <td>7</td>\n",
       "      <td>EleutherAI/gpt-neo-1.3B</td>\n",
       "      <td>concat_all_examples</td>\n",
       "      <td>dist_sim</td>\n",
       "      <td>0.004406</td>\n",
       "      <td>dot_product</td>\n",
       "      <td>2022-12-23 13:53:09.515531008-08:00</td>\n",
       "    </tr>\n",
       "    <tr>\n",
       "      <th>28</th>\n",
       "      <td>55624bfd707875c82aca891ce026e3da5d4199df.json</td>\n",
       "      <td>layer</td>\n",
       "      <td>1.671848e+09</td>\n",
       "      <td>5</td>\n",
       "      <td>None</td>\n",
       "      <td>0.264589</td>\n",
       "      <td>last</td>\n",
       "      <td>None</td>\n",
       "      <td>24</td>\n",
       "      <td>EleutherAI/gpt-neo-1.3B</td>\n",
       "      <td>concat_all_examples</td>\n",
       "      <td>dist_sim</td>\n",
       "      <td>0.004402</td>\n",
       "      <td>dot_product</td>\n",
       "      <td>2022-12-23 18:15:50.493740288-08:00</td>\n",
       "    </tr>\n",
       "    <tr>\n",
       "      <th>29</th>\n",
       "      <td>13fe981221c88d27f733400bd765086fc7a80c67.json</td>\n",
       "      <td>layer</td>\n",
       "      <td>1.671834e+09</td>\n",
       "      <td>5</td>\n",
       "      <td>None</td>\n",
       "      <td>0.263294</td>\n",
       "      <td>mean</td>\n",
       "      <td>None</td>\n",
       "      <td>15</td>\n",
       "      <td>EleutherAI/gpt-neo-1.3B</td>\n",
       "      <td>concat_all_examples</td>\n",
       "      <td>dist_sim</td>\n",
       "      <td>0.004395</td>\n",
       "      <td>dot_product</td>\n",
       "      <td>2022-12-23 14:27:31.325286912-08:00</td>\n",
       "    </tr>\n",
       "    <tr>\n",
       "      <th>9</th>\n",
       "      <td>d497d699967bea896eb393ac84170d1b86c9b7e0.json</td>\n",
       "      <td>layer</td>\n",
       "      <td>1.671832e+09</td>\n",
       "      <td>5</td>\n",
       "      <td>None</td>\n",
       "      <td>0.261601</td>\n",
       "      <td>mean</td>\n",
       "      <td>None</td>\n",
       "      <td>6</td>\n",
       "      <td>EleutherAI/gpt-neo-1.3B</td>\n",
       "      <td>concat_all_examples</td>\n",
       "      <td>dist_sim</td>\n",
       "      <td>0.004386</td>\n",
       "      <td>dot_product</td>\n",
       "      <td>2022-12-23 13:52:34.603834624-08:00</td>\n",
       "    </tr>\n",
       "    <tr>\n",
       "      <th>17</th>\n",
       "      <td>f21440d0585c9ca2172d21332bd55a46c19df2c0.json</td>\n",
       "      <td>layer</td>\n",
       "      <td>1.671830e+09</td>\n",
       "      <td>5</td>\n",
       "      <td>None</td>\n",
       "      <td>0.260307</td>\n",
       "      <td>mean</td>\n",
       "      <td>None</td>\n",
       "      <td>4</td>\n",
       "      <td>EleutherAI/gpt-neo-1.3B</td>\n",
       "      <td>concat_all_examples</td>\n",
       "      <td>dist_sim</td>\n",
       "      <td>0.004379</td>\n",
       "      <td>dot_product</td>\n",
       "      <td>2022-12-23 13:18:50.496872448-08:00</td>\n",
       "    </tr>\n",
       "    <tr>\n",
       "      <th>14</th>\n",
       "      <td>19baaf3c211ee0e25e060a88bb3dad1a4729aa6d.json</td>\n",
       "      <td>layer</td>\n",
       "      <td>1.671830e+09</td>\n",
       "      <td>5</td>\n",
       "      <td>None</td>\n",
       "      <td>0.258813</td>\n",
       "      <td>mean</td>\n",
       "      <td>None</td>\n",
       "      <td>5</td>\n",
       "      <td>EleutherAI/gpt-neo-1.3B</td>\n",
       "      <td>concat_all_examples</td>\n",
       "      <td>dist_sim</td>\n",
       "      <td>0.004371</td>\n",
       "      <td>dot_product</td>\n",
       "      <td>2022-12-23 13:18:30.765058304-08:00</td>\n",
       "    </tr>\n",
       "    <tr>\n",
       "      <th>27</th>\n",
       "      <td>ecd08db3fd554172495a9dcd5d24352b4745917b.json</td>\n",
       "      <td>layer</td>\n",
       "      <td>1.671830e+09</td>\n",
       "      <td>5</td>\n",
       "      <td>None</td>\n",
       "      <td>0.253336</td>\n",
       "      <td>mean</td>\n",
       "      <td>None</td>\n",
       "      <td>0</td>\n",
       "      <td>EleutherAI/gpt-neo-1.3B</td>\n",
       "      <td>concat_all_examples</td>\n",
       "      <td>dist_sim</td>\n",
       "      <td>0.004340</td>\n",
       "      <td>dot_product</td>\n",
       "      <td>2022-12-23 13:20:22.288007936-08:00</td>\n",
       "    </tr>\n",
       "    <tr>\n",
       "      <th>20</th>\n",
       "      <td>0c6b15fe4324cae1bebc006f25914de0abf959d5.json</td>\n",
       "      <td>layer</td>\n",
       "      <td>1.671848e+09</td>\n",
       "      <td>5</td>\n",
       "      <td>None</td>\n",
       "      <td>0.251743</td>\n",
       "      <td>last</td>\n",
       "      <td>None</td>\n",
       "      <td>21</td>\n",
       "      <td>EleutherAI/gpt-neo-1.3B</td>\n",
       "      <td>concat_all_examples</td>\n",
       "      <td>dist_sim</td>\n",
       "      <td>0.004331</td>\n",
       "      <td>dot_product</td>\n",
       "      <td>2022-12-23 18:14:10.546609408-08:00</td>\n",
       "    </tr>\n",
       "    <tr>\n",
       "      <th>30</th>\n",
       "      <td>691d4914d78ee632c978b57c98c16b50a084b6a2.json</td>\n",
       "      <td>layer</td>\n",
       "      <td>1.671830e+09</td>\n",
       "      <td>5</td>\n",
       "      <td>None</td>\n",
       "      <td>0.251046</td>\n",
       "      <td>mean</td>\n",
       "      <td>None</td>\n",
       "      <td>3</td>\n",
       "      <td>EleutherAI/gpt-neo-1.3B</td>\n",
       "      <td>concat_all_examples</td>\n",
       "      <td>dist_sim</td>\n",
       "      <td>0.004327</td>\n",
       "      <td>dot_product</td>\n",
       "      <td>2022-12-23 13:19:25.892539136-08:00</td>\n",
       "    </tr>\n",
       "    <tr>\n",
       "      <th>12</th>\n",
       "      <td>fea9806ccec26cfc11864b61f1f406d1332adf66.json</td>\n",
       "      <td>layer</td>\n",
       "      <td>1.671835e+09</td>\n",
       "      <td>5</td>\n",
       "      <td>None</td>\n",
       "      <td>0.250349</td>\n",
       "      <td>mean</td>\n",
       "      <td>None</td>\n",
       "      <td>16</td>\n",
       "      <td>EleutherAI/gpt-neo-1.3B</td>\n",
       "      <td>concat_all_examples</td>\n",
       "      <td>dist_sim</td>\n",
       "      <td>0.004323</td>\n",
       "      <td>dot_product</td>\n",
       "      <td>2022-12-23 14:28:22.420830976-08:00</td>\n",
       "    </tr>\n",
       "    <tr>\n",
       "      <th>15</th>\n",
       "      <td>ebe27a25ae4519211b7c5efef62530baa149b06f.json</td>\n",
       "      <td>layer</td>\n",
       "      <td>1.671846e+09</td>\n",
       "      <td>5</td>\n",
       "      <td>None</td>\n",
       "      <td>0.248656</td>\n",
       "      <td>last</td>\n",
       "      <td>None</td>\n",
       "      <td>20</td>\n",
       "      <td>EleutherAI/gpt-neo-1.3B</td>\n",
       "      <td>concat_all_examples</td>\n",
       "      <td>dist_sim</td>\n",
       "      <td>0.004314</td>\n",
       "      <td>dot_product</td>\n",
       "      <td>2022-12-23 17:42:10.619675392-08:00</td>\n",
       "    </tr>\n",
       "    <tr>\n",
       "      <th>13</th>\n",
       "      <td>abcb10c4339eedcc6dcd7794697be2eb5eb21513.json</td>\n",
       "      <td>layer</td>\n",
       "      <td>1.671830e+09</td>\n",
       "      <td>5</td>\n",
       "      <td>None</td>\n",
       "      <td>0.247461</td>\n",
       "      <td>mean</td>\n",
       "      <td>None</td>\n",
       "      <td>1</td>\n",
       "      <td>EleutherAI/gpt-neo-1.3B</td>\n",
       "      <td>concat_all_examples</td>\n",
       "      <td>dist_sim</td>\n",
       "      <td>0.004307</td>\n",
       "      <td>dot_product</td>\n",
       "      <td>2022-12-23 13:21:15.147510784-08:00</td>\n",
       "    </tr>\n",
       "    <tr>\n",
       "      <th>6</th>\n",
       "      <td>410fba09f5d7d6a9d8bc9f7dad6adc33373d0b77.json</td>\n",
       "      <td>layer</td>\n",
       "      <td>1.671830e+09</td>\n",
       "      <td>5</td>\n",
       "      <td>None</td>\n",
       "      <td>0.242880</td>\n",
       "      <td>mean</td>\n",
       "      <td>None</td>\n",
       "      <td>2</td>\n",
       "      <td>EleutherAI/gpt-neo-1.3B</td>\n",
       "      <td>concat_all_examples</td>\n",
       "      <td>dist_sim</td>\n",
       "      <td>0.004279</td>\n",
       "      <td>dot_product</td>\n",
       "      <td>2022-12-23 13:20:01.812200704-08:00</td>\n",
       "    </tr>\n",
       "    <tr>\n",
       "      <th>18</th>\n",
       "      <td>a2760ecf0d1e6f6f38b552fa792f14ad582847ab.json</td>\n",
       "      <td>layer</td>\n",
       "      <td>1.671835e+09</td>\n",
       "      <td>5</td>\n",
       "      <td>None</td>\n",
       "      <td>0.239395</td>\n",
       "      <td>mean</td>\n",
       "      <td>None</td>\n",
       "      <td>17</td>\n",
       "      <td>EleutherAI/gpt-neo-1.3B</td>\n",
       "      <td>concat_all_examples</td>\n",
       "      <td>dist_sim</td>\n",
       "      <td>0.004258</td>\n",
       "      <td>dot_product</td>\n",
       "      <td>2022-12-23 14:29:09.956406784-08:00</td>\n",
       "    </tr>\n",
       "    <tr>\n",
       "      <th>8</th>\n",
       "      <td>6a9068263cd3b13af7da70148648563f1134548e.json</td>\n",
       "      <td>layer</td>\n",
       "      <td>1.671846e+09</td>\n",
       "      <td>5</td>\n",
       "      <td>None</td>\n",
       "      <td>0.236805</td>\n",
       "      <td>last</td>\n",
       "      <td>None</td>\n",
       "      <td>19</td>\n",
       "      <td>EleutherAI/gpt-neo-1.3B</td>\n",
       "      <td>concat_all_examples</td>\n",
       "      <td>dist_sim</td>\n",
       "      <td>0.004243</td>\n",
       "      <td>dot_product</td>\n",
       "      <td>2022-12-23 17:41:30.108034048-08:00</td>\n",
       "    </tr>\n",
       "    <tr>\n",
       "      <th>7</th>\n",
       "      <td>70747986e8f02db62d7c322af1e6c6d788feaee2.json</td>\n",
       "      <td>layer</td>\n",
       "      <td>1.671846e+09</td>\n",
       "      <td>5</td>\n",
       "      <td>None</td>\n",
       "      <td>0.235909</td>\n",
       "      <td>mean</td>\n",
       "      <td>None</td>\n",
       "      <td>24</td>\n",
       "      <td>EleutherAI/gpt-neo-1.3B</td>\n",
       "      <td>concat_all_examples</td>\n",
       "      <td>dist_sim</td>\n",
       "      <td>0.004237</td>\n",
       "      <td>dot_product</td>\n",
       "      <td>2022-12-23 17:40:32.608540928-08:00</td>\n",
       "    </tr>\n",
       "    <tr>\n",
       "      <th>16</th>\n",
       "      <td>f2259eb8f10e46c9d862ad5d016bea94c044d402.json</td>\n",
       "      <td>layer</td>\n",
       "      <td>1.671830e+09</td>\n",
       "      <td>5</td>\n",
       "      <td>None</td>\n",
       "      <td>0.235909</td>\n",
       "      <td>mean</td>\n",
       "      <td>None</td>\n",
       "      <td>None</td>\n",
       "      <td>EleutherAI/gpt-neo-1.3B</td>\n",
       "      <td>concat_all_examples</td>\n",
       "      <td>dist_sim</td>\n",
       "      <td>0.004237</td>\n",
       "      <td>dot_product</td>\n",
       "      <td>2022-12-23 13:19:09.292695296-08:00</td>\n",
       "    </tr>\n",
       "    <tr>\n",
       "      <th>23</th>\n",
       "      <td>f996971c0e11af8637f727b1bf3a96b5baeec472.json</td>\n",
       "      <td>layer</td>\n",
       "      <td>1.671846e+09</td>\n",
       "      <td>5</td>\n",
       "      <td>None</td>\n",
       "      <td>0.228241</td>\n",
       "      <td>mean</td>\n",
       "      <td>None</td>\n",
       "      <td>23</td>\n",
       "      <td>EleutherAI/gpt-neo-1.3B</td>\n",
       "      <td>concat_all_examples</td>\n",
       "      <td>dist_sim</td>\n",
       "      <td>0.004188</td>\n",
       "      <td>dot_product</td>\n",
       "      <td>2022-12-23 17:39:42.792977920-08:00</td>\n",
       "    </tr>\n",
       "    <tr>\n",
       "      <th>4</th>\n",
       "      <td>4bd80611b1f8d138a1c9dd5baa23412c6298f504.json</td>\n",
       "      <td>layer</td>\n",
       "      <td>1.671835e+09</td>\n",
       "      <td>5</td>\n",
       "      <td>None</td>\n",
       "      <td>0.223661</td>\n",
       "      <td>mean</td>\n",
       "      <td>None</td>\n",
       "      <td>18</td>\n",
       "      <td>EleutherAI/gpt-neo-1.3B</td>\n",
       "      <td>concat_all_examples</td>\n",
       "      <td>dist_sim</td>\n",
       "      <td>0.004158</td>\n",
       "      <td>dot_product</td>\n",
       "      <td>2022-12-23 14:29:21.760301312-08:00</td>\n",
       "    </tr>\n",
       "    <tr>\n",
       "      <th>10</th>\n",
       "      <td>899deabda8635dba5f2c8a0b44c37e86ffb44e30.json</td>\n",
       "      <td>layer</td>\n",
       "      <td>1.671846e+09</td>\n",
       "      <td>5</td>\n",
       "      <td>None</td>\n",
       "      <td>0.216690</td>\n",
       "      <td>mean</td>\n",
       "      <td>None</td>\n",
       "      <td>20</td>\n",
       "      <td>EleutherAI/gpt-neo-1.3B</td>\n",
       "      <td>concat_all_examples</td>\n",
       "      <td>dist_sim</td>\n",
       "      <td>0.004111</td>\n",
       "      <td>dot_product</td>\n",
       "      <td>2022-12-23 17:40:00.732820736-08:00</td>\n",
       "    </tr>\n",
       "    <tr>\n",
       "      <th>0</th>\n",
       "      <td>b04f8b280a4094d590c662edc51743dfb298c9ec.json</td>\n",
       "      <td>layer</td>\n",
       "      <td>1.671846e+09</td>\n",
       "      <td>5</td>\n",
       "      <td>None</td>\n",
       "      <td>0.216391</td>\n",
       "      <td>mean</td>\n",
       "      <td>None</td>\n",
       "      <td>22</td>\n",
       "      <td>EleutherAI/gpt-neo-1.3B</td>\n",
       "      <td>concat_all_examples</td>\n",
       "      <td>dist_sim</td>\n",
       "      <td>0.004109</td>\n",
       "      <td>dot_product</td>\n",
       "      <td>2022-12-23 17:42:27.167528448-08:00</td>\n",
       "    </tr>\n",
       "    <tr>\n",
       "      <th>1</th>\n",
       "      <td>857126cff957908a79a36091ed5d77b661ace597.json</td>\n",
       "      <td>layer</td>\n",
       "      <td>1.671846e+09</td>\n",
       "      <td>5</td>\n",
       "      <td>None</td>\n",
       "      <td>0.215097</td>\n",
       "      <td>mean</td>\n",
       "      <td>None</td>\n",
       "      <td>21</td>\n",
       "      <td>EleutherAI/gpt-neo-1.3B</td>\n",
       "      <td>concat_all_examples</td>\n",
       "      <td>dist_sim</td>\n",
       "      <td>0.004100</td>\n",
       "      <td>dot_product</td>\n",
       "      <td>2022-12-23 17:40:17.476673792-08:00</td>\n",
       "    </tr>\n",
       "    <tr>\n",
       "      <th>32</th>\n",
       "      <td>a5ea21f82b9c4b66ee5784fe27a1c5cd0bd7669e.json</td>\n",
       "      <td>layer</td>\n",
       "      <td>1.671846e+09</td>\n",
       "      <td>5</td>\n",
       "      <td>None</td>\n",
       "      <td>0.212109</td>\n",
       "      <td>mean</td>\n",
       "      <td>None</td>\n",
       "      <td>19</td>\n",
       "      <td>EleutherAI/gpt-neo-1.3B</td>\n",
       "      <td>concat_all_examples</td>\n",
       "      <td>dist_sim</td>\n",
       "      <td>0.004080</td>\n",
       "      <td>dot_product</td>\n",
       "      <td>2022-12-23 17:40:37.448498432-08:00</td>\n",
       "    </tr>\n",
       "  </tbody>\n",
       "</table>\n",
       "</div>"
      ],
      "text/plain": [
       "                                         filename   NORM         mtime  \\\n",
       "11  7c90730c7f0e56815d1cee2aa94d0b1d7b63f043.json  layer  1.671833e+09   \n",
       "26  b89708c3804ffe013c2c82685f2c6927ca4840f2.json  layer  1.671830e+09   \n",
       "3   7f4b3f8575fe7aa96688b2f8f9ea33a03242600e.json  layer  1.671832e+09   \n",
       "21  6003d541b41afdd17cb914344dc48eff4798cb44.json  layer  1.671848e+09   \n",
       "2   a841acc7bb550a0c1a75b817dff4aa9690264a1b.json  layer  1.671833e+09   \n",
       "19  d8d653e416b5cabe3ba052ff4a4a964637e95287.json  layer  1.671834e+09   \n",
       "25  2987dc0f4685136f5c9363fdb8428656646e6909.json  layer  1.671833e+09   \n",
       "5   5a0b725c1c71538a67698ce8efb27c522f3e9d96.json  layer  1.671832e+09   \n",
       "24  87e95c9435a3e9ba5eb4b1f2488cb82a32638d3a.json  layer  1.671832e+09   \n",
       "22  8cceed437935ec0f01eee0c9240d5d4eb7788a83.json  layer  1.671848e+09   \n",
       "31  806d98558c2f6400cb193ed2cfffb3b673f8e7b7.json  layer  1.671832e+09   \n",
       "28  55624bfd707875c82aca891ce026e3da5d4199df.json  layer  1.671848e+09   \n",
       "29  13fe981221c88d27f733400bd765086fc7a80c67.json  layer  1.671834e+09   \n",
       "9   d497d699967bea896eb393ac84170d1b86c9b7e0.json  layer  1.671832e+09   \n",
       "17  f21440d0585c9ca2172d21332bd55a46c19df2c0.json  layer  1.671830e+09   \n",
       "14  19baaf3c211ee0e25e060a88bb3dad1a4729aa6d.json  layer  1.671830e+09   \n",
       "27  ecd08db3fd554172495a9dcd5d24352b4745917b.json  layer  1.671830e+09   \n",
       "20  0c6b15fe4324cae1bebc006f25914de0abf959d5.json  layer  1.671848e+09   \n",
       "30  691d4914d78ee632c978b57c98c16b50a084b6a2.json  layer  1.671830e+09   \n",
       "12  fea9806ccec26cfc11864b61f1f406d1332adf66.json  layer  1.671835e+09   \n",
       "15  ebe27a25ae4519211b7c5efef62530baa149b06f.json  layer  1.671846e+09   \n",
       "13  abcb10c4339eedcc6dcd7794697be2eb5eb21513.json  layer  1.671830e+09   \n",
       "6   410fba09f5d7d6a9d8bc9f7dad6adc33373d0b77.json  layer  1.671830e+09   \n",
       "18  a2760ecf0d1e6f6f38b552fa792f14ad582847ab.json  layer  1.671835e+09   \n",
       "8   6a9068263cd3b13af7da70148648563f1134548e.json  layer  1.671846e+09   \n",
       "7   70747986e8f02db62d7c322af1e6c6d788feaee2.json  layer  1.671846e+09   \n",
       "16  f2259eb8f10e46c9d862ad5d016bea94c044d402.json  layer  1.671830e+09   \n",
       "23  f996971c0e11af8637f727b1bf3a96b5baeec472.json  layer  1.671846e+09   \n",
       "4   4bd80611b1f8d138a1c9dd5baa23412c6298f504.json  layer  1.671835e+09   \n",
       "10  899deabda8635dba5f2c8a0b44c37e86ffb44e30.json  layer  1.671846e+09   \n",
       "0   b04f8b280a4094d590c662edc51743dfb298c9ec.json  layer  1.671846e+09   \n",
       "1   857126cff957908a79a36091ed5d77b661ace597.json  layer  1.671846e+09   \n",
       "32  a5ea21f82b9c4b66ee5784fe27a1c5cd0bd7669e.json  layer  1.671846e+09   \n",
       "\n",
       "    num_fewshot SEGMENT_AGG_SCHEME  hellaswag:acc WORD_AGG_SCHEME  \\\n",
       "11            5               None       0.291177            mean   \n",
       "26            5               None       0.291177            mean   \n",
       "3             5               None       0.283808            mean   \n",
       "21            5               None       0.283808            last   \n",
       "2             5               None       0.281916            mean   \n",
       "19            5               None       0.281717            mean   \n",
       "25            5               None       0.280223            mean   \n",
       "5             5               None       0.276339            mean   \n",
       "24            5               None       0.269767            mean   \n",
       "22            5               None       0.267078            last   \n",
       "31            5               None       0.265286            mean   \n",
       "28            5               None       0.264589            last   \n",
       "29            5               None       0.263294            mean   \n",
       "9             5               None       0.261601            mean   \n",
       "17            5               None       0.260307            mean   \n",
       "14            5               None       0.258813            mean   \n",
       "27            5               None       0.253336            mean   \n",
       "20            5               None       0.251743            last   \n",
       "30            5               None       0.251046            mean   \n",
       "12            5               None       0.250349            mean   \n",
       "15            5               None       0.248656            last   \n",
       "13            5               None       0.247461            mean   \n",
       "6             5               None       0.242880            mean   \n",
       "18            5               None       0.239395            mean   \n",
       "8             5               None       0.236805            last   \n",
       "7             5               None       0.235909            mean   \n",
       "16            5               None       0.235909            mean   \n",
       "23            5               None       0.228241            mean   \n",
       "4             5               None       0.223661            mean   \n",
       "10            5               None       0.216690            mean   \n",
       "0             5               None       0.216391            mean   \n",
       "1             5               None       0.215097            mean   \n",
       "32            5               None       0.212109            mean   \n",
       "\n",
       "   EXAMPLE_AGG_SCHEME ENCODING_LAYER               pretrained  \\\n",
       "11               None             12  EleutherAI/gpt-neo-1.3B   \n",
       "26               None         middle  EleutherAI/gpt-neo-1.3B   \n",
       "3                None             10  EleutherAI/gpt-neo-1.3B   \n",
       "21               None             23  EleutherAI/gpt-neo-1.3B   \n",
       "2                None             13  EleutherAI/gpt-neo-1.3B   \n",
       "19               None             14  EleutherAI/gpt-neo-1.3B   \n",
       "25               None             11  EleutherAI/gpt-neo-1.3B   \n",
       "5                None              9  EleutherAI/gpt-neo-1.3B   \n",
       "24               None              8  EleutherAI/gpt-neo-1.3B   \n",
       "22               None             22  EleutherAI/gpt-neo-1.3B   \n",
       "31               None              7  EleutherAI/gpt-neo-1.3B   \n",
       "28               None             24  EleutherAI/gpt-neo-1.3B   \n",
       "29               None             15  EleutherAI/gpt-neo-1.3B   \n",
       "9                None              6  EleutherAI/gpt-neo-1.3B   \n",
       "17               None              4  EleutherAI/gpt-neo-1.3B   \n",
       "14               None              5  EleutherAI/gpt-neo-1.3B   \n",
       "27               None              0  EleutherAI/gpt-neo-1.3B   \n",
       "20               None             21  EleutherAI/gpt-neo-1.3B   \n",
       "30               None              3  EleutherAI/gpt-neo-1.3B   \n",
       "12               None             16  EleutherAI/gpt-neo-1.3B   \n",
       "15               None             20  EleutherAI/gpt-neo-1.3B   \n",
       "13               None              1  EleutherAI/gpt-neo-1.3B   \n",
       "6                None              2  EleutherAI/gpt-neo-1.3B   \n",
       "18               None             17  EleutherAI/gpt-neo-1.3B   \n",
       "8                None             19  EleutherAI/gpt-neo-1.3B   \n",
       "7                None             24  EleutherAI/gpt-neo-1.3B   \n",
       "16               None           None  EleutherAI/gpt-neo-1.3B   \n",
       "23               None             23  EleutherAI/gpt-neo-1.3B   \n",
       "4                None             18  EleutherAI/gpt-neo-1.3B   \n",
       "10               None             20  EleutherAI/gpt-neo-1.3B   \n",
       "0                None             22  EleutherAI/gpt-neo-1.3B   \n",
       "1                None             21  EleutherAI/gpt-neo-1.3B   \n",
       "32               None             19  EleutherAI/gpt-neo-1.3B   \n",
       "\n",
       "        encoding_scheme model_type  hellaswag:acc_stderr SIMILARITY_FUNC  \\\n",
       "11  concat_all_examples   dist_sim              0.004534     dot_product   \n",
       "26  concat_all_examples   dist_sim              0.004534     dot_product   \n",
       "3   concat_all_examples   dist_sim              0.004499     dot_product   \n",
       "21  concat_all_examples   dist_sim              0.004499     dot_product   \n",
       "2   concat_all_examples   dist_sim              0.004490     dot_product   \n",
       "19  concat_all_examples   dist_sim              0.004489     dot_product   \n",
       "25  concat_all_examples   dist_sim              0.004482     dot_product   \n",
       "5   concat_all_examples   dist_sim              0.004463     dot_product   \n",
       "24  concat_all_examples   dist_sim              0.004429     dot_product   \n",
       "22  concat_all_examples   dist_sim              0.004415     dot_product   \n",
       "31  concat_all_examples   dist_sim              0.004406     dot_product   \n",
       "28  concat_all_examples   dist_sim              0.004402     dot_product   \n",
       "29  concat_all_examples   dist_sim              0.004395     dot_product   \n",
       "9   concat_all_examples   dist_sim              0.004386     dot_product   \n",
       "17  concat_all_examples   dist_sim              0.004379     dot_product   \n",
       "14  concat_all_examples   dist_sim              0.004371     dot_product   \n",
       "27  concat_all_examples   dist_sim              0.004340     dot_product   \n",
       "20  concat_all_examples   dist_sim              0.004331     dot_product   \n",
       "30  concat_all_examples   dist_sim              0.004327     dot_product   \n",
       "12  concat_all_examples   dist_sim              0.004323     dot_product   \n",
       "15  concat_all_examples   dist_sim              0.004314     dot_product   \n",
       "13  concat_all_examples   dist_sim              0.004307     dot_product   \n",
       "6   concat_all_examples   dist_sim              0.004279     dot_product   \n",
       "18  concat_all_examples   dist_sim              0.004258     dot_product   \n",
       "8   concat_all_examples   dist_sim              0.004243     dot_product   \n",
       "7   concat_all_examples   dist_sim              0.004237     dot_product   \n",
       "16  concat_all_examples   dist_sim              0.004237     dot_product   \n",
       "23  concat_all_examples   dist_sim              0.004188     dot_product   \n",
       "4   concat_all_examples   dist_sim              0.004158     dot_product   \n",
       "10  concat_all_examples   dist_sim              0.004111     dot_product   \n",
       "0   concat_all_examples   dist_sim              0.004109     dot_product   \n",
       "1   concat_all_examples   dist_sim              0.004100     dot_product   \n",
       "32  concat_all_examples   dist_sim              0.004080     dot_product   \n",
       "\n",
       "                                  date  \n",
       "11 2022-12-23 13:56:28.105793792-08:00  \n",
       "26 2022-12-23 13:19:25.000547328-08:00  \n",
       "3  2022-12-23 13:54:16.198949632-08:00  \n",
       "21 2022-12-23 18:15:07.878111744-08:00  \n",
       "2  2022-12-23 13:58:13.888862464-08:00  \n",
       "19 2022-12-23 14:26:37.905763328-08:00  \n",
       "25 2022-12-23 13:55:37.470238208-08:00  \n",
       "5  2022-12-23 13:54:22.030898688-08:00  \n",
       "24 2022-12-23 13:53:45.511217664-08:00  \n",
       "22 2022-12-23 18:14:31.862424576-08:00  \n",
       "31 2022-12-23 13:53:09.515531008-08:00  \n",
       "28 2022-12-23 18:15:50.493740288-08:00  \n",
       "29 2022-12-23 14:27:31.325286912-08:00  \n",
       "9  2022-12-23 13:52:34.603834624-08:00  \n",
       "17 2022-12-23 13:18:50.496872448-08:00  \n",
       "14 2022-12-23 13:18:30.765058304-08:00  \n",
       "27 2022-12-23 13:20:22.288007936-08:00  \n",
       "20 2022-12-23 18:14:10.546609408-08:00  \n",
       "30 2022-12-23 13:19:25.892539136-08:00  \n",
       "12 2022-12-23 14:28:22.420830976-08:00  \n",
       "15 2022-12-23 17:42:10.619675392-08:00  \n",
       "13 2022-12-23 13:21:15.147510784-08:00  \n",
       "6  2022-12-23 13:20:01.812200704-08:00  \n",
       "18 2022-12-23 14:29:09.956406784-08:00  \n",
       "8  2022-12-23 17:41:30.108034048-08:00  \n",
       "7  2022-12-23 17:40:32.608540928-08:00  \n",
       "16 2022-12-23 13:19:09.292695296-08:00  \n",
       "23 2022-12-23 17:39:42.792977920-08:00  \n",
       "4  2022-12-23 14:29:21.760301312-08:00  \n",
       "10 2022-12-23 17:40:00.732820736-08:00  \n",
       "0  2022-12-23 17:42:27.167528448-08:00  \n",
       "1  2022-12-23 17:40:17.476673792-08:00  \n",
       "32 2022-12-23 17:40:37.448498432-08:00  "
      ]
     },
     "execution_count": 18,
     "metadata": {},
     "output_type": "execute_result"
    }
   ],
   "source": [
    "df_hellaswag_sim4"
   ]
  },
  {
   "cell_type": "code",
   "execution_count": 16,
   "metadata": {},
   "outputs": [
    {
     "name": "stdout",
     "output_type": "stream",
     "text": [
      "metric cols regexp = re.compile('^((hellaswag:acc)).*')\n",
      "Following columns will be dropped: {'limit', 'hellaswag:rand_acc', 'hellaswag:rand_acc_stderr'}\n"
     ]
    },
    {
     "data": {
      "text/plain": [
       "NORM                                    layer\n",
       "num_fewshot                                 5\n",
       "SEGMENT_AGG_SCHEME                       None\n",
       "EXAMPLE_AGG_SCHEME                       None\n",
       "pretrained            EleutherAI/gpt-neo-1.3B\n",
       "encoding_scheme           concat_all_examples\n",
       "model_type                           dist_sim\n",
       "SIMILARITY_FUNC                   dot_product\n",
       "Name: Constant Variables, dtype: object"
      ]
     },
     "metadata": {},
     "output_type": "display_data"
    },
    {
     "data": {
      "application/vnd.plotly.v1+json": {
       "config": {
        "plotlyServerURL": "https://plot.ly"
       },
       "data": [
        {
         "arrangement": "freeform",
         "dimensions": [
          {
           "label": "WORD_AGG_SCHEME",
           "values": [
            "mean",
            "mean",
            "mean",
            "last",
            "mean",
            "mean",
            "mean",
            "mean",
            "mean",
            "last",
            "mean",
            "last",
            "mean",
            "mean",
            "mean",
            "mean",
            "mean",
            "last",
            "mean",
            "mean",
            "last",
            "mean",
            "mean",
            "mean",
            "last",
            "mean",
            "mean",
            "mean",
            "mean",
            "mean",
            "mean",
            "mean",
            "mean"
           ]
          },
          {
           "label": "ENCODING_LAYER",
           "values": [
            "12",
            "middle",
            "10",
            "23",
            "13",
            "14",
            "11",
            "9",
            "8",
            "22",
            "7",
            "24",
            "15",
            "6",
            "4",
            "5",
            "0",
            "21",
            "3",
            "16",
            "20",
            "1",
            "2",
            "17",
            "19",
            "24",
            null,
            "23",
            "18",
            "20",
            "22",
            "21",
            "19"
           ]
          },
          {
           "label": "hellaswag:acc",
           "values": [
            0.29117705636327423,
            0.29117705636327423,
            0.28380800637323245,
            0.28380800637323245,
            0.2819159529974109,
            0.2817167894841665,
            0.2802230631348337,
            0.27633937462656843,
            0.26976697868950406,
            0.26707827126070505,
            0.26528579964150567,
            0.2645887273451504,
            0.26329416450906196,
            0.26160127464648475,
            0.26030671181039633,
            0.2588129854610635,
            0.2533359888468433,
            0.2517426807408883,
            0.25104560844453294,
            0.25034853614817765,
            0.24865564628560047,
            0.24746066520613424,
            0.24287990440151364,
            0.2393945429197371,
            0.23680541724756024,
            0.23590918143796055,
            0.23590918143796055,
            0.22824138617805217,
            0.2236606253734316,
            0.2166899024098785,
            0.21639115714001195,
            0.21509659430392353,
            0.21210914160525793
           ]
          }
         ],
         "hoveron": "color",
         "line": {
          "color": [
           0.29117705636327423,
           0.29117705636327423,
           0.28380800637323245,
           0.28380800637323245,
           0.2819159529974109,
           0.2817167894841665,
           0.2802230631348337,
           0.27633937462656843,
           0.26976697868950406,
           0.26707827126070505,
           0.26528579964150567,
           0.2645887273451504,
           0.26329416450906196,
           0.26160127464648475,
           0.26030671181039633,
           0.2588129854610635,
           0.2533359888468433,
           0.2517426807408883,
           0.25104560844453294,
           0.25034853614817765,
           0.24865564628560047,
           0.24746066520613424,
           0.24287990440151364,
           0.2393945429197371,
           0.23680541724756024,
           0.23590918143796055,
           0.23590918143796055,
           0.22824138617805217,
           0.2236606253734316,
           0.2166899024098785,
           0.21639115714001195,
           0.21509659430392353,
           0.21210914160525793
          ],
          "coloraxis": "coloraxis"
         },
         "type": "parcats"
        }
       ],
       "layout": {
        "coloraxis": {
         "colorbar": {
          "len": 1,
          "lenmode": "fraction",
          "y": 1,
          "yanchor": "top"
         },
         "colorscale": [
          [
           0,
           "#00224e"
          ],
          [
           0.1111111111111111,
           "#123570"
          ],
          [
           0.2222222222222222,
           "#3b496c"
          ],
          [
           0.3333333333333333,
           "#575d6d"
          ],
          [
           0.4444444444444444,
           "#707173"
          ],
          [
           0.5555555555555556,
           "#8a8678"
          ],
          [
           0.6666666666666666,
           "#a59c74"
          ],
          [
           0.7777777777777778,
           "#c3b369"
          ],
          [
           0.8888888888888888,
           "#e1cc55"
          ],
          [
           1,
           "#fee838"
          ]
         ],
         "showscale": true
        },
        "height": 1500,
        "template": {
         "data": {
          "bar": [
           {
            "error_x": {
             "color": "#2a3f5f"
            },
            "error_y": {
             "color": "#2a3f5f"
            },
            "marker": {
             "line": {
              "color": "#E5ECF6",
              "width": 0.5
             },
             "pattern": {
              "fillmode": "overlay",
              "size": 10,
              "solidity": 0.2
             }
            },
            "type": "bar"
           }
          ],
          "barpolar": [
           {
            "marker": {
             "line": {
              "color": "#E5ECF6",
              "width": 0.5
             },
             "pattern": {
              "fillmode": "overlay",
              "size": 10,
              "solidity": 0.2
             }
            },
            "type": "barpolar"
           }
          ],
          "carpet": [
           {
            "aaxis": {
             "endlinecolor": "#2a3f5f",
             "gridcolor": "white",
             "linecolor": "white",
             "minorgridcolor": "white",
             "startlinecolor": "#2a3f5f"
            },
            "baxis": {
             "endlinecolor": "#2a3f5f",
             "gridcolor": "white",
             "linecolor": "white",
             "minorgridcolor": "white",
             "startlinecolor": "#2a3f5f"
            },
            "type": "carpet"
           }
          ],
          "choropleth": [
           {
            "colorbar": {
             "outlinewidth": 0,
             "ticks": ""
            },
            "type": "choropleth"
           }
          ],
          "contour": [
           {
            "colorbar": {
             "outlinewidth": 0,
             "ticks": ""
            },
            "colorscale": [
             [
              0,
              "#0d0887"
             ],
             [
              0.1111111111111111,
              "#46039f"
             ],
             [
              0.2222222222222222,
              "#7201a8"
             ],
             [
              0.3333333333333333,
              "#9c179e"
             ],
             [
              0.4444444444444444,
              "#bd3786"
             ],
             [
              0.5555555555555556,
              "#d8576b"
             ],
             [
              0.6666666666666666,
              "#ed7953"
             ],
             [
              0.7777777777777778,
              "#fb9f3a"
             ],
             [
              0.8888888888888888,
              "#fdca26"
             ],
             [
              1,
              "#f0f921"
             ]
            ],
            "type": "contour"
           }
          ],
          "contourcarpet": [
           {
            "colorbar": {
             "outlinewidth": 0,
             "ticks": ""
            },
            "type": "contourcarpet"
           }
          ],
          "heatmap": [
           {
            "colorbar": {
             "outlinewidth": 0,
             "ticks": ""
            },
            "colorscale": [
             [
              0,
              "#0d0887"
             ],
             [
              0.1111111111111111,
              "#46039f"
             ],
             [
              0.2222222222222222,
              "#7201a8"
             ],
             [
              0.3333333333333333,
              "#9c179e"
             ],
             [
              0.4444444444444444,
              "#bd3786"
             ],
             [
              0.5555555555555556,
              "#d8576b"
             ],
             [
              0.6666666666666666,
              "#ed7953"
             ],
             [
              0.7777777777777778,
              "#fb9f3a"
             ],
             [
              0.8888888888888888,
              "#fdca26"
             ],
             [
              1,
              "#f0f921"
             ]
            ],
            "type": "heatmap"
           }
          ],
          "heatmapgl": [
           {
            "colorbar": {
             "outlinewidth": 0,
             "ticks": ""
            },
            "colorscale": [
             [
              0,
              "#0d0887"
             ],
             [
              0.1111111111111111,
              "#46039f"
             ],
             [
              0.2222222222222222,
              "#7201a8"
             ],
             [
              0.3333333333333333,
              "#9c179e"
             ],
             [
              0.4444444444444444,
              "#bd3786"
             ],
             [
              0.5555555555555556,
              "#d8576b"
             ],
             [
              0.6666666666666666,
              "#ed7953"
             ],
             [
              0.7777777777777778,
              "#fb9f3a"
             ],
             [
              0.8888888888888888,
              "#fdca26"
             ],
             [
              1,
              "#f0f921"
             ]
            ],
            "type": "heatmapgl"
           }
          ],
          "histogram": [
           {
            "marker": {
             "pattern": {
              "fillmode": "overlay",
              "size": 10,
              "solidity": 0.2
             }
            },
            "type": "histogram"
           }
          ],
          "histogram2d": [
           {
            "colorbar": {
             "outlinewidth": 0,
             "ticks": ""
            },
            "colorscale": [
             [
              0,
              "#0d0887"
             ],
             [
              0.1111111111111111,
              "#46039f"
             ],
             [
              0.2222222222222222,
              "#7201a8"
             ],
             [
              0.3333333333333333,
              "#9c179e"
             ],
             [
              0.4444444444444444,
              "#bd3786"
             ],
             [
              0.5555555555555556,
              "#d8576b"
             ],
             [
              0.6666666666666666,
              "#ed7953"
             ],
             [
              0.7777777777777778,
              "#fb9f3a"
             ],
             [
              0.8888888888888888,
              "#fdca26"
             ],
             [
              1,
              "#f0f921"
             ]
            ],
            "type": "histogram2d"
           }
          ],
          "histogram2dcontour": [
           {
            "colorbar": {
             "outlinewidth": 0,
             "ticks": ""
            },
            "colorscale": [
             [
              0,
              "#0d0887"
             ],
             [
              0.1111111111111111,
              "#46039f"
             ],
             [
              0.2222222222222222,
              "#7201a8"
             ],
             [
              0.3333333333333333,
              "#9c179e"
             ],
             [
              0.4444444444444444,
              "#bd3786"
             ],
             [
              0.5555555555555556,
              "#d8576b"
             ],
             [
              0.6666666666666666,
              "#ed7953"
             ],
             [
              0.7777777777777778,
              "#fb9f3a"
             ],
             [
              0.8888888888888888,
              "#fdca26"
             ],
             [
              1,
              "#f0f921"
             ]
            ],
            "type": "histogram2dcontour"
           }
          ],
          "mesh3d": [
           {
            "colorbar": {
             "outlinewidth": 0,
             "ticks": ""
            },
            "type": "mesh3d"
           }
          ],
          "parcoords": [
           {
            "line": {
             "colorbar": {
              "outlinewidth": 0,
              "ticks": ""
             }
            },
            "type": "parcoords"
           }
          ],
          "pie": [
           {
            "automargin": true,
            "type": "pie"
           }
          ],
          "scatter": [
           {
            "fillpattern": {
             "fillmode": "overlay",
             "size": 10,
             "solidity": 0.2
            },
            "type": "scatter"
           }
          ],
          "scatter3d": [
           {
            "line": {
             "colorbar": {
              "outlinewidth": 0,
              "ticks": ""
             }
            },
            "marker": {
             "colorbar": {
              "outlinewidth": 0,
              "ticks": ""
             }
            },
            "type": "scatter3d"
           }
          ],
          "scattercarpet": [
           {
            "marker": {
             "colorbar": {
              "outlinewidth": 0,
              "ticks": ""
             }
            },
            "type": "scattercarpet"
           }
          ],
          "scattergeo": [
           {
            "marker": {
             "colorbar": {
              "outlinewidth": 0,
              "ticks": ""
             }
            },
            "type": "scattergeo"
           }
          ],
          "scattergl": [
           {
            "marker": {
             "colorbar": {
              "outlinewidth": 0,
              "ticks": ""
             }
            },
            "type": "scattergl"
           }
          ],
          "scattermapbox": [
           {
            "marker": {
             "colorbar": {
              "outlinewidth": 0,
              "ticks": ""
             }
            },
            "type": "scattermapbox"
           }
          ],
          "scatterpolar": [
           {
            "marker": {
             "colorbar": {
              "outlinewidth": 0,
              "ticks": ""
             }
            },
            "type": "scatterpolar"
           }
          ],
          "scatterpolargl": [
           {
            "marker": {
             "colorbar": {
              "outlinewidth": 0,
              "ticks": ""
             }
            },
            "type": "scatterpolargl"
           }
          ],
          "scatterternary": [
           {
            "marker": {
             "colorbar": {
              "outlinewidth": 0,
              "ticks": ""
             }
            },
            "type": "scatterternary"
           }
          ],
          "surface": [
           {
            "colorbar": {
             "outlinewidth": 0,
             "ticks": ""
            },
            "colorscale": [
             [
              0,
              "#0d0887"
             ],
             [
              0.1111111111111111,
              "#46039f"
             ],
             [
              0.2222222222222222,
              "#7201a8"
             ],
             [
              0.3333333333333333,
              "#9c179e"
             ],
             [
              0.4444444444444444,
              "#bd3786"
             ],
             [
              0.5555555555555556,
              "#d8576b"
             ],
             [
              0.6666666666666666,
              "#ed7953"
             ],
             [
              0.7777777777777778,
              "#fb9f3a"
             ],
             [
              0.8888888888888888,
              "#fdca26"
             ],
             [
              1,
              "#f0f921"
             ]
            ],
            "type": "surface"
           }
          ],
          "table": [
           {
            "cells": {
             "fill": {
              "color": "#EBF0F8"
             },
             "line": {
              "color": "white"
             }
            },
            "header": {
             "fill": {
              "color": "#C8D4E3"
             },
             "line": {
              "color": "white"
             }
            },
            "type": "table"
           }
          ]
         },
         "layout": {
          "annotationdefaults": {
           "arrowcolor": "#2a3f5f",
           "arrowhead": 0,
           "arrowwidth": 1
          },
          "autotypenumbers": "strict",
          "coloraxis": {
           "colorbar": {
            "outlinewidth": 0,
            "ticks": ""
           }
          },
          "colorscale": {
           "diverging": [
            [
             0,
             "#8e0152"
            ],
            [
             0.1,
             "#c51b7d"
            ],
            [
             0.2,
             "#de77ae"
            ],
            [
             0.3,
             "#f1b6da"
            ],
            [
             0.4,
             "#fde0ef"
            ],
            [
             0.5,
             "#f7f7f7"
            ],
            [
             0.6,
             "#e6f5d0"
            ],
            [
             0.7,
             "#b8e186"
            ],
            [
             0.8,
             "#7fbc41"
            ],
            [
             0.9,
             "#4d9221"
            ],
            [
             1,
             "#276419"
            ]
           ],
           "sequential": [
            [
             0,
             "#0d0887"
            ],
            [
             0.1111111111111111,
             "#46039f"
            ],
            [
             0.2222222222222222,
             "#7201a8"
            ],
            [
             0.3333333333333333,
             "#9c179e"
            ],
            [
             0.4444444444444444,
             "#bd3786"
            ],
            [
             0.5555555555555556,
             "#d8576b"
            ],
            [
             0.6666666666666666,
             "#ed7953"
            ],
            [
             0.7777777777777778,
             "#fb9f3a"
            ],
            [
             0.8888888888888888,
             "#fdca26"
            ],
            [
             1,
             "#f0f921"
            ]
           ],
           "sequentialminus": [
            [
             0,
             "#0d0887"
            ],
            [
             0.1111111111111111,
             "#46039f"
            ],
            [
             0.2222222222222222,
             "#7201a8"
            ],
            [
             0.3333333333333333,
             "#9c179e"
            ],
            [
             0.4444444444444444,
             "#bd3786"
            ],
            [
             0.5555555555555556,
             "#d8576b"
            ],
            [
             0.6666666666666666,
             "#ed7953"
            ],
            [
             0.7777777777777778,
             "#fb9f3a"
            ],
            [
             0.8888888888888888,
             "#fdca26"
            ],
            [
             1,
             "#f0f921"
            ]
           ]
          },
          "colorway": [
           "#636efa",
           "#EF553B",
           "#00cc96",
           "#ab63fa",
           "#FFA15A",
           "#19d3f3",
           "#FF6692",
           "#B6E880",
           "#FF97FF",
           "#FECB52"
          ],
          "font": {
           "color": "#2a3f5f"
          },
          "geo": {
           "bgcolor": "white",
           "lakecolor": "white",
           "landcolor": "#E5ECF6",
           "showlakes": true,
           "showland": true,
           "subunitcolor": "white"
          },
          "hoverlabel": {
           "align": "left"
          },
          "hovermode": "closest",
          "mapbox": {
           "style": "light"
          },
          "paper_bgcolor": "white",
          "plot_bgcolor": "#E5ECF6",
          "polar": {
           "angularaxis": {
            "gridcolor": "white",
            "linecolor": "white",
            "ticks": ""
           },
           "bgcolor": "#E5ECF6",
           "radialaxis": {
            "gridcolor": "white",
            "linecolor": "white",
            "ticks": ""
           }
          },
          "scene": {
           "xaxis": {
            "backgroundcolor": "#E5ECF6",
            "gridcolor": "white",
            "gridwidth": 2,
            "linecolor": "white",
            "showbackground": true,
            "ticks": "",
            "zerolinecolor": "white"
           },
           "yaxis": {
            "backgroundcolor": "#E5ECF6",
            "gridcolor": "white",
            "gridwidth": 2,
            "linecolor": "white",
            "showbackground": true,
            "ticks": "",
            "zerolinecolor": "white"
           },
           "zaxis": {
            "backgroundcolor": "#E5ECF6",
            "gridcolor": "white",
            "gridwidth": 2,
            "linecolor": "white",
            "showbackground": true,
            "ticks": "",
            "zerolinecolor": "white"
           }
          },
          "shapedefaults": {
           "line": {
            "color": "#2a3f5f"
           }
          },
          "ternary": {
           "aaxis": {
            "gridcolor": "white",
            "linecolor": "white",
            "ticks": ""
           },
           "baxis": {
            "gridcolor": "white",
            "linecolor": "white",
            "ticks": ""
           },
           "bgcolor": "#E5ECF6",
           "caxis": {
            "gridcolor": "white",
            "linecolor": "white",
            "ticks": ""
           }
          },
          "title": {
           "x": 0.05
          },
          "xaxis": {
           "automargin": true,
           "gridcolor": "white",
           "linecolor": "white",
           "ticks": "",
           "title": {
            "standoff": 15
           },
           "zerolinecolor": "white",
           "zerolinewidth": 2
          },
          "yaxis": {
           "automargin": true,
           "gridcolor": "white",
           "linecolor": "white",
           "ticks": "",
           "title": {
            "standoff": 15
           },
           "zerolinecolor": "white",
           "zerolinewidth": 2
          }
         }
        }
       }
      },
      "text/html": [
       "<div>                            <div id=\"2e4de39d-25c6-44ef-96fc-6888ea586745\" class=\"plotly-graph-div\" style=\"height:1500px; width:100%;\"></div>            <script type=\"text/javascript\">                require([\"plotly\"], function(Plotly) {                    window.PLOTLYENV=window.PLOTLYENV || {};                                    if (document.getElementById(\"2e4de39d-25c6-44ef-96fc-6888ea586745\")) {                    Plotly.newPlot(                        \"2e4de39d-25c6-44ef-96fc-6888ea586745\",                        [{\"arrangement\":\"freeform\",\"dimensions\":[{\"label\":\"WORD_AGG_SCHEME\",\"values\":[\"mean\",\"mean\",\"mean\",\"last\",\"mean\",\"mean\",\"mean\",\"mean\",\"mean\",\"last\",\"mean\",\"last\",\"mean\",\"mean\",\"mean\",\"mean\",\"mean\",\"last\",\"mean\",\"mean\",\"last\",\"mean\",\"mean\",\"mean\",\"last\",\"mean\",\"mean\",\"mean\",\"mean\",\"mean\",\"mean\",\"mean\",\"mean\"]},{\"label\":\"ENCODING_LAYER\",\"values\":[\"12\",\"middle\",\"10\",\"23\",\"13\",\"14\",\"11\",\"9\",\"8\",\"22\",\"7\",\"24\",\"15\",\"6\",\"4\",\"5\",\"0\",\"21\",\"3\",\"16\",\"20\",\"1\",\"2\",\"17\",\"19\",\"24\",null,\"23\",\"18\",\"20\",\"22\",\"21\",\"19\"]},{\"label\":\"hellaswag:acc\",\"values\":[0.29117705636327423,0.29117705636327423,0.28380800637323245,0.28380800637323245,0.2819159529974109,0.2817167894841665,0.2802230631348337,0.27633937462656843,0.26976697868950406,0.26707827126070505,0.26528579964150567,0.2645887273451504,0.26329416450906196,0.26160127464648475,0.26030671181039633,0.2588129854610635,0.2533359888468433,0.2517426807408883,0.25104560844453294,0.25034853614817765,0.24865564628560047,0.24746066520613424,0.24287990440151364,0.2393945429197371,0.23680541724756024,0.23590918143796055,0.23590918143796055,0.22824138617805217,0.2236606253734316,0.2166899024098785,0.21639115714001195,0.21509659430392353,0.21210914160525793]}],\"hoveron\":\"color\",\"line\":{\"color\":[0.29117705636327423,0.29117705636327423,0.28380800637323245,0.28380800637323245,0.2819159529974109,0.2817167894841665,0.2802230631348337,0.27633937462656843,0.26976697868950406,0.26707827126070505,0.26528579964150567,0.2645887273451504,0.26329416450906196,0.26160127464648475,0.26030671181039633,0.2588129854610635,0.2533359888468433,0.2517426807408883,0.25104560844453294,0.25034853614817765,0.24865564628560047,0.24746066520613424,0.24287990440151364,0.2393945429197371,0.23680541724756024,0.23590918143796055,0.23590918143796055,0.22824138617805217,0.2236606253734316,0.2166899024098785,0.21639115714001195,0.21509659430392353,0.21210914160525793],\"coloraxis\":\"coloraxis\"},\"type\":\"parcats\"}],                        {\"template\":{\"data\":{\"histogram2dcontour\":[{\"type\":\"histogram2dcontour\",\"colorbar\":{\"outlinewidth\":0,\"ticks\":\"\"},\"colorscale\":[[0.0,\"#0d0887\"],[0.1111111111111111,\"#46039f\"],[0.2222222222222222,\"#7201a8\"],[0.3333333333333333,\"#9c179e\"],[0.4444444444444444,\"#bd3786\"],[0.5555555555555556,\"#d8576b\"],[0.6666666666666666,\"#ed7953\"],[0.7777777777777778,\"#fb9f3a\"],[0.8888888888888888,\"#fdca26\"],[1.0,\"#f0f921\"]]}],\"choropleth\":[{\"type\":\"choropleth\",\"colorbar\":{\"outlinewidth\":0,\"ticks\":\"\"}}],\"histogram2d\":[{\"type\":\"histogram2d\",\"colorbar\":{\"outlinewidth\":0,\"ticks\":\"\"},\"colorscale\":[[0.0,\"#0d0887\"],[0.1111111111111111,\"#46039f\"],[0.2222222222222222,\"#7201a8\"],[0.3333333333333333,\"#9c179e\"],[0.4444444444444444,\"#bd3786\"],[0.5555555555555556,\"#d8576b\"],[0.6666666666666666,\"#ed7953\"],[0.7777777777777778,\"#fb9f3a\"],[0.8888888888888888,\"#fdca26\"],[1.0,\"#f0f921\"]]}],\"heatmap\":[{\"type\":\"heatmap\",\"colorbar\":{\"outlinewidth\":0,\"ticks\":\"\"},\"colorscale\":[[0.0,\"#0d0887\"],[0.1111111111111111,\"#46039f\"],[0.2222222222222222,\"#7201a8\"],[0.3333333333333333,\"#9c179e\"],[0.4444444444444444,\"#bd3786\"],[0.5555555555555556,\"#d8576b\"],[0.6666666666666666,\"#ed7953\"],[0.7777777777777778,\"#fb9f3a\"],[0.8888888888888888,\"#fdca26\"],[1.0,\"#f0f921\"]]}],\"heatmapgl\":[{\"type\":\"heatmapgl\",\"colorbar\":{\"outlinewidth\":0,\"ticks\":\"\"},\"colorscale\":[[0.0,\"#0d0887\"],[0.1111111111111111,\"#46039f\"],[0.2222222222222222,\"#7201a8\"],[0.3333333333333333,\"#9c179e\"],[0.4444444444444444,\"#bd3786\"],[0.5555555555555556,\"#d8576b\"],[0.6666666666666666,\"#ed7953\"],[0.7777777777777778,\"#fb9f3a\"],[0.8888888888888888,\"#fdca26\"],[1.0,\"#f0f921\"]]}],\"contourcarpet\":[{\"type\":\"contourcarpet\",\"colorbar\":{\"outlinewidth\":0,\"ticks\":\"\"}}],\"contour\":[{\"type\":\"contour\",\"colorbar\":{\"outlinewidth\":0,\"ticks\":\"\"},\"colorscale\":[[0.0,\"#0d0887\"],[0.1111111111111111,\"#46039f\"],[0.2222222222222222,\"#7201a8\"],[0.3333333333333333,\"#9c179e\"],[0.4444444444444444,\"#bd3786\"],[0.5555555555555556,\"#d8576b\"],[0.6666666666666666,\"#ed7953\"],[0.7777777777777778,\"#fb9f3a\"],[0.8888888888888888,\"#fdca26\"],[1.0,\"#f0f921\"]]}],\"surface\":[{\"type\":\"surface\",\"colorbar\":{\"outlinewidth\":0,\"ticks\":\"\"},\"colorscale\":[[0.0,\"#0d0887\"],[0.1111111111111111,\"#46039f\"],[0.2222222222222222,\"#7201a8\"],[0.3333333333333333,\"#9c179e\"],[0.4444444444444444,\"#bd3786\"],[0.5555555555555556,\"#d8576b\"],[0.6666666666666666,\"#ed7953\"],[0.7777777777777778,\"#fb9f3a\"],[0.8888888888888888,\"#fdca26\"],[1.0,\"#f0f921\"]]}],\"mesh3d\":[{\"type\":\"mesh3d\",\"colorbar\":{\"outlinewidth\":0,\"ticks\":\"\"}}],\"scatter\":[{\"fillpattern\":{\"fillmode\":\"overlay\",\"size\":10,\"solidity\":0.2},\"type\":\"scatter\"}],\"parcoords\":[{\"type\":\"parcoords\",\"line\":{\"colorbar\":{\"outlinewidth\":0,\"ticks\":\"\"}}}],\"scatterpolargl\":[{\"type\":\"scatterpolargl\",\"marker\":{\"colorbar\":{\"outlinewidth\":0,\"ticks\":\"\"}}}],\"bar\":[{\"error_x\":{\"color\":\"#2a3f5f\"},\"error_y\":{\"color\":\"#2a3f5f\"},\"marker\":{\"line\":{\"color\":\"#E5ECF6\",\"width\":0.5},\"pattern\":{\"fillmode\":\"overlay\",\"size\":10,\"solidity\":0.2}},\"type\":\"bar\"}],\"scattergeo\":[{\"type\":\"scattergeo\",\"marker\":{\"colorbar\":{\"outlinewidth\":0,\"ticks\":\"\"}}}],\"scatterpolar\":[{\"type\":\"scatterpolar\",\"marker\":{\"colorbar\":{\"outlinewidth\":0,\"ticks\":\"\"}}}],\"histogram\":[{\"marker\":{\"pattern\":{\"fillmode\":\"overlay\",\"size\":10,\"solidity\":0.2}},\"type\":\"histogram\"}],\"scattergl\":[{\"type\":\"scattergl\",\"marker\":{\"colorbar\":{\"outlinewidth\":0,\"ticks\":\"\"}}}],\"scatter3d\":[{\"type\":\"scatter3d\",\"line\":{\"colorbar\":{\"outlinewidth\":0,\"ticks\":\"\"}},\"marker\":{\"colorbar\":{\"outlinewidth\":0,\"ticks\":\"\"}}}],\"scattermapbox\":[{\"type\":\"scattermapbox\",\"marker\":{\"colorbar\":{\"outlinewidth\":0,\"ticks\":\"\"}}}],\"scatterternary\":[{\"type\":\"scatterternary\",\"marker\":{\"colorbar\":{\"outlinewidth\":0,\"ticks\":\"\"}}}],\"scattercarpet\":[{\"type\":\"scattercarpet\",\"marker\":{\"colorbar\":{\"outlinewidth\":0,\"ticks\":\"\"}}}],\"carpet\":[{\"aaxis\":{\"endlinecolor\":\"#2a3f5f\",\"gridcolor\":\"white\",\"linecolor\":\"white\",\"minorgridcolor\":\"white\",\"startlinecolor\":\"#2a3f5f\"},\"baxis\":{\"endlinecolor\":\"#2a3f5f\",\"gridcolor\":\"white\",\"linecolor\":\"white\",\"minorgridcolor\":\"white\",\"startlinecolor\":\"#2a3f5f\"},\"type\":\"carpet\"}],\"table\":[{\"cells\":{\"fill\":{\"color\":\"#EBF0F8\"},\"line\":{\"color\":\"white\"}},\"header\":{\"fill\":{\"color\":\"#C8D4E3\"},\"line\":{\"color\":\"white\"}},\"type\":\"table\"}],\"barpolar\":[{\"marker\":{\"line\":{\"color\":\"#E5ECF6\",\"width\":0.5},\"pattern\":{\"fillmode\":\"overlay\",\"size\":10,\"solidity\":0.2}},\"type\":\"barpolar\"}],\"pie\":[{\"automargin\":true,\"type\":\"pie\"}]},\"layout\":{\"autotypenumbers\":\"strict\",\"colorway\":[\"#636efa\",\"#EF553B\",\"#00cc96\",\"#ab63fa\",\"#FFA15A\",\"#19d3f3\",\"#FF6692\",\"#B6E880\",\"#FF97FF\",\"#FECB52\"],\"font\":{\"color\":\"#2a3f5f\"},\"hovermode\":\"closest\",\"hoverlabel\":{\"align\":\"left\"},\"paper_bgcolor\":\"white\",\"plot_bgcolor\":\"#E5ECF6\",\"polar\":{\"bgcolor\":\"#E5ECF6\",\"angularaxis\":{\"gridcolor\":\"white\",\"linecolor\":\"white\",\"ticks\":\"\"},\"radialaxis\":{\"gridcolor\":\"white\",\"linecolor\":\"white\",\"ticks\":\"\"}},\"ternary\":{\"bgcolor\":\"#E5ECF6\",\"aaxis\":{\"gridcolor\":\"white\",\"linecolor\":\"white\",\"ticks\":\"\"},\"baxis\":{\"gridcolor\":\"white\",\"linecolor\":\"white\",\"ticks\":\"\"},\"caxis\":{\"gridcolor\":\"white\",\"linecolor\":\"white\",\"ticks\":\"\"}},\"coloraxis\":{\"colorbar\":{\"outlinewidth\":0,\"ticks\":\"\"}},\"colorscale\":{\"sequential\":[[0.0,\"#0d0887\"],[0.1111111111111111,\"#46039f\"],[0.2222222222222222,\"#7201a8\"],[0.3333333333333333,\"#9c179e\"],[0.4444444444444444,\"#bd3786\"],[0.5555555555555556,\"#d8576b\"],[0.6666666666666666,\"#ed7953\"],[0.7777777777777778,\"#fb9f3a\"],[0.8888888888888888,\"#fdca26\"],[1.0,\"#f0f921\"]],\"sequentialminus\":[[0.0,\"#0d0887\"],[0.1111111111111111,\"#46039f\"],[0.2222222222222222,\"#7201a8\"],[0.3333333333333333,\"#9c179e\"],[0.4444444444444444,\"#bd3786\"],[0.5555555555555556,\"#d8576b\"],[0.6666666666666666,\"#ed7953\"],[0.7777777777777778,\"#fb9f3a\"],[0.8888888888888888,\"#fdca26\"],[1.0,\"#f0f921\"]],\"diverging\":[[0,\"#8e0152\"],[0.1,\"#c51b7d\"],[0.2,\"#de77ae\"],[0.3,\"#f1b6da\"],[0.4,\"#fde0ef\"],[0.5,\"#f7f7f7\"],[0.6,\"#e6f5d0\"],[0.7,\"#b8e186\"],[0.8,\"#7fbc41\"],[0.9,\"#4d9221\"],[1,\"#276419\"]]},\"xaxis\":{\"gridcolor\":\"white\",\"linecolor\":\"white\",\"ticks\":\"\",\"title\":{\"standoff\":15},\"zerolinecolor\":\"white\",\"automargin\":true,\"zerolinewidth\":2},\"yaxis\":{\"gridcolor\":\"white\",\"linecolor\":\"white\",\"ticks\":\"\",\"title\":{\"standoff\":15},\"zerolinecolor\":\"white\",\"automargin\":true,\"zerolinewidth\":2},\"scene\":{\"xaxis\":{\"backgroundcolor\":\"#E5ECF6\",\"gridcolor\":\"white\",\"linecolor\":\"white\",\"showbackground\":true,\"ticks\":\"\",\"zerolinecolor\":\"white\",\"gridwidth\":2},\"yaxis\":{\"backgroundcolor\":\"#E5ECF6\",\"gridcolor\":\"white\",\"linecolor\":\"white\",\"showbackground\":true,\"ticks\":\"\",\"zerolinecolor\":\"white\",\"gridwidth\":2},\"zaxis\":{\"backgroundcolor\":\"#E5ECF6\",\"gridcolor\":\"white\",\"linecolor\":\"white\",\"showbackground\":true,\"ticks\":\"\",\"zerolinecolor\":\"white\",\"gridwidth\":2}},\"shapedefaults\":{\"line\":{\"color\":\"#2a3f5f\"}},\"annotationdefaults\":{\"arrowcolor\":\"#2a3f5f\",\"arrowhead\":0,\"arrowwidth\":1},\"geo\":{\"bgcolor\":\"white\",\"landcolor\":\"#E5ECF6\",\"subunitcolor\":\"white\",\"showland\":true,\"showlakes\":true,\"lakecolor\":\"white\"},\"title\":{\"x\":0.05},\"mapbox\":{\"style\":\"light\"}}},\"coloraxis\":{\"colorbar\":{\"lenmode\":\"fraction\",\"len\":1.0,\"yanchor\":\"top\",\"y\":1.0},\"colorscale\":[[0.0,\"#00224e\"],[0.1111111111111111,\"#123570\"],[0.2222222222222222,\"#3b496c\"],[0.3333333333333333,\"#575d6d\"],[0.4444444444444444,\"#707173\"],[0.5555555555555556,\"#8a8678\"],[0.6666666666666666,\"#a59c74\"],[0.7777777777777778,\"#c3b369\"],[0.8888888888888888,\"#e1cc55\"],[1.0,\"#fee838\"]],\"showscale\":true},\"height\":1500},                        {\"responsive\": true}                    ).then(function(){\n",
       "                            \n",
       "var gd = document.getElementById('2e4de39d-25c6-44ef-96fc-6888ea586745');\n",
       "var x = new MutationObserver(function (mutations, observer) {{\n",
       "        var display = window.getComputedStyle(gd).display;\n",
       "        if (!display || display === 'none') {{\n",
       "            console.log([gd, 'removed!']);\n",
       "            Plotly.purge(gd);\n",
       "            observer.disconnect();\n",
       "        }}\n",
       "}});\n",
       "\n",
       "// Listen for the removal of the full notebook cells\n",
       "var notebookContainer = gd.closest('#notebook-container');\n",
       "if (notebookContainer) {{\n",
       "    x.observe(notebookContainer, {childList: true});\n",
       "}}\n",
       "\n",
       "// Listen for the clearing of the current output cell\n",
       "var outputEl = gd.closest('.output');\n",
       "if (outputEl) {{\n",
       "    x.observe(outputEl, {childList: true});\n",
       "}}\n",
       "\n",
       "                        })                };                });            </script>        </div>"
      ]
     },
     "metadata": {},
     "output_type": "display_data"
    }
   ],
   "source": [
    "all_df_sim4 = read_results(dir = '../lmeval_results_sim')\n",
    "df_hellaswag_sim4 = task_metrics(all_df_sim4, ['hellaswag:acc'], sort_metrics=['hellaswag:acc'])\n",
    "# df_hellaswag_sim4\n",
    "fig_parcats(df_hellaswag_sim4, 'hellaswag:acc', ['hellaswag:acc_stderr', 'mtime', 'filename', 'date'], height=1500)"
   ]
  },
  {
   "cell_type": "code",
   "execution_count": 3,
   "metadata": {},
   "outputs": [
    {
     "name": "stdout",
     "output_type": "stream",
     "text": [
      "metric cols regexp = re.compile('^((hellaswag:acc)).*')\n",
      "Following columns will be dropped: {'hellaswag:rand_acc_stderr', 'limit', 'hellaswag:rand_acc'}\n"
     ]
    },
    {
     "data": {
      "text/html": [
       "<div>\n",
       "<style scoped>\n",
       "    .dataframe tbody tr th:only-of-type {\n",
       "        vertical-align: middle;\n",
       "    }\n",
       "\n",
       "    .dataframe tbody tr th {\n",
       "        vertical-align: top;\n",
       "    }\n",
       "\n",
       "    .dataframe thead th {\n",
       "        text-align: right;\n",
       "    }\n",
       "</style>\n",
       "<table border=\"1\" class=\"dataframe\">\n",
       "  <thead>\n",
       "    <tr style=\"text-align: right;\">\n",
       "      <th></th>\n",
       "      <th>filename</th>\n",
       "      <th>num_fewshot</th>\n",
       "      <th>pretrained</th>\n",
       "      <th>SEGMENT_AGG_SCHEME</th>\n",
       "      <th>hellaswag:acc_stderr</th>\n",
       "      <th>NORM</th>\n",
       "      <th>EXAMPLE_AGG_SCHEME</th>\n",
       "      <th>SIMILARITY_FUNC</th>\n",
       "      <th>WORD_AGG_SCHEME</th>\n",
       "      <th>model_type</th>\n",
       "      <th>hellaswag:acc</th>\n",
       "      <th>ENCODING_LAYER</th>\n",
       "      <th>mtime</th>\n",
       "      <th>encoding_scheme</th>\n",
       "      <th>date</th>\n",
       "    </tr>\n",
       "  </thead>\n",
       "  <tbody>\n",
       "    <tr>\n",
       "      <th>56</th>\n",
       "      <td>b89708c3804ffe013c2c82685f2c6927ca4840f2.json</td>\n",
       "      <td>5</td>\n",
       "      <td>EleutherAI/gpt-neo-1.3B</td>\n",
       "      <td>None</td>\n",
       "      <td>0.004534</td>\n",
       "      <td>layer</td>\n",
       "      <td>None</td>\n",
       "      <td>dot_product</td>\n",
       "      <td>mean</td>\n",
       "      <td>dist_sim</td>\n",
       "      <td>0.291177</td>\n",
       "      <td>middle</td>\n",
       "      <td>1.670967e+09</td>\n",
       "      <td>concat_all_examples</td>\n",
       "      <td>2022-12-13 13:22:00.695954688-08:00</td>\n",
       "    </tr>\n",
       "    <tr>\n",
       "      <th>26</th>\n",
       "      <td>1ce5fc21b3d0668d2e067d317391e11c20a84c47.json</td>\n",
       "      <td>5</td>\n",
       "      <td>EleutherAI/gpt-neo-1.3B</td>\n",
       "      <td>None</td>\n",
       "      <td>0.004534</td>\n",
       "      <td>layer</td>\n",
       "      <td>soft_cluster</td>\n",
       "      <td>dot_product</td>\n",
       "      <td>mean</td>\n",
       "      <td>dist_sim</td>\n",
       "      <td>0.291177</td>\n",
       "      <td>middle</td>\n",
       "      <td>1.670967e+09</td>\n",
       "      <td>concat_all_examples</td>\n",
       "      <td>2022-12-13 13:22:28.839707648-08:00</td>\n",
       "    </tr>\n",
       "    <tr>\n",
       "      <th>25</th>\n",
       "      <td>e9dd4d906aa3c5d6e83ed55450cf364768d5ca4b.json</td>\n",
       "      <td>5</td>\n",
       "      <td>EleutherAI/gpt-neo-1.3B</td>\n",
       "      <td>mean</td>\n",
       "      <td>0.004534</td>\n",
       "      <td>layer</td>\n",
       "      <td>soft_cluster</td>\n",
       "      <td>dot_product</td>\n",
       "      <td>mean</td>\n",
       "      <td>dist_sim</td>\n",
       "      <td>0.291177</td>\n",
       "      <td>middle</td>\n",
       "      <td>1.670967e+09</td>\n",
       "      <td>concat_all_examples</td>\n",
       "      <td>2022-12-13 13:23:16.643286528-08:00</td>\n",
       "    </tr>\n",
       "    <tr>\n",
       "      <th>24</th>\n",
       "      <td>ed318001f2e6e8c658aee3df51dfbcba45fef2bc.json</td>\n",
       "      <td>5</td>\n",
       "      <td>EleutherAI/gpt-neo-1.3B</td>\n",
       "      <td>mean</td>\n",
       "      <td>0.004534</td>\n",
       "      <td>layer</td>\n",
       "      <td>None</td>\n",
       "      <td>dot_product</td>\n",
       "      <td>mean</td>\n",
       "      <td>dist_sim</td>\n",
       "      <td>0.291177</td>\n",
       "      <td>middle</td>\n",
       "      <td>1.670967e+09</td>\n",
       "      <td>concat_all_examples</td>\n",
       "      <td>2022-12-13 13:23:00.119432192-08:00</td>\n",
       "    </tr>\n",
       "    <tr>\n",
       "      <th>46</th>\n",
       "      <td>59be8ce9b518ad6dc24748aa31b9be78deb25a52.json</td>\n",
       "      <td>0</td>\n",
       "      <td>EleutherAI/gpt-neo-1.3B</td>\n",
       "      <td>None</td>\n",
       "      <td>0.004528</td>\n",
       "      <td>layer</td>\n",
       "      <td>None</td>\n",
       "      <td>cosine_sim</td>\n",
       "      <td>mean</td>\n",
       "      <td>dist_sim</td>\n",
       "      <td>0.289882</td>\n",
       "      <td>NaN</td>\n",
       "      <td>1.668115e+09</td>\n",
       "      <td>concat_all_examples</td>\n",
       "      <td>2022-11-10 13:19:26.346697728-08:00</td>\n",
       "    </tr>\n",
       "    <tr>\n",
       "      <th>...</th>\n",
       "      <td>...</td>\n",
       "      <td>...</td>\n",
       "      <td>...</td>\n",
       "      <td>...</td>\n",
       "      <td>...</td>\n",
       "      <td>...</td>\n",
       "      <td>...</td>\n",
       "      <td>...</td>\n",
       "      <td>...</td>\n",
       "      <td>...</td>\n",
       "      <td>...</td>\n",
       "      <td>...</td>\n",
       "      <td>...</td>\n",
       "      <td>...</td>\n",
       "      <td>...</td>\n",
       "    </tr>\n",
       "    <tr>\n",
       "      <th>47</th>\n",
       "      <td>e2469d8fd7989d15af92837c847fb14877291378.json</td>\n",
       "      <td>5</td>\n",
       "      <td>EleutherAI/gpt-neo-1.3B</td>\n",
       "      <td>mean</td>\n",
       "      <td>0.004237</td>\n",
       "      <td>layer</td>\n",
       "      <td>mean</td>\n",
       "      <td>dot_product</td>\n",
       "      <td>mean</td>\n",
       "      <td>dist_sim</td>\n",
       "      <td>0.235909</td>\n",
       "      <td>NaN</td>\n",
       "      <td>1.662555e+09</td>\n",
       "      <td>concat_all_examples</td>\n",
       "      <td>2022-09-07 05:49:01.587022848-07:00</td>\n",
       "    </tr>\n",
       "    <tr>\n",
       "      <th>23</th>\n",
       "      <td>352d013e5f9f40835f6ec6d9252be5b97ea6eab9.json</td>\n",
       "      <td>5</td>\n",
       "      <td>EleutherAI/gpt-neo-1.3B</td>\n",
       "      <td>mean</td>\n",
       "      <td>0.004237</td>\n",
       "      <td>L2</td>\n",
       "      <td>mean</td>\n",
       "      <td>dot_product</td>\n",
       "      <td>mean</td>\n",
       "      <td>dist_sim</td>\n",
       "      <td>0.235909</td>\n",
       "      <td>NaN</td>\n",
       "      <td>1.662552e+09</td>\n",
       "      <td>concat_all_examples</td>\n",
       "      <td>2022-09-07 04:53:38.173481984-07:00</td>\n",
       "    </tr>\n",
       "    <tr>\n",
       "      <th>0</th>\n",
       "      <td>13e388234038c38eee1f32c09ac9c38327364e5c.json</td>\n",
       "      <td>5</td>\n",
       "      <td>EleutherAI/gpt-neo-1.3B</td>\n",
       "      <td>None</td>\n",
       "      <td>0.004237</td>\n",
       "      <td>layer</td>\n",
       "      <td>None</td>\n",
       "      <td>cosine_sim</td>\n",
       "      <td>mean</td>\n",
       "      <td>dist_sim</td>\n",
       "      <td>0.235909</td>\n",
       "      <td>NaN</td>\n",
       "      <td>1.668116e+09</td>\n",
       "      <td>concat_all_examples</td>\n",
       "      <td>2022-11-10 13:38:50.371140864-08:00</td>\n",
       "    </tr>\n",
       "    <tr>\n",
       "      <th>8</th>\n",
       "      <td>22d5af595fdf16106bfd1bf8cf071ad5795b7943.json</td>\n",
       "      <td>5</td>\n",
       "      <td>EleutherAI/gpt-neo-1.3B</td>\n",
       "      <td>None</td>\n",
       "      <td>0.004232</td>\n",
       "      <td>layer</td>\n",
       "      <td>soft_cluster</td>\n",
       "      <td>dot_product</td>\n",
       "      <td>mean</td>\n",
       "      <td>dist_sim</td>\n",
       "      <td>0.235113</td>\n",
       "      <td>NaN</td>\n",
       "      <td>1.668202e+09</td>\n",
       "      <td>segment_each_example</td>\n",
       "      <td>2022-11-11 13:34:09.567566080-08:00</td>\n",
       "    </tr>\n",
       "    <tr>\n",
       "      <th>15</th>\n",
       "      <td>d00438895ac061214f0be55cd321bad519918cdc.json</td>\n",
       "      <td>5</td>\n",
       "      <td>EleutherAI/gpt-neo-1.3B</td>\n",
       "      <td>None</td>\n",
       "      <td>0.004216</td>\n",
       "      <td>layer</td>\n",
       "      <td>soft_cluster</td>\n",
       "      <td>dot_product</td>\n",
       "      <td>mean</td>\n",
       "      <td>dist_sim</td>\n",
       "      <td>0.232623</td>\n",
       "      <td>middle</td>\n",
       "      <td>1.670970e+09</td>\n",
       "      <td>segment_each_example</td>\n",
       "      <td>2022-12-13 14:11:59.444852992-08:00</td>\n",
       "    </tr>\n",
       "  </tbody>\n",
       "</table>\n",
       "<p>76 rows × 15 columns</p>\n",
       "</div>"
      ],
      "text/plain": [
       "                                         filename  num_fewshot  \\\n",
       "56  b89708c3804ffe013c2c82685f2c6927ca4840f2.json            5   \n",
       "26  1ce5fc21b3d0668d2e067d317391e11c20a84c47.json            5   \n",
       "25  e9dd4d906aa3c5d6e83ed55450cf364768d5ca4b.json            5   \n",
       "24  ed318001f2e6e8c658aee3df51dfbcba45fef2bc.json            5   \n",
       "46  59be8ce9b518ad6dc24748aa31b9be78deb25a52.json            0   \n",
       "..                                            ...          ...   \n",
       "47  e2469d8fd7989d15af92837c847fb14877291378.json            5   \n",
       "23  352d013e5f9f40835f6ec6d9252be5b97ea6eab9.json            5   \n",
       "0   13e388234038c38eee1f32c09ac9c38327364e5c.json            5   \n",
       "8   22d5af595fdf16106bfd1bf8cf071ad5795b7943.json            5   \n",
       "15  d00438895ac061214f0be55cd321bad519918cdc.json            5   \n",
       "\n",
       "                 pretrained SEGMENT_AGG_SCHEME  hellaswag:acc_stderr   NORM  \\\n",
       "56  EleutherAI/gpt-neo-1.3B               None              0.004534  layer   \n",
       "26  EleutherAI/gpt-neo-1.3B               None              0.004534  layer   \n",
       "25  EleutherAI/gpt-neo-1.3B               mean              0.004534  layer   \n",
       "24  EleutherAI/gpt-neo-1.3B               mean              0.004534  layer   \n",
       "46  EleutherAI/gpt-neo-1.3B               None              0.004528  layer   \n",
       "..                      ...                ...                   ...    ...   \n",
       "47  EleutherAI/gpt-neo-1.3B               mean              0.004237  layer   \n",
       "23  EleutherAI/gpt-neo-1.3B               mean              0.004237     L2   \n",
       "0   EleutherAI/gpt-neo-1.3B               None              0.004237  layer   \n",
       "8   EleutherAI/gpt-neo-1.3B               None              0.004232  layer   \n",
       "15  EleutherAI/gpt-neo-1.3B               None              0.004216  layer   \n",
       "\n",
       "   EXAMPLE_AGG_SCHEME SIMILARITY_FUNC WORD_AGG_SCHEME model_type  \\\n",
       "56               None     dot_product            mean   dist_sim   \n",
       "26       soft_cluster     dot_product            mean   dist_sim   \n",
       "25       soft_cluster     dot_product            mean   dist_sim   \n",
       "24               None     dot_product            mean   dist_sim   \n",
       "46               None      cosine_sim            mean   dist_sim   \n",
       "..                ...             ...             ...        ...   \n",
       "47               mean     dot_product            mean   dist_sim   \n",
       "23               mean     dot_product            mean   dist_sim   \n",
       "0                None      cosine_sim            mean   dist_sim   \n",
       "8        soft_cluster     dot_product            mean   dist_sim   \n",
       "15       soft_cluster     dot_product            mean   dist_sim   \n",
       "\n",
       "    hellaswag:acc ENCODING_LAYER         mtime       encoding_scheme  \\\n",
       "56       0.291177         middle  1.670967e+09   concat_all_examples   \n",
       "26       0.291177         middle  1.670967e+09   concat_all_examples   \n",
       "25       0.291177         middle  1.670967e+09   concat_all_examples   \n",
       "24       0.291177         middle  1.670967e+09   concat_all_examples   \n",
       "46       0.289882            NaN  1.668115e+09   concat_all_examples   \n",
       "..            ...            ...           ...                   ...   \n",
       "47       0.235909            NaN  1.662555e+09   concat_all_examples   \n",
       "23       0.235909            NaN  1.662552e+09   concat_all_examples   \n",
       "0        0.235909            NaN  1.668116e+09   concat_all_examples   \n",
       "8        0.235113            NaN  1.668202e+09  segment_each_example   \n",
       "15       0.232623         middle  1.670970e+09  segment_each_example   \n",
       "\n",
       "                                  date  \n",
       "56 2022-12-13 13:22:00.695954688-08:00  \n",
       "26 2022-12-13 13:22:28.839707648-08:00  \n",
       "25 2022-12-13 13:23:16.643286528-08:00  \n",
       "24 2022-12-13 13:23:00.119432192-08:00  \n",
       "46 2022-11-10 13:19:26.346697728-08:00  \n",
       "..                                 ...  \n",
       "47 2022-09-07 05:49:01.587022848-07:00  \n",
       "23 2022-09-07 04:53:38.173481984-07:00  \n",
       "0  2022-11-10 13:38:50.371140864-08:00  \n",
       "8  2022-11-11 13:34:09.567566080-08:00  \n",
       "15 2022-12-13 14:11:59.444852992-08:00  \n",
       "\n",
       "[76 rows x 15 columns]"
      ]
     },
     "execution_count": 3,
     "metadata": {},
     "output_type": "execute_result"
    }
   ],
   "source": [
    "all_df_sim1 = read_results(dir = '../lmeval_results_sim1')\n",
    "df_hellaswag_sim1 = task_metrics(all_df_sim1, ['hellaswag:acc'], sort_metrics=['hellaswag:acc'])\n",
    "df_hellaswag_sim1"
   ]
  },
  {
   "cell_type": "code",
   "execution_count": 4,
   "metadata": {},
   "outputs": [
    {
     "data": {
      "text/plain": [
       "pretrained    EleutherAI/gpt-neo-1.3B\n",
       "model_type                   dist_sim\n",
       "Name: Constant Variables, dtype: object"
      ]
     },
     "metadata": {},
     "output_type": "display_data"
    },
    {
     "data": {
      "application/vnd.plotly.v1+json": {
       "config": {
        "plotlyServerURL": "https://plot.ly"
       },
       "data": [
        {
         "arrangement": "freeform",
         "dimensions": [
          {
           "label": "num_fewshot",
           "values": [
            5,
            5,
            5,
            5,
            0,
            0,
            0,
            0,
            0,
            0,
            0,
            0,
            0,
            0,
            0,
            5,
            5,
            5,
            5,
            5,
            5,
            0,
            0,
            0,
            0,
            5,
            5,
            5,
            5,
            5,
            5,
            0,
            0,
            0,
            0,
            0,
            0,
            0,
            0,
            0,
            0,
            0,
            0,
            0,
            0,
            0,
            0,
            0,
            0,
            0,
            0,
            0,
            0,
            0,
            0,
            5,
            5,
            5,
            5,
            5,
            5,
            5,
            5,
            5,
            5,
            5,
            5,
            5,
            5,
            5,
            5,
            5,
            5,
            5,
            5,
            5
           ]
          },
          {
           "label": "SEGMENT_AGG_SCHEME",
           "values": [
            null,
            null,
            "mean",
            "mean",
            null,
            null,
            null,
            null,
            null,
            "mean",
            null,
            null,
            "mean",
            null,
            null,
            null,
            null,
            null,
            null,
            null,
            null,
            "mean",
            "mean",
            null,
            null,
            "mean",
            null,
            "mean",
            null,
            "mean",
            "mean",
            "mean",
            null,
            "mean",
            null,
            "mean",
            "mean",
            null,
            "mean",
            null,
            "mean",
            null,
            null,
            null,
            null,
            null,
            "mean",
            null,
            "mean",
            "mean",
            "mean",
            "mean",
            null,
            null,
            "mean",
            null,
            "mean",
            null,
            null,
            "mean",
            null,
            null,
            "mean",
            "mean",
            null,
            "mean",
            "mean",
            "mean",
            "mean",
            null,
            null,
            "mean",
            "mean",
            null,
            null,
            null
           ]
          },
          {
           "label": "NORM",
           "values": [
            "layer",
            "layer",
            "layer",
            "layer",
            "layer",
            "layer",
            "layer",
            "layer",
            "layer",
            "L2",
            "layer",
            "layer",
            "layer",
            "layer",
            "layer",
            "layer",
            "layer",
            "layer",
            "layer",
            "layer",
            "layer",
            "L2",
            "L2",
            "layer",
            "layer",
            "layer",
            "layer",
            "layer",
            "layer",
            "L2",
            "L2",
            "layer",
            "layer",
            "layer",
            "layer",
            "layer",
            "layer",
            "layer",
            "layer",
            "layer",
            "layer",
            "layer",
            "layer",
            "layer",
            "layer",
            "layer",
            "layer",
            "layer",
            "layer",
            "layer",
            "layer",
            "layer",
            "layer",
            "layer",
            "layer",
            "layer",
            "layer",
            "layer",
            "layer",
            "layer",
            "layer",
            "layer",
            "layer",
            "layer",
            "layer",
            "layer",
            "layer",
            "layer",
            "layer",
            "layer",
            "layer",
            "layer",
            "L2",
            "layer",
            "layer",
            "layer"
           ]
          },
          {
           "label": "EXAMPLE_AGG_SCHEME",
           "values": [
            null,
            "soft_cluster",
            "soft_cluster",
            null,
            null,
            null,
            "soft_cluster",
            null,
            null,
            "mean",
            null,
            null,
            "mean",
            null,
            null,
            null,
            null,
            null,
            null,
            null,
            null,
            "mean",
            "mean",
            null,
            "soft_cluster",
            null,
            "soft_cluster",
            "soft_cluster",
            null,
            "mean",
            "mean",
            null,
            "soft_cluster",
            null,
            "soft_cluster",
            "soft_cluster",
            "soft_cluster",
            "soft_cluster",
            null,
            null,
            "soft_cluster",
            null,
            null,
            "soft_cluster",
            null,
            null,
            null,
            null,
            null,
            "soft_cluster",
            "soft_cluster",
            null,
            "soft_cluster",
            "soft_cluster",
            "soft_cluster",
            null,
            null,
            null,
            null,
            null,
            null,
            "soft_cluster",
            "soft_cluster",
            "soft_cluster",
            "soft_cluster",
            null,
            null,
            "soft_cluster",
            "soft_cluster",
            "soft_cluster",
            null,
            "mean",
            "mean",
            null,
            "soft_cluster",
            "soft_cluster"
           ]
          },
          {
           "label": "SIMILARITY_FUNC",
           "values": [
            "dot_product",
            "dot_product",
            "dot_product",
            "dot_product",
            "cosine_sim",
            "cosine_sim",
            "dot_product",
            "dot_product",
            "cosine_sim",
            "dot_product",
            "dot_product",
            "dot_product",
            "dot_product",
            "cosine_sim",
            "dot_product",
            "dot_product",
            "cosine_sim",
            "cosine_sim",
            "cosine_sim",
            "dot_product",
            "dot_product",
            "dot_product",
            "cosine_sim",
            "dot_product",
            "dot_product",
            "dot_product",
            "dot_product",
            "dot_product",
            "dot_product",
            "cosine_sim",
            "dot_product",
            "dot_product",
            "dot_product",
            "dot_product",
            "dot_product",
            "dot_product",
            "dot_product",
            "dot_product",
            "dot_product",
            "dot_product",
            "dot_product",
            "dot_product",
            "dot_product",
            "dot_product",
            "dot_product",
            "dot_product",
            "dot_product",
            "dot_product",
            "dot_product",
            "dot_product",
            "dot_product",
            "dot_product",
            "dot_product",
            "dot_product",
            "dot_product",
            "dot_product",
            "dot_product",
            "dot_product",
            "dot_product",
            "dot_product",
            "dot_product",
            "dot_product",
            "dot_product",
            "dot_product",
            "dot_product",
            "dot_product",
            "dot_product",
            "dot_product",
            "dot_product",
            "dot_product",
            "dot_product",
            "dot_product",
            "dot_product",
            "cosine_sim",
            "dot_product",
            "dot_product"
           ]
          },
          {
           "label": "WORD_AGG_SCHEME",
           "values": [
            "mean",
            "mean",
            "mean",
            "mean",
            "mean",
            "mean",
            "mean",
            "mean",
            "mean",
            "mean",
            "mean",
            "mean",
            "mean",
            "mean",
            "mean",
            "mean",
            "mean",
            "mean",
            "mean",
            "mean",
            "mean",
            "last",
            "last",
            "last",
            "last",
            "last",
            "last",
            "last",
            "last",
            "last",
            "last",
            "last",
            "last",
            "last",
            "last",
            "last",
            "last",
            "last",
            "last",
            "last",
            "last",
            "last",
            "last",
            "mean",
            "mean",
            "mean",
            "mean",
            "mean",
            "mean",
            "mean",
            "mean",
            "mean",
            "mean",
            "mean",
            "mean",
            "mean",
            "mean",
            "mean",
            "last",
            "last",
            "last",
            "last",
            "last",
            "last",
            "last",
            "last",
            "mean",
            "mean",
            "mean",
            "mean",
            "mean",
            "mean",
            "mean",
            "mean",
            "mean",
            "mean"
           ]
          },
          {
           "label": "ENCODING_LAYER",
           "values": [
            "middle",
            "middle",
            "middle",
            "middle",
            null,
            null,
            null,
            null,
            null,
            null,
            null,
            null,
            null,
            null,
            null,
            null,
            null,
            null,
            null,
            null,
            null,
            null,
            null,
            null,
            null,
            "middle",
            "middle",
            "middle",
            "middle",
            null,
            null,
            "middle",
            "middle",
            "middle",
            "middle",
            "middle",
            "middle",
            "middle",
            "middle",
            "middle",
            "middle",
            "middle",
            "middle",
            "middle",
            "middle",
            "middle",
            "middle",
            "middle",
            "middle",
            "middle",
            "middle",
            "middle",
            "middle",
            "middle",
            "middle",
            "middle",
            "middle",
            "middle",
            "middle",
            "middle",
            "middle",
            "middle",
            "middle",
            "middle",
            "middle",
            "middle",
            "middle",
            "middle",
            "middle",
            "middle",
            null,
            null,
            null,
            null,
            null,
            "middle"
           ]
          },
          {
           "label": "encoding_scheme",
           "values": [
            "concat_all_examples",
            "concat_all_examples",
            "concat_all_examples",
            "concat_all_examples",
            "concat_all_examples",
            "merge_all_segments",
            "segment_each_example",
            "merge_all_segments",
            "segment_each_example",
            "concat_all_examples",
            "concat_each_example",
            "concat_all_examples",
            "concat_all_examples",
            "concat_each_example",
            "segment_each_example",
            "concat_each_example",
            "concat_each_example",
            "segment_each_example",
            "merge_all_segments",
            "segment_each_example",
            "merge_all_segments",
            "concat_all_examples",
            "concat_all_examples",
            "concat_each_example",
            "segment_each_example",
            "concat_all_examples",
            "concat_all_examples",
            "concat_all_examples",
            "concat_all_examples",
            "concat_all_examples",
            "concat_all_examples",
            "segment_each_example",
            "segment_each_example",
            "concat_each_example",
            "concat_each_example",
            "concat_each_example",
            "concat_all_examples",
            "concat_all_examples",
            "concat_all_examples",
            "concat_each_example",
            "segment_each_example",
            "segment_each_example",
            "concat_all_examples",
            "segment_each_example",
            "concat_all_examples",
            "concat_each_example",
            "concat_all_examples",
            "segment_each_example",
            "concat_each_example",
            "segment_each_example",
            "concat_all_examples",
            "segment_each_example",
            "concat_all_examples",
            "concat_each_example",
            "concat_each_example",
            "concat_each_example",
            "concat_each_example",
            "segment_each_example",
            "concat_each_example",
            "concat_each_example",
            "segment_each_example",
            "concat_each_example",
            "concat_each_example",
            "segment_each_example",
            "segment_each_example",
            "segment_each_example",
            "segment_each_example",
            "segment_each_example",
            "concat_each_example",
            "concat_each_example",
            "concat_all_examples",
            "concat_all_examples",
            "concat_all_examples",
            "concat_all_examples",
            "segment_each_example",
            "segment_each_example"
           ]
          },
          {
           "label": "hellaswag:acc",
           "values": [
            0.29117705636327423,
            0.29117705636327423,
            0.29117705636327423,
            0.29117705636327423,
            0.2898824935271858,
            0.2898824935271858,
            0.2898824935271858,
            0.2898824935271858,
            0.2898824935271858,
            0.2898824935271858,
            0.2898824935271858,
            0.2898824935271858,
            0.2898824935271858,
            0.2898824935271858,
            0.2898824935271858,
            0.28510256920932087,
            0.28510256920932087,
            0.2822146982672774,
            0.2822146982672774,
            0.28211511651065524,
            0.28211511651065524,
            0.2729535949014141,
            0.2729535949014141,
            0.2726548496315475,
            0.2726548496315475,
            0.26488747261501694,
            0.26488747261501694,
            0.26488747261501694,
            0.26488747261501694,
            0.2645887273451504,
            0.2645887273451504,
            0.2635929097789285,
            0.2635929097789285,
            0.2635929097789285,
            0.2635929097789285,
            0.2635929097789285,
            0.2635929097789285,
            0.2635929097789285,
            0.2635929097789285,
            0.2635929097789285,
            0.2635929097789285,
            0.2635929097789285,
            0.2635929097789285,
            0.2531368253335989,
            0.2531368253335989,
            0.2531368253335989,
            0.2531368253335989,
            0.2531368253335989,
            0.2531368253335989,
            0.2531368253335989,
            0.2531368253335989,
            0.2531368253335989,
            0.2531368253335989,
            0.2531368253335989,
            0.2531368253335989,
            0.2509460266879108,
            0.2509460266879108,
            0.25054769966142204,
            0.2483569010157339,
            0.2483569010157339,
            0.24726150169288985,
            0.23959370643298147,
            0.23959370643298147,
            0.23869747062338179,
            0.23839872535351522,
            0.23780123481378213,
            0.23730332603067117,
            0.23660625373431587,
            0.23620792670782711,
            0.23620792670782711,
            0.23590918143796055,
            0.23590918143796055,
            0.23590918143796055,
            0.23590918143796055,
            0.23511252738498306,
            0.2326229834694284
           ]
          }
         ],
         "hoveron": "color",
         "line": {
          "color": [
           0.29117705636327423,
           0.29117705636327423,
           0.29117705636327423,
           0.29117705636327423,
           0.2898824935271858,
           0.2898824935271858,
           0.2898824935271858,
           0.2898824935271858,
           0.2898824935271858,
           0.2898824935271858,
           0.2898824935271858,
           0.2898824935271858,
           0.2898824935271858,
           0.2898824935271858,
           0.2898824935271858,
           0.28510256920932087,
           0.28510256920932087,
           0.2822146982672774,
           0.2822146982672774,
           0.28211511651065524,
           0.28211511651065524,
           0.2729535949014141,
           0.2729535949014141,
           0.2726548496315475,
           0.2726548496315475,
           0.26488747261501694,
           0.26488747261501694,
           0.26488747261501694,
           0.26488747261501694,
           0.2645887273451504,
           0.2645887273451504,
           0.2635929097789285,
           0.2635929097789285,
           0.2635929097789285,
           0.2635929097789285,
           0.2635929097789285,
           0.2635929097789285,
           0.2635929097789285,
           0.2635929097789285,
           0.2635929097789285,
           0.2635929097789285,
           0.2635929097789285,
           0.2635929097789285,
           0.2531368253335989,
           0.2531368253335989,
           0.2531368253335989,
           0.2531368253335989,
           0.2531368253335989,
           0.2531368253335989,
           0.2531368253335989,
           0.2531368253335989,
           0.2531368253335989,
           0.2531368253335989,
           0.2531368253335989,
           0.2531368253335989,
           0.2509460266879108,
           0.2509460266879108,
           0.25054769966142204,
           0.2483569010157339,
           0.2483569010157339,
           0.24726150169288985,
           0.23959370643298147,
           0.23959370643298147,
           0.23869747062338179,
           0.23839872535351522,
           0.23780123481378213,
           0.23730332603067117,
           0.23660625373431587,
           0.23620792670782711,
           0.23620792670782711,
           0.23590918143796055,
           0.23590918143796055,
           0.23590918143796055,
           0.23590918143796055,
           0.23511252738498306,
           0.2326229834694284
          ],
          "coloraxis": "coloraxis"
         },
         "type": "parcats"
        }
       ],
       "layout": {
        "coloraxis": {
         "colorbar": {
          "len": 1,
          "lenmode": "fraction",
          "y": 1,
          "yanchor": "top"
         },
         "colorscale": [
          [
           0,
           "#00224e"
          ],
          [
           0.1111111111111111,
           "#123570"
          ],
          [
           0.2222222222222222,
           "#3b496c"
          ],
          [
           0.3333333333333333,
           "#575d6d"
          ],
          [
           0.4444444444444444,
           "#707173"
          ],
          [
           0.5555555555555556,
           "#8a8678"
          ],
          [
           0.6666666666666666,
           "#a59c74"
          ],
          [
           0.7777777777777778,
           "#c3b369"
          ],
          [
           0.8888888888888888,
           "#e1cc55"
          ],
          [
           1,
           "#fee838"
          ]
         ],
         "showscale": true
        },
        "height": 1500,
        "template": {
         "data": {
          "bar": [
           {
            "error_x": {
             "color": "#2a3f5f"
            },
            "error_y": {
             "color": "#2a3f5f"
            },
            "marker": {
             "line": {
              "color": "#E5ECF6",
              "width": 0.5
             },
             "pattern": {
              "fillmode": "overlay",
              "size": 10,
              "solidity": 0.2
             }
            },
            "type": "bar"
           }
          ],
          "barpolar": [
           {
            "marker": {
             "line": {
              "color": "#E5ECF6",
              "width": 0.5
             },
             "pattern": {
              "fillmode": "overlay",
              "size": 10,
              "solidity": 0.2
             }
            },
            "type": "barpolar"
           }
          ],
          "carpet": [
           {
            "aaxis": {
             "endlinecolor": "#2a3f5f",
             "gridcolor": "white",
             "linecolor": "white",
             "minorgridcolor": "white",
             "startlinecolor": "#2a3f5f"
            },
            "baxis": {
             "endlinecolor": "#2a3f5f",
             "gridcolor": "white",
             "linecolor": "white",
             "minorgridcolor": "white",
             "startlinecolor": "#2a3f5f"
            },
            "type": "carpet"
           }
          ],
          "choropleth": [
           {
            "colorbar": {
             "outlinewidth": 0,
             "ticks": ""
            },
            "type": "choropleth"
           }
          ],
          "contour": [
           {
            "colorbar": {
             "outlinewidth": 0,
             "ticks": ""
            },
            "colorscale": [
             [
              0,
              "#0d0887"
             ],
             [
              0.1111111111111111,
              "#46039f"
             ],
             [
              0.2222222222222222,
              "#7201a8"
             ],
             [
              0.3333333333333333,
              "#9c179e"
             ],
             [
              0.4444444444444444,
              "#bd3786"
             ],
             [
              0.5555555555555556,
              "#d8576b"
             ],
             [
              0.6666666666666666,
              "#ed7953"
             ],
             [
              0.7777777777777778,
              "#fb9f3a"
             ],
             [
              0.8888888888888888,
              "#fdca26"
             ],
             [
              1,
              "#f0f921"
             ]
            ],
            "type": "contour"
           }
          ],
          "contourcarpet": [
           {
            "colorbar": {
             "outlinewidth": 0,
             "ticks": ""
            },
            "type": "contourcarpet"
           }
          ],
          "heatmap": [
           {
            "colorbar": {
             "outlinewidth": 0,
             "ticks": ""
            },
            "colorscale": [
             [
              0,
              "#0d0887"
             ],
             [
              0.1111111111111111,
              "#46039f"
             ],
             [
              0.2222222222222222,
              "#7201a8"
             ],
             [
              0.3333333333333333,
              "#9c179e"
             ],
             [
              0.4444444444444444,
              "#bd3786"
             ],
             [
              0.5555555555555556,
              "#d8576b"
             ],
             [
              0.6666666666666666,
              "#ed7953"
             ],
             [
              0.7777777777777778,
              "#fb9f3a"
             ],
             [
              0.8888888888888888,
              "#fdca26"
             ],
             [
              1,
              "#f0f921"
             ]
            ],
            "type": "heatmap"
           }
          ],
          "heatmapgl": [
           {
            "colorbar": {
             "outlinewidth": 0,
             "ticks": ""
            },
            "colorscale": [
             [
              0,
              "#0d0887"
             ],
             [
              0.1111111111111111,
              "#46039f"
             ],
             [
              0.2222222222222222,
              "#7201a8"
             ],
             [
              0.3333333333333333,
              "#9c179e"
             ],
             [
              0.4444444444444444,
              "#bd3786"
             ],
             [
              0.5555555555555556,
              "#d8576b"
             ],
             [
              0.6666666666666666,
              "#ed7953"
             ],
             [
              0.7777777777777778,
              "#fb9f3a"
             ],
             [
              0.8888888888888888,
              "#fdca26"
             ],
             [
              1,
              "#f0f921"
             ]
            ],
            "type": "heatmapgl"
           }
          ],
          "histogram": [
           {
            "marker": {
             "pattern": {
              "fillmode": "overlay",
              "size": 10,
              "solidity": 0.2
             }
            },
            "type": "histogram"
           }
          ],
          "histogram2d": [
           {
            "colorbar": {
             "outlinewidth": 0,
             "ticks": ""
            },
            "colorscale": [
             [
              0,
              "#0d0887"
             ],
             [
              0.1111111111111111,
              "#46039f"
             ],
             [
              0.2222222222222222,
              "#7201a8"
             ],
             [
              0.3333333333333333,
              "#9c179e"
             ],
             [
              0.4444444444444444,
              "#bd3786"
             ],
             [
              0.5555555555555556,
              "#d8576b"
             ],
             [
              0.6666666666666666,
              "#ed7953"
             ],
             [
              0.7777777777777778,
              "#fb9f3a"
             ],
             [
              0.8888888888888888,
              "#fdca26"
             ],
             [
              1,
              "#f0f921"
             ]
            ],
            "type": "histogram2d"
           }
          ],
          "histogram2dcontour": [
           {
            "colorbar": {
             "outlinewidth": 0,
             "ticks": ""
            },
            "colorscale": [
             [
              0,
              "#0d0887"
             ],
             [
              0.1111111111111111,
              "#46039f"
             ],
             [
              0.2222222222222222,
              "#7201a8"
             ],
             [
              0.3333333333333333,
              "#9c179e"
             ],
             [
              0.4444444444444444,
              "#bd3786"
             ],
             [
              0.5555555555555556,
              "#d8576b"
             ],
             [
              0.6666666666666666,
              "#ed7953"
             ],
             [
              0.7777777777777778,
              "#fb9f3a"
             ],
             [
              0.8888888888888888,
              "#fdca26"
             ],
             [
              1,
              "#f0f921"
             ]
            ],
            "type": "histogram2dcontour"
           }
          ],
          "mesh3d": [
           {
            "colorbar": {
             "outlinewidth": 0,
             "ticks": ""
            },
            "type": "mesh3d"
           }
          ],
          "parcoords": [
           {
            "line": {
             "colorbar": {
              "outlinewidth": 0,
              "ticks": ""
             }
            },
            "type": "parcoords"
           }
          ],
          "pie": [
           {
            "automargin": true,
            "type": "pie"
           }
          ],
          "scatter": [
           {
            "fillpattern": {
             "fillmode": "overlay",
             "size": 10,
             "solidity": 0.2
            },
            "type": "scatter"
           }
          ],
          "scatter3d": [
           {
            "line": {
             "colorbar": {
              "outlinewidth": 0,
              "ticks": ""
             }
            },
            "marker": {
             "colorbar": {
              "outlinewidth": 0,
              "ticks": ""
             }
            },
            "type": "scatter3d"
           }
          ],
          "scattercarpet": [
           {
            "marker": {
             "colorbar": {
              "outlinewidth": 0,
              "ticks": ""
             }
            },
            "type": "scattercarpet"
           }
          ],
          "scattergeo": [
           {
            "marker": {
             "colorbar": {
              "outlinewidth": 0,
              "ticks": ""
             }
            },
            "type": "scattergeo"
           }
          ],
          "scattergl": [
           {
            "marker": {
             "colorbar": {
              "outlinewidth": 0,
              "ticks": ""
             }
            },
            "type": "scattergl"
           }
          ],
          "scattermapbox": [
           {
            "marker": {
             "colorbar": {
              "outlinewidth": 0,
              "ticks": ""
             }
            },
            "type": "scattermapbox"
           }
          ],
          "scatterpolar": [
           {
            "marker": {
             "colorbar": {
              "outlinewidth": 0,
              "ticks": ""
             }
            },
            "type": "scatterpolar"
           }
          ],
          "scatterpolargl": [
           {
            "marker": {
             "colorbar": {
              "outlinewidth": 0,
              "ticks": ""
             }
            },
            "type": "scatterpolargl"
           }
          ],
          "scatterternary": [
           {
            "marker": {
             "colorbar": {
              "outlinewidth": 0,
              "ticks": ""
             }
            },
            "type": "scatterternary"
           }
          ],
          "surface": [
           {
            "colorbar": {
             "outlinewidth": 0,
             "ticks": ""
            },
            "colorscale": [
             [
              0,
              "#0d0887"
             ],
             [
              0.1111111111111111,
              "#46039f"
             ],
             [
              0.2222222222222222,
              "#7201a8"
             ],
             [
              0.3333333333333333,
              "#9c179e"
             ],
             [
              0.4444444444444444,
              "#bd3786"
             ],
             [
              0.5555555555555556,
              "#d8576b"
             ],
             [
              0.6666666666666666,
              "#ed7953"
             ],
             [
              0.7777777777777778,
              "#fb9f3a"
             ],
             [
              0.8888888888888888,
              "#fdca26"
             ],
             [
              1,
              "#f0f921"
             ]
            ],
            "type": "surface"
           }
          ],
          "table": [
           {
            "cells": {
             "fill": {
              "color": "#EBF0F8"
             },
             "line": {
              "color": "white"
             }
            },
            "header": {
             "fill": {
              "color": "#C8D4E3"
             },
             "line": {
              "color": "white"
             }
            },
            "type": "table"
           }
          ]
         },
         "layout": {
          "annotationdefaults": {
           "arrowcolor": "#2a3f5f",
           "arrowhead": 0,
           "arrowwidth": 1
          },
          "autotypenumbers": "strict",
          "coloraxis": {
           "colorbar": {
            "outlinewidth": 0,
            "ticks": ""
           }
          },
          "colorscale": {
           "diverging": [
            [
             0,
             "#8e0152"
            ],
            [
             0.1,
             "#c51b7d"
            ],
            [
             0.2,
             "#de77ae"
            ],
            [
             0.3,
             "#f1b6da"
            ],
            [
             0.4,
             "#fde0ef"
            ],
            [
             0.5,
             "#f7f7f7"
            ],
            [
             0.6,
             "#e6f5d0"
            ],
            [
             0.7,
             "#b8e186"
            ],
            [
             0.8,
             "#7fbc41"
            ],
            [
             0.9,
             "#4d9221"
            ],
            [
             1,
             "#276419"
            ]
           ],
           "sequential": [
            [
             0,
             "#0d0887"
            ],
            [
             0.1111111111111111,
             "#46039f"
            ],
            [
             0.2222222222222222,
             "#7201a8"
            ],
            [
             0.3333333333333333,
             "#9c179e"
            ],
            [
             0.4444444444444444,
             "#bd3786"
            ],
            [
             0.5555555555555556,
             "#d8576b"
            ],
            [
             0.6666666666666666,
             "#ed7953"
            ],
            [
             0.7777777777777778,
             "#fb9f3a"
            ],
            [
             0.8888888888888888,
             "#fdca26"
            ],
            [
             1,
             "#f0f921"
            ]
           ],
           "sequentialminus": [
            [
             0,
             "#0d0887"
            ],
            [
             0.1111111111111111,
             "#46039f"
            ],
            [
             0.2222222222222222,
             "#7201a8"
            ],
            [
             0.3333333333333333,
             "#9c179e"
            ],
            [
             0.4444444444444444,
             "#bd3786"
            ],
            [
             0.5555555555555556,
             "#d8576b"
            ],
            [
             0.6666666666666666,
             "#ed7953"
            ],
            [
             0.7777777777777778,
             "#fb9f3a"
            ],
            [
             0.8888888888888888,
             "#fdca26"
            ],
            [
             1,
             "#f0f921"
            ]
           ]
          },
          "colorway": [
           "#636efa",
           "#EF553B",
           "#00cc96",
           "#ab63fa",
           "#FFA15A",
           "#19d3f3",
           "#FF6692",
           "#B6E880",
           "#FF97FF",
           "#FECB52"
          ],
          "font": {
           "color": "#2a3f5f"
          },
          "geo": {
           "bgcolor": "white",
           "lakecolor": "white",
           "landcolor": "#E5ECF6",
           "showlakes": true,
           "showland": true,
           "subunitcolor": "white"
          },
          "hoverlabel": {
           "align": "left"
          },
          "hovermode": "closest",
          "mapbox": {
           "style": "light"
          },
          "paper_bgcolor": "white",
          "plot_bgcolor": "#E5ECF6",
          "polar": {
           "angularaxis": {
            "gridcolor": "white",
            "linecolor": "white",
            "ticks": ""
           },
           "bgcolor": "#E5ECF6",
           "radialaxis": {
            "gridcolor": "white",
            "linecolor": "white",
            "ticks": ""
           }
          },
          "scene": {
           "xaxis": {
            "backgroundcolor": "#E5ECF6",
            "gridcolor": "white",
            "gridwidth": 2,
            "linecolor": "white",
            "showbackground": true,
            "ticks": "",
            "zerolinecolor": "white"
           },
           "yaxis": {
            "backgroundcolor": "#E5ECF6",
            "gridcolor": "white",
            "gridwidth": 2,
            "linecolor": "white",
            "showbackground": true,
            "ticks": "",
            "zerolinecolor": "white"
           },
           "zaxis": {
            "backgroundcolor": "#E5ECF6",
            "gridcolor": "white",
            "gridwidth": 2,
            "linecolor": "white",
            "showbackground": true,
            "ticks": "",
            "zerolinecolor": "white"
           }
          },
          "shapedefaults": {
           "line": {
            "color": "#2a3f5f"
           }
          },
          "ternary": {
           "aaxis": {
            "gridcolor": "white",
            "linecolor": "white",
            "ticks": ""
           },
           "baxis": {
            "gridcolor": "white",
            "linecolor": "white",
            "ticks": ""
           },
           "bgcolor": "#E5ECF6",
           "caxis": {
            "gridcolor": "white",
            "linecolor": "white",
            "ticks": ""
           }
          },
          "title": {
           "x": 0.05
          },
          "xaxis": {
           "automargin": true,
           "gridcolor": "white",
           "linecolor": "white",
           "ticks": "",
           "title": {
            "standoff": 15
           },
           "zerolinecolor": "white",
           "zerolinewidth": 2
          },
          "yaxis": {
           "automargin": true,
           "gridcolor": "white",
           "linecolor": "white",
           "ticks": "",
           "title": {
            "standoff": 15
           },
           "zerolinecolor": "white",
           "zerolinewidth": 2
          }
         }
        }
       }
      },
      "text/html": [
       "<div>                            <div id=\"a84ecd5f-551f-4084-a113-a4f9fec51958\" class=\"plotly-graph-div\" style=\"height:1500px; width:100%;\"></div>            <script type=\"text/javascript\">                require([\"plotly\"], function(Plotly) {                    window.PLOTLYENV=window.PLOTLYENV || {};                                    if (document.getElementById(\"a84ecd5f-551f-4084-a113-a4f9fec51958\")) {                    Plotly.newPlot(                        \"a84ecd5f-551f-4084-a113-a4f9fec51958\",                        [{\"arrangement\":\"freeform\",\"dimensions\":[{\"label\":\"num_fewshot\",\"values\":[5,5,5,5,0,0,0,0,0,0,0,0,0,0,0,5,5,5,5,5,5,0,0,0,0,5,5,5,5,5,5,0,0,0,0,0,0,0,0,0,0,0,0,0,0,0,0,0,0,0,0,0,0,0,0,5,5,5,5,5,5,5,5,5,5,5,5,5,5,5,5,5,5,5,5,5]},{\"label\":\"SEGMENT_AGG_SCHEME\",\"values\":[null,null,\"mean\",\"mean\",null,null,null,null,null,\"mean\",null,null,\"mean\",null,null,null,null,null,null,null,null,\"mean\",\"mean\",null,null,\"mean\",null,\"mean\",null,\"mean\",\"mean\",\"mean\",null,\"mean\",null,\"mean\",\"mean\",null,\"mean\",null,\"mean\",null,null,null,null,null,\"mean\",null,\"mean\",\"mean\",\"mean\",\"mean\",null,null,\"mean\",null,\"mean\",null,null,\"mean\",null,null,\"mean\",\"mean\",null,\"mean\",\"mean\",\"mean\",\"mean\",null,null,\"mean\",\"mean\",null,null,null]},{\"label\":\"NORM\",\"values\":[\"layer\",\"layer\",\"layer\",\"layer\",\"layer\",\"layer\",\"layer\",\"layer\",\"layer\",\"L2\",\"layer\",\"layer\",\"layer\",\"layer\",\"layer\",\"layer\",\"layer\",\"layer\",\"layer\",\"layer\",\"layer\",\"L2\",\"L2\",\"layer\",\"layer\",\"layer\",\"layer\",\"layer\",\"layer\",\"L2\",\"L2\",\"layer\",\"layer\",\"layer\",\"layer\",\"layer\",\"layer\",\"layer\",\"layer\",\"layer\",\"layer\",\"layer\",\"layer\",\"layer\",\"layer\",\"layer\",\"layer\",\"layer\",\"layer\",\"layer\",\"layer\",\"layer\",\"layer\",\"layer\",\"layer\",\"layer\",\"layer\",\"layer\",\"layer\",\"layer\",\"layer\",\"layer\",\"layer\",\"layer\",\"layer\",\"layer\",\"layer\",\"layer\",\"layer\",\"layer\",\"layer\",\"layer\",\"L2\",\"layer\",\"layer\",\"layer\"]},{\"label\":\"EXAMPLE_AGG_SCHEME\",\"values\":[null,\"soft_cluster\",\"soft_cluster\",null,null,null,\"soft_cluster\",null,null,\"mean\",null,null,\"mean\",null,null,null,null,null,null,null,null,\"mean\",\"mean\",null,\"soft_cluster\",null,\"soft_cluster\",\"soft_cluster\",null,\"mean\",\"mean\",null,\"soft_cluster\",null,\"soft_cluster\",\"soft_cluster\",\"soft_cluster\",\"soft_cluster\",null,null,\"soft_cluster\",null,null,\"soft_cluster\",null,null,null,null,null,\"soft_cluster\",\"soft_cluster\",null,\"soft_cluster\",\"soft_cluster\",\"soft_cluster\",null,null,null,null,null,null,\"soft_cluster\",\"soft_cluster\",\"soft_cluster\",\"soft_cluster\",null,null,\"soft_cluster\",\"soft_cluster\",\"soft_cluster\",null,\"mean\",\"mean\",null,\"soft_cluster\",\"soft_cluster\"]},{\"label\":\"SIMILARITY_FUNC\",\"values\":[\"dot_product\",\"dot_product\",\"dot_product\",\"dot_product\",\"cosine_sim\",\"cosine_sim\",\"dot_product\",\"dot_product\",\"cosine_sim\",\"dot_product\",\"dot_product\",\"dot_product\",\"dot_product\",\"cosine_sim\",\"dot_product\",\"dot_product\",\"cosine_sim\",\"cosine_sim\",\"cosine_sim\",\"dot_product\",\"dot_product\",\"dot_product\",\"cosine_sim\",\"dot_product\",\"dot_product\",\"dot_product\",\"dot_product\",\"dot_product\",\"dot_product\",\"cosine_sim\",\"dot_product\",\"dot_product\",\"dot_product\",\"dot_product\",\"dot_product\",\"dot_product\",\"dot_product\",\"dot_product\",\"dot_product\",\"dot_product\",\"dot_product\",\"dot_product\",\"dot_product\",\"dot_product\",\"dot_product\",\"dot_product\",\"dot_product\",\"dot_product\",\"dot_product\",\"dot_product\",\"dot_product\",\"dot_product\",\"dot_product\",\"dot_product\",\"dot_product\",\"dot_product\",\"dot_product\",\"dot_product\",\"dot_product\",\"dot_product\",\"dot_product\",\"dot_product\",\"dot_product\",\"dot_product\",\"dot_product\",\"dot_product\",\"dot_product\",\"dot_product\",\"dot_product\",\"dot_product\",\"dot_product\",\"dot_product\",\"dot_product\",\"cosine_sim\",\"dot_product\",\"dot_product\"]},{\"label\":\"WORD_AGG_SCHEME\",\"values\":[\"mean\",\"mean\",\"mean\",\"mean\",\"mean\",\"mean\",\"mean\",\"mean\",\"mean\",\"mean\",\"mean\",\"mean\",\"mean\",\"mean\",\"mean\",\"mean\",\"mean\",\"mean\",\"mean\",\"mean\",\"mean\",\"last\",\"last\",\"last\",\"last\",\"last\",\"last\",\"last\",\"last\",\"last\",\"last\",\"last\",\"last\",\"last\",\"last\",\"last\",\"last\",\"last\",\"last\",\"last\",\"last\",\"last\",\"last\",\"mean\",\"mean\",\"mean\",\"mean\",\"mean\",\"mean\",\"mean\",\"mean\",\"mean\",\"mean\",\"mean\",\"mean\",\"mean\",\"mean\",\"mean\",\"last\",\"last\",\"last\",\"last\",\"last\",\"last\",\"last\",\"last\",\"mean\",\"mean\",\"mean\",\"mean\",\"mean\",\"mean\",\"mean\",\"mean\",\"mean\",\"mean\"]},{\"label\":\"ENCODING_LAYER\",\"values\":[\"middle\",\"middle\",\"middle\",\"middle\",null,null,null,null,null,null,null,null,null,null,null,null,null,null,null,null,null,null,null,null,null,\"middle\",\"middle\",\"middle\",\"middle\",null,null,\"middle\",\"middle\",\"middle\",\"middle\",\"middle\",\"middle\",\"middle\",\"middle\",\"middle\",\"middle\",\"middle\",\"middle\",\"middle\",\"middle\",\"middle\",\"middle\",\"middle\",\"middle\",\"middle\",\"middle\",\"middle\",\"middle\",\"middle\",\"middle\",\"middle\",\"middle\",\"middle\",\"middle\",\"middle\",\"middle\",\"middle\",\"middle\",\"middle\",\"middle\",\"middle\",\"middle\",\"middle\",\"middle\",\"middle\",null,null,null,null,null,\"middle\"]},{\"label\":\"encoding_scheme\",\"values\":[\"concat_all_examples\",\"concat_all_examples\",\"concat_all_examples\",\"concat_all_examples\",\"concat_all_examples\",\"merge_all_segments\",\"segment_each_example\",\"merge_all_segments\",\"segment_each_example\",\"concat_all_examples\",\"concat_each_example\",\"concat_all_examples\",\"concat_all_examples\",\"concat_each_example\",\"segment_each_example\",\"concat_each_example\",\"concat_each_example\",\"segment_each_example\",\"merge_all_segments\",\"segment_each_example\",\"merge_all_segments\",\"concat_all_examples\",\"concat_all_examples\",\"concat_each_example\",\"segment_each_example\",\"concat_all_examples\",\"concat_all_examples\",\"concat_all_examples\",\"concat_all_examples\",\"concat_all_examples\",\"concat_all_examples\",\"segment_each_example\",\"segment_each_example\",\"concat_each_example\",\"concat_each_example\",\"concat_each_example\",\"concat_all_examples\",\"concat_all_examples\",\"concat_all_examples\",\"concat_each_example\",\"segment_each_example\",\"segment_each_example\",\"concat_all_examples\",\"segment_each_example\",\"concat_all_examples\",\"concat_each_example\",\"concat_all_examples\",\"segment_each_example\",\"concat_each_example\",\"segment_each_example\",\"concat_all_examples\",\"segment_each_example\",\"concat_all_examples\",\"concat_each_example\",\"concat_each_example\",\"concat_each_example\",\"concat_each_example\",\"segment_each_example\",\"concat_each_example\",\"concat_each_example\",\"segment_each_example\",\"concat_each_example\",\"concat_each_example\",\"segment_each_example\",\"segment_each_example\",\"segment_each_example\",\"segment_each_example\",\"segment_each_example\",\"concat_each_example\",\"concat_each_example\",\"concat_all_examples\",\"concat_all_examples\",\"concat_all_examples\",\"concat_all_examples\",\"segment_each_example\",\"segment_each_example\"]},{\"label\":\"hellaswag:acc\",\"values\":[0.29117705636327423,0.29117705636327423,0.29117705636327423,0.29117705636327423,0.2898824935271858,0.2898824935271858,0.2898824935271858,0.2898824935271858,0.2898824935271858,0.2898824935271858,0.2898824935271858,0.2898824935271858,0.2898824935271858,0.2898824935271858,0.2898824935271858,0.28510256920932087,0.28510256920932087,0.2822146982672774,0.2822146982672774,0.28211511651065524,0.28211511651065524,0.2729535949014141,0.2729535949014141,0.2726548496315475,0.2726548496315475,0.26488747261501694,0.26488747261501694,0.26488747261501694,0.26488747261501694,0.2645887273451504,0.2645887273451504,0.2635929097789285,0.2635929097789285,0.2635929097789285,0.2635929097789285,0.2635929097789285,0.2635929097789285,0.2635929097789285,0.2635929097789285,0.2635929097789285,0.2635929097789285,0.2635929097789285,0.2635929097789285,0.2531368253335989,0.2531368253335989,0.2531368253335989,0.2531368253335989,0.2531368253335989,0.2531368253335989,0.2531368253335989,0.2531368253335989,0.2531368253335989,0.2531368253335989,0.2531368253335989,0.2531368253335989,0.2509460266879108,0.2509460266879108,0.25054769966142204,0.2483569010157339,0.2483569010157339,0.24726150169288985,0.23959370643298147,0.23959370643298147,0.23869747062338179,0.23839872535351522,0.23780123481378213,0.23730332603067117,0.23660625373431587,0.23620792670782711,0.23620792670782711,0.23590918143796055,0.23590918143796055,0.23590918143796055,0.23590918143796055,0.23511252738498306,0.2326229834694284]}],\"hoveron\":\"color\",\"line\":{\"color\":[0.29117705636327423,0.29117705636327423,0.29117705636327423,0.29117705636327423,0.2898824935271858,0.2898824935271858,0.2898824935271858,0.2898824935271858,0.2898824935271858,0.2898824935271858,0.2898824935271858,0.2898824935271858,0.2898824935271858,0.2898824935271858,0.2898824935271858,0.28510256920932087,0.28510256920932087,0.2822146982672774,0.2822146982672774,0.28211511651065524,0.28211511651065524,0.2729535949014141,0.2729535949014141,0.2726548496315475,0.2726548496315475,0.26488747261501694,0.26488747261501694,0.26488747261501694,0.26488747261501694,0.2645887273451504,0.2645887273451504,0.2635929097789285,0.2635929097789285,0.2635929097789285,0.2635929097789285,0.2635929097789285,0.2635929097789285,0.2635929097789285,0.2635929097789285,0.2635929097789285,0.2635929097789285,0.2635929097789285,0.2635929097789285,0.2531368253335989,0.2531368253335989,0.2531368253335989,0.2531368253335989,0.2531368253335989,0.2531368253335989,0.2531368253335989,0.2531368253335989,0.2531368253335989,0.2531368253335989,0.2531368253335989,0.2531368253335989,0.2509460266879108,0.2509460266879108,0.25054769966142204,0.2483569010157339,0.2483569010157339,0.24726150169288985,0.23959370643298147,0.23959370643298147,0.23869747062338179,0.23839872535351522,0.23780123481378213,0.23730332603067117,0.23660625373431587,0.23620792670782711,0.23620792670782711,0.23590918143796055,0.23590918143796055,0.23590918143796055,0.23590918143796055,0.23511252738498306,0.2326229834694284],\"coloraxis\":\"coloraxis\"},\"type\":\"parcats\"}],                        {\"template\":{\"data\":{\"histogram2dcontour\":[{\"type\":\"histogram2dcontour\",\"colorbar\":{\"outlinewidth\":0,\"ticks\":\"\"},\"colorscale\":[[0.0,\"#0d0887\"],[0.1111111111111111,\"#46039f\"],[0.2222222222222222,\"#7201a8\"],[0.3333333333333333,\"#9c179e\"],[0.4444444444444444,\"#bd3786\"],[0.5555555555555556,\"#d8576b\"],[0.6666666666666666,\"#ed7953\"],[0.7777777777777778,\"#fb9f3a\"],[0.8888888888888888,\"#fdca26\"],[1.0,\"#f0f921\"]]}],\"choropleth\":[{\"type\":\"choropleth\",\"colorbar\":{\"outlinewidth\":0,\"ticks\":\"\"}}],\"histogram2d\":[{\"type\":\"histogram2d\",\"colorbar\":{\"outlinewidth\":0,\"ticks\":\"\"},\"colorscale\":[[0.0,\"#0d0887\"],[0.1111111111111111,\"#46039f\"],[0.2222222222222222,\"#7201a8\"],[0.3333333333333333,\"#9c179e\"],[0.4444444444444444,\"#bd3786\"],[0.5555555555555556,\"#d8576b\"],[0.6666666666666666,\"#ed7953\"],[0.7777777777777778,\"#fb9f3a\"],[0.8888888888888888,\"#fdca26\"],[1.0,\"#f0f921\"]]}],\"heatmap\":[{\"type\":\"heatmap\",\"colorbar\":{\"outlinewidth\":0,\"ticks\":\"\"},\"colorscale\":[[0.0,\"#0d0887\"],[0.1111111111111111,\"#46039f\"],[0.2222222222222222,\"#7201a8\"],[0.3333333333333333,\"#9c179e\"],[0.4444444444444444,\"#bd3786\"],[0.5555555555555556,\"#d8576b\"],[0.6666666666666666,\"#ed7953\"],[0.7777777777777778,\"#fb9f3a\"],[0.8888888888888888,\"#fdca26\"],[1.0,\"#f0f921\"]]}],\"heatmapgl\":[{\"type\":\"heatmapgl\",\"colorbar\":{\"outlinewidth\":0,\"ticks\":\"\"},\"colorscale\":[[0.0,\"#0d0887\"],[0.1111111111111111,\"#46039f\"],[0.2222222222222222,\"#7201a8\"],[0.3333333333333333,\"#9c179e\"],[0.4444444444444444,\"#bd3786\"],[0.5555555555555556,\"#d8576b\"],[0.6666666666666666,\"#ed7953\"],[0.7777777777777778,\"#fb9f3a\"],[0.8888888888888888,\"#fdca26\"],[1.0,\"#f0f921\"]]}],\"contourcarpet\":[{\"type\":\"contourcarpet\",\"colorbar\":{\"outlinewidth\":0,\"ticks\":\"\"}}],\"contour\":[{\"type\":\"contour\",\"colorbar\":{\"outlinewidth\":0,\"ticks\":\"\"},\"colorscale\":[[0.0,\"#0d0887\"],[0.1111111111111111,\"#46039f\"],[0.2222222222222222,\"#7201a8\"],[0.3333333333333333,\"#9c179e\"],[0.4444444444444444,\"#bd3786\"],[0.5555555555555556,\"#d8576b\"],[0.6666666666666666,\"#ed7953\"],[0.7777777777777778,\"#fb9f3a\"],[0.8888888888888888,\"#fdca26\"],[1.0,\"#f0f921\"]]}],\"surface\":[{\"type\":\"surface\",\"colorbar\":{\"outlinewidth\":0,\"ticks\":\"\"},\"colorscale\":[[0.0,\"#0d0887\"],[0.1111111111111111,\"#46039f\"],[0.2222222222222222,\"#7201a8\"],[0.3333333333333333,\"#9c179e\"],[0.4444444444444444,\"#bd3786\"],[0.5555555555555556,\"#d8576b\"],[0.6666666666666666,\"#ed7953\"],[0.7777777777777778,\"#fb9f3a\"],[0.8888888888888888,\"#fdca26\"],[1.0,\"#f0f921\"]]}],\"mesh3d\":[{\"type\":\"mesh3d\",\"colorbar\":{\"outlinewidth\":0,\"ticks\":\"\"}}],\"scatter\":[{\"fillpattern\":{\"fillmode\":\"overlay\",\"size\":10,\"solidity\":0.2},\"type\":\"scatter\"}],\"parcoords\":[{\"type\":\"parcoords\",\"line\":{\"colorbar\":{\"outlinewidth\":0,\"ticks\":\"\"}}}],\"scatterpolargl\":[{\"type\":\"scatterpolargl\",\"marker\":{\"colorbar\":{\"outlinewidth\":0,\"ticks\":\"\"}}}],\"bar\":[{\"error_x\":{\"color\":\"#2a3f5f\"},\"error_y\":{\"color\":\"#2a3f5f\"},\"marker\":{\"line\":{\"color\":\"#E5ECF6\",\"width\":0.5},\"pattern\":{\"fillmode\":\"overlay\",\"size\":10,\"solidity\":0.2}},\"type\":\"bar\"}],\"scattergeo\":[{\"type\":\"scattergeo\",\"marker\":{\"colorbar\":{\"outlinewidth\":0,\"ticks\":\"\"}}}],\"scatterpolar\":[{\"type\":\"scatterpolar\",\"marker\":{\"colorbar\":{\"outlinewidth\":0,\"ticks\":\"\"}}}],\"histogram\":[{\"marker\":{\"pattern\":{\"fillmode\":\"overlay\",\"size\":10,\"solidity\":0.2}},\"type\":\"histogram\"}],\"scattergl\":[{\"type\":\"scattergl\",\"marker\":{\"colorbar\":{\"outlinewidth\":0,\"ticks\":\"\"}}}],\"scatter3d\":[{\"type\":\"scatter3d\",\"line\":{\"colorbar\":{\"outlinewidth\":0,\"ticks\":\"\"}},\"marker\":{\"colorbar\":{\"outlinewidth\":0,\"ticks\":\"\"}}}],\"scattermapbox\":[{\"type\":\"scattermapbox\",\"marker\":{\"colorbar\":{\"outlinewidth\":0,\"ticks\":\"\"}}}],\"scatterternary\":[{\"type\":\"scatterternary\",\"marker\":{\"colorbar\":{\"outlinewidth\":0,\"ticks\":\"\"}}}],\"scattercarpet\":[{\"type\":\"scattercarpet\",\"marker\":{\"colorbar\":{\"outlinewidth\":0,\"ticks\":\"\"}}}],\"carpet\":[{\"aaxis\":{\"endlinecolor\":\"#2a3f5f\",\"gridcolor\":\"white\",\"linecolor\":\"white\",\"minorgridcolor\":\"white\",\"startlinecolor\":\"#2a3f5f\"},\"baxis\":{\"endlinecolor\":\"#2a3f5f\",\"gridcolor\":\"white\",\"linecolor\":\"white\",\"minorgridcolor\":\"white\",\"startlinecolor\":\"#2a3f5f\"},\"type\":\"carpet\"}],\"table\":[{\"cells\":{\"fill\":{\"color\":\"#EBF0F8\"},\"line\":{\"color\":\"white\"}},\"header\":{\"fill\":{\"color\":\"#C8D4E3\"},\"line\":{\"color\":\"white\"}},\"type\":\"table\"}],\"barpolar\":[{\"marker\":{\"line\":{\"color\":\"#E5ECF6\",\"width\":0.5},\"pattern\":{\"fillmode\":\"overlay\",\"size\":10,\"solidity\":0.2}},\"type\":\"barpolar\"}],\"pie\":[{\"automargin\":true,\"type\":\"pie\"}]},\"layout\":{\"autotypenumbers\":\"strict\",\"colorway\":[\"#636efa\",\"#EF553B\",\"#00cc96\",\"#ab63fa\",\"#FFA15A\",\"#19d3f3\",\"#FF6692\",\"#B6E880\",\"#FF97FF\",\"#FECB52\"],\"font\":{\"color\":\"#2a3f5f\"},\"hovermode\":\"closest\",\"hoverlabel\":{\"align\":\"left\"},\"paper_bgcolor\":\"white\",\"plot_bgcolor\":\"#E5ECF6\",\"polar\":{\"bgcolor\":\"#E5ECF6\",\"angularaxis\":{\"gridcolor\":\"white\",\"linecolor\":\"white\",\"ticks\":\"\"},\"radialaxis\":{\"gridcolor\":\"white\",\"linecolor\":\"white\",\"ticks\":\"\"}},\"ternary\":{\"bgcolor\":\"#E5ECF6\",\"aaxis\":{\"gridcolor\":\"white\",\"linecolor\":\"white\",\"ticks\":\"\"},\"baxis\":{\"gridcolor\":\"white\",\"linecolor\":\"white\",\"ticks\":\"\"},\"caxis\":{\"gridcolor\":\"white\",\"linecolor\":\"white\",\"ticks\":\"\"}},\"coloraxis\":{\"colorbar\":{\"outlinewidth\":0,\"ticks\":\"\"}},\"colorscale\":{\"sequential\":[[0.0,\"#0d0887\"],[0.1111111111111111,\"#46039f\"],[0.2222222222222222,\"#7201a8\"],[0.3333333333333333,\"#9c179e\"],[0.4444444444444444,\"#bd3786\"],[0.5555555555555556,\"#d8576b\"],[0.6666666666666666,\"#ed7953\"],[0.7777777777777778,\"#fb9f3a\"],[0.8888888888888888,\"#fdca26\"],[1.0,\"#f0f921\"]],\"sequentialminus\":[[0.0,\"#0d0887\"],[0.1111111111111111,\"#46039f\"],[0.2222222222222222,\"#7201a8\"],[0.3333333333333333,\"#9c179e\"],[0.4444444444444444,\"#bd3786\"],[0.5555555555555556,\"#d8576b\"],[0.6666666666666666,\"#ed7953\"],[0.7777777777777778,\"#fb9f3a\"],[0.8888888888888888,\"#fdca26\"],[1.0,\"#f0f921\"]],\"diverging\":[[0,\"#8e0152\"],[0.1,\"#c51b7d\"],[0.2,\"#de77ae\"],[0.3,\"#f1b6da\"],[0.4,\"#fde0ef\"],[0.5,\"#f7f7f7\"],[0.6,\"#e6f5d0\"],[0.7,\"#b8e186\"],[0.8,\"#7fbc41\"],[0.9,\"#4d9221\"],[1,\"#276419\"]]},\"xaxis\":{\"gridcolor\":\"white\",\"linecolor\":\"white\",\"ticks\":\"\",\"title\":{\"standoff\":15},\"zerolinecolor\":\"white\",\"automargin\":true,\"zerolinewidth\":2},\"yaxis\":{\"gridcolor\":\"white\",\"linecolor\":\"white\",\"ticks\":\"\",\"title\":{\"standoff\":15},\"zerolinecolor\":\"white\",\"automargin\":true,\"zerolinewidth\":2},\"scene\":{\"xaxis\":{\"backgroundcolor\":\"#E5ECF6\",\"gridcolor\":\"white\",\"linecolor\":\"white\",\"showbackground\":true,\"ticks\":\"\",\"zerolinecolor\":\"white\",\"gridwidth\":2},\"yaxis\":{\"backgroundcolor\":\"#E5ECF6\",\"gridcolor\":\"white\",\"linecolor\":\"white\",\"showbackground\":true,\"ticks\":\"\",\"zerolinecolor\":\"white\",\"gridwidth\":2},\"zaxis\":{\"backgroundcolor\":\"#E5ECF6\",\"gridcolor\":\"white\",\"linecolor\":\"white\",\"showbackground\":true,\"ticks\":\"\",\"zerolinecolor\":\"white\",\"gridwidth\":2}},\"shapedefaults\":{\"line\":{\"color\":\"#2a3f5f\"}},\"annotationdefaults\":{\"arrowcolor\":\"#2a3f5f\",\"arrowhead\":0,\"arrowwidth\":1},\"geo\":{\"bgcolor\":\"white\",\"landcolor\":\"#E5ECF6\",\"subunitcolor\":\"white\",\"showland\":true,\"showlakes\":true,\"lakecolor\":\"white\"},\"title\":{\"x\":0.05},\"mapbox\":{\"style\":\"light\"}}},\"coloraxis\":{\"colorbar\":{\"lenmode\":\"fraction\",\"len\":1.0,\"yanchor\":\"top\",\"y\":1.0},\"colorscale\":[[0.0,\"#00224e\"],[0.1111111111111111,\"#123570\"],[0.2222222222222222,\"#3b496c\"],[0.3333333333333333,\"#575d6d\"],[0.4444444444444444,\"#707173\"],[0.5555555555555556,\"#8a8678\"],[0.6666666666666666,\"#a59c74\"],[0.7777777777777778,\"#c3b369\"],[0.8888888888888888,\"#e1cc55\"],[1.0,\"#fee838\"]],\"showscale\":true},\"height\":1500},                        {\"responsive\": true}                    ).then(function(){\n",
       "                            \n",
       "var gd = document.getElementById('a84ecd5f-551f-4084-a113-a4f9fec51958');\n",
       "var x = new MutationObserver(function (mutations, observer) {{\n",
       "        var display = window.getComputedStyle(gd).display;\n",
       "        if (!display || display === 'none') {{\n",
       "            console.log([gd, 'removed!']);\n",
       "            Plotly.purge(gd);\n",
       "            observer.disconnect();\n",
       "        }}\n",
       "}});\n",
       "\n",
       "// Listen for the removal of the full notebook cells\n",
       "var notebookContainer = gd.closest('#notebook-container');\n",
       "if (notebookContainer) {{\n",
       "    x.observe(notebookContainer, {childList: true});\n",
       "}}\n",
       "\n",
       "// Listen for the clearing of the current output cell\n",
       "var outputEl = gd.closest('.output');\n",
       "if (outputEl) {{\n",
       "    x.observe(outputEl, {childList: true});\n",
       "}}\n",
       "\n",
       "                        })                };                });            </script>        </div>"
      ]
     },
     "metadata": {},
     "output_type": "display_data"
    }
   ],
   "source": [
    "fig_parcats(df_hellaswag_sim1, 'hellaswag:acc', ['hellaswag:acc_stderr', 'mtime', 'filename', 'date'], height=1500)"
   ]
  },
  {
   "cell_type": "code",
   "execution_count": 5,
   "metadata": {},
   "outputs": [
    {
     "data": {
      "text/html": [
       "<div>\n",
       "<style scoped>\n",
       "    .dataframe tbody tr th:only-of-type {\n",
       "        vertical-align: middle;\n",
       "    }\n",
       "\n",
       "    .dataframe tbody tr th {\n",
       "        vertical-align: top;\n",
       "    }\n",
       "\n",
       "    .dataframe thead th {\n",
       "        text-align: right;\n",
       "    }\n",
       "</style>\n",
       "<table border=\"1\" class=\"dataframe\">\n",
       "  <thead>\n",
       "    <tr style=\"text-align: right;\">\n",
       "      <th></th>\n",
       "      <th>filename</th>\n",
       "      <th>num_fewshot</th>\n",
       "      <th>pretrained</th>\n",
       "      <th>SEGMENT_AGG_SCHEME</th>\n",
       "      <th>hellaswag:acc_stderr</th>\n",
       "      <th>NORM</th>\n",
       "      <th>EXAMPLE_AGG_SCHEME</th>\n",
       "      <th>SIMILARITY_FUNC</th>\n",
       "      <th>WORD_AGG_SCHEME</th>\n",
       "      <th>model_type</th>\n",
       "      <th>hellaswag:acc</th>\n",
       "      <th>ENCODING_LAYER</th>\n",
       "      <th>mtime</th>\n",
       "      <th>encoding_scheme</th>\n",
       "      <th>date</th>\n",
       "    </tr>\n",
       "  </thead>\n",
       "  <tbody>\n",
       "    <tr>\n",
       "      <th>56</th>\n",
       "      <td>b89708c3804ffe013c2c82685f2c6927ca4840f2.json</td>\n",
       "      <td>5</td>\n",
       "      <td>EleutherAI/gpt-neo-1.3B</td>\n",
       "      <td>None</td>\n",
       "      <td>0.004534</td>\n",
       "      <td>layer</td>\n",
       "      <td>None</td>\n",
       "      <td>dot_product</td>\n",
       "      <td>mean</td>\n",
       "      <td>dist_sim</td>\n",
       "      <td>0.291177</td>\n",
       "      <td>middle</td>\n",
       "      <td>1.670967e+09</td>\n",
       "      <td>concat_all_examples</td>\n",
       "      <td>2022-12-13 13:22:00.695954688-08:00</td>\n",
       "    </tr>\n",
       "    <tr>\n",
       "      <th>26</th>\n",
       "      <td>1ce5fc21b3d0668d2e067d317391e11c20a84c47.json</td>\n",
       "      <td>5</td>\n",
       "      <td>EleutherAI/gpt-neo-1.3B</td>\n",
       "      <td>None</td>\n",
       "      <td>0.004534</td>\n",
       "      <td>layer</td>\n",
       "      <td>soft_cluster</td>\n",
       "      <td>dot_product</td>\n",
       "      <td>mean</td>\n",
       "      <td>dist_sim</td>\n",
       "      <td>0.291177</td>\n",
       "      <td>middle</td>\n",
       "      <td>1.670967e+09</td>\n",
       "      <td>concat_all_examples</td>\n",
       "      <td>2022-12-13 13:22:28.839707648-08:00</td>\n",
       "    </tr>\n",
       "    <tr>\n",
       "      <th>25</th>\n",
       "      <td>e9dd4d906aa3c5d6e83ed55450cf364768d5ca4b.json</td>\n",
       "      <td>5</td>\n",
       "      <td>EleutherAI/gpt-neo-1.3B</td>\n",
       "      <td>mean</td>\n",
       "      <td>0.004534</td>\n",
       "      <td>layer</td>\n",
       "      <td>soft_cluster</td>\n",
       "      <td>dot_product</td>\n",
       "      <td>mean</td>\n",
       "      <td>dist_sim</td>\n",
       "      <td>0.291177</td>\n",
       "      <td>middle</td>\n",
       "      <td>1.670967e+09</td>\n",
       "      <td>concat_all_examples</td>\n",
       "      <td>2022-12-13 13:23:16.643286528-08:00</td>\n",
       "    </tr>\n",
       "    <tr>\n",
       "      <th>24</th>\n",
       "      <td>ed318001f2e6e8c658aee3df51dfbcba45fef2bc.json</td>\n",
       "      <td>5</td>\n",
       "      <td>EleutherAI/gpt-neo-1.3B</td>\n",
       "      <td>mean</td>\n",
       "      <td>0.004534</td>\n",
       "      <td>layer</td>\n",
       "      <td>None</td>\n",
       "      <td>dot_product</td>\n",
       "      <td>mean</td>\n",
       "      <td>dist_sim</td>\n",
       "      <td>0.291177</td>\n",
       "      <td>middle</td>\n",
       "      <td>1.670967e+09</td>\n",
       "      <td>concat_all_examples</td>\n",
       "      <td>2022-12-13 13:23:00.119432192-08:00</td>\n",
       "    </tr>\n",
       "  </tbody>\n",
       "</table>\n",
       "</div>"
      ],
      "text/plain": [
       "                                         filename  num_fewshot  \\\n",
       "56  b89708c3804ffe013c2c82685f2c6927ca4840f2.json            5   \n",
       "26  1ce5fc21b3d0668d2e067d317391e11c20a84c47.json            5   \n",
       "25  e9dd4d906aa3c5d6e83ed55450cf364768d5ca4b.json            5   \n",
       "24  ed318001f2e6e8c658aee3df51dfbcba45fef2bc.json            5   \n",
       "\n",
       "                 pretrained SEGMENT_AGG_SCHEME  hellaswag:acc_stderr   NORM  \\\n",
       "56  EleutherAI/gpt-neo-1.3B               None              0.004534  layer   \n",
       "26  EleutherAI/gpt-neo-1.3B               None              0.004534  layer   \n",
       "25  EleutherAI/gpt-neo-1.3B               mean              0.004534  layer   \n",
       "24  EleutherAI/gpt-neo-1.3B               mean              0.004534  layer   \n",
       "\n",
       "   EXAMPLE_AGG_SCHEME SIMILARITY_FUNC WORD_AGG_SCHEME model_type  \\\n",
       "56               None     dot_product            mean   dist_sim   \n",
       "26       soft_cluster     dot_product            mean   dist_sim   \n",
       "25       soft_cluster     dot_product            mean   dist_sim   \n",
       "24               None     dot_product            mean   dist_sim   \n",
       "\n",
       "    hellaswag:acc ENCODING_LAYER         mtime      encoding_scheme  \\\n",
       "56       0.291177         middle  1.670967e+09  concat_all_examples   \n",
       "26       0.291177         middle  1.670967e+09  concat_all_examples   \n",
       "25       0.291177         middle  1.670967e+09  concat_all_examples   \n",
       "24       0.291177         middle  1.670967e+09  concat_all_examples   \n",
       "\n",
       "                                  date  \n",
       "56 2022-12-13 13:22:00.695954688-08:00  \n",
       "26 2022-12-13 13:22:28.839707648-08:00  \n",
       "25 2022-12-13 13:23:16.643286528-08:00  \n",
       "24 2022-12-13 13:23:00.119432192-08:00  "
      ]
     },
     "execution_count": 5,
     "metadata": {},
     "output_type": "execute_result"
    }
   ],
   "source": [
    "df_hellaswag_sim1[(df_hellaswag_sim1.encoding_scheme == 'concat_all_examples') & df_hellaswag_sim1.EXAMPLE_AGG_SCHEME.isna() & df_hellaswag_sim1.SEGMENT_AGG_SCHEME.isna() & (df_hellaswag_sim1.num_fewshot == 5)][\n",
    "    ['filename', 'num_fewshot', 'encoding_scheme', 'ENCODING_LAYER', 'NORM', 'WORD_AGG_SCHEME', 'SEGMENT_AGG_SCHEME', 'EXAMPLE_AGG_SCHEME', 'hellaswag:acc', 'date']\n",
    "]\n",
    "df_hellaswag_sim1[df_hellaswag_sim1['hellaswag:acc'] > 0.29]"
   ]
  },
  {
   "cell_type": "code",
   "execution_count": 13,
   "metadata": {},
   "outputs": [
    {
     "name": "stdout",
     "output_type": "stream",
     "text": [
      "metric cols regexp = re.compile('^((hellaswag:acc)).*')\n",
      "Following columns will be dropped: {'hellaswag:rand_acc_stderr', 'limit', 'hellaswag:rand_acc'}\n"
     ]
    },
    {
     "data": {
      "text/html": [
       "<div>\n",
       "<style scoped>\n",
       "    .dataframe tbody tr th:only-of-type {\n",
       "        vertical-align: middle;\n",
       "    }\n",
       "\n",
       "    .dataframe tbody tr th {\n",
       "        vertical-align: top;\n",
       "    }\n",
       "\n",
       "    .dataframe thead th {\n",
       "        text-align: right;\n",
       "    }\n",
       "</style>\n",
       "<table border=\"1\" class=\"dataframe\">\n",
       "  <thead>\n",
       "    <tr style=\"text-align: right;\">\n",
       "      <th></th>\n",
       "      <th>filename</th>\n",
       "      <th>num_fewshot</th>\n",
       "      <th>pretrained</th>\n",
       "      <th>SEGMENT_AGG_SCHEME</th>\n",
       "      <th>hellaswag:acc_stderr</th>\n",
       "      <th>NORM</th>\n",
       "      <th>EXAMPLE_AGG_SCHEME</th>\n",
       "      <th>SIMILARITY_FUNC</th>\n",
       "      <th>WORD_AGG_SCHEME</th>\n",
       "      <th>model_type</th>\n",
       "      <th>hellaswag:acc</th>\n",
       "      <th>ENCODING_LAYER</th>\n",
       "      <th>mtime</th>\n",
       "      <th>encoding_scheme</th>\n",
       "      <th>date</th>\n",
       "    </tr>\n",
       "  </thead>\n",
       "  <tbody>\n",
       "    <tr>\n",
       "      <th>1</th>\n",
       "      <td>3893962f5595e2545fa4df91fb2417ce8063904f.json</td>\n",
       "      <td>5</td>\n",
       "      <td>EleutherAI/gpt-neo-1.3B</td>\n",
       "      <td>None</td>\n",
       "      <td>0.004283</td>\n",
       "      <td>layer</td>\n",
       "      <td>mean</td>\n",
       "      <td>dot_product</td>\n",
       "      <td>mean</td>\n",
       "      <td>dist_sim</td>\n",
       "      <td>0.243477</td>\n",
       "      <td>middle</td>\n",
       "      <td>1.671768e+09</td>\n",
       "      <td>concat_all_examples</td>\n",
       "      <td>2022-12-22 19:57:22.583271680-08:00</td>\n",
       "    </tr>\n",
       "    <tr>\n",
       "      <th>3</th>\n",
       "      <td>1ce5fc21b3d0668d2e067d317391e11c20a84c47.json</td>\n",
       "      <td>5</td>\n",
       "      <td>EleutherAI/gpt-neo-1.3B</td>\n",
       "      <td>None</td>\n",
       "      <td>0.004301</td>\n",
       "      <td>layer</td>\n",
       "      <td>soft_cluster</td>\n",
       "      <td>dot_product</td>\n",
       "      <td>mean</td>\n",
       "      <td>dist_sim</td>\n",
       "      <td>0.246564</td>\n",
       "      <td>middle</td>\n",
       "      <td>1.671768e+09</td>\n",
       "      <td>concat_all_examples</td>\n",
       "      <td>2022-12-22 19:57:22.583271680-08:00</td>\n",
       "    </tr>\n",
       "    <tr>\n",
       "      <th>5</th>\n",
       "      <td>b89708c3804ffe013c2c82685f2c6927ca4840f2.json</td>\n",
       "      <td>5</td>\n",
       "      <td>EleutherAI/gpt-neo-1.3B</td>\n",
       "      <td>None</td>\n",
       "      <td>0.004300</td>\n",
       "      <td>layer</td>\n",
       "      <td>None</td>\n",
       "      <td>dot_product</td>\n",
       "      <td>mean</td>\n",
       "      <td>dist_sim</td>\n",
       "      <td>0.246266</td>\n",
       "      <td>middle</td>\n",
       "      <td>1.671768e+09</td>\n",
       "      <td>concat_all_examples</td>\n",
       "      <td>2022-12-22 19:57:22.583271680-08:00</td>\n",
       "    </tr>\n",
       "    <tr>\n",
       "      <th>0</th>\n",
       "      <td>cdaeca9d26610cff81f76e5c9e2aa0336f1c5ec1.json</td>\n",
       "      <td>5</td>\n",
       "      <td>EleutherAI/gpt-neo-1.3B</td>\n",
       "      <td>None</td>\n",
       "      <td>0.004326</td>\n",
       "      <td>layer</td>\n",
       "      <td>mean</td>\n",
       "      <td>dot_product</td>\n",
       "      <td>mean</td>\n",
       "      <td>dist_sim</td>\n",
       "      <td>0.250846</td>\n",
       "      <td>None</td>\n",
       "      <td>1.671768e+09</td>\n",
       "      <td>concat_all_examples</td>\n",
       "      <td>2022-12-22 19:57:22.583271680-08:00</td>\n",
       "    </tr>\n",
       "    <tr>\n",
       "      <th>2</th>\n",
       "      <td>9932af64541da885f3ae3ba414db150712263110.json</td>\n",
       "      <td>5</td>\n",
       "      <td>EleutherAI/gpt-neo-1.3B</td>\n",
       "      <td>None</td>\n",
       "      <td>0.004292</td>\n",
       "      <td>layer</td>\n",
       "      <td>soft_cluster</td>\n",
       "      <td>dot_product</td>\n",
       "      <td>mean</td>\n",
       "      <td>dist_sim</td>\n",
       "      <td>0.244971</td>\n",
       "      <td>None</td>\n",
       "      <td>1.671768e+09</td>\n",
       "      <td>concat_all_examples</td>\n",
       "      <td>2022-12-22 19:57:22.583271680-08:00</td>\n",
       "    </tr>\n",
       "    <tr>\n",
       "      <th>4</th>\n",
       "      <td>f2259eb8f10e46c9d862ad5d016bea94c044d402.json</td>\n",
       "      <td>5</td>\n",
       "      <td>EleutherAI/gpt-neo-1.3B</td>\n",
       "      <td>None</td>\n",
       "      <td>0.004304</td>\n",
       "      <td>layer</td>\n",
       "      <td>None</td>\n",
       "      <td>dot_product</td>\n",
       "      <td>mean</td>\n",
       "      <td>dist_sim</td>\n",
       "      <td>0.247062</td>\n",
       "      <td>None</td>\n",
       "      <td>1.671768e+09</td>\n",
       "      <td>concat_all_examples</td>\n",
       "      <td>2022-12-22 19:57:22.583271680-08:00</td>\n",
       "    </tr>\n",
       "  </tbody>\n",
       "</table>\n",
       "</div>"
      ],
      "text/plain": [
       "                                        filename  num_fewshot  \\\n",
       "1  3893962f5595e2545fa4df91fb2417ce8063904f.json            5   \n",
       "3  1ce5fc21b3d0668d2e067d317391e11c20a84c47.json            5   \n",
       "5  b89708c3804ffe013c2c82685f2c6927ca4840f2.json            5   \n",
       "0  cdaeca9d26610cff81f76e5c9e2aa0336f1c5ec1.json            5   \n",
       "2  9932af64541da885f3ae3ba414db150712263110.json            5   \n",
       "4  f2259eb8f10e46c9d862ad5d016bea94c044d402.json            5   \n",
       "\n",
       "                pretrained SEGMENT_AGG_SCHEME  hellaswag:acc_stderr   NORM  \\\n",
       "1  EleutherAI/gpt-neo-1.3B               None              0.004283  layer   \n",
       "3  EleutherAI/gpt-neo-1.3B               None              0.004301  layer   \n",
       "5  EleutherAI/gpt-neo-1.3B               None              0.004300  layer   \n",
       "0  EleutherAI/gpt-neo-1.3B               None              0.004326  layer   \n",
       "2  EleutherAI/gpt-neo-1.3B               None              0.004292  layer   \n",
       "4  EleutherAI/gpt-neo-1.3B               None              0.004304  layer   \n",
       "\n",
       "  EXAMPLE_AGG_SCHEME SIMILARITY_FUNC WORD_AGG_SCHEME model_type  \\\n",
       "1               mean     dot_product            mean   dist_sim   \n",
       "3       soft_cluster     dot_product            mean   dist_sim   \n",
       "5               None     dot_product            mean   dist_sim   \n",
       "0               mean     dot_product            mean   dist_sim   \n",
       "2       soft_cluster     dot_product            mean   dist_sim   \n",
       "4               None     dot_product            mean   dist_sim   \n",
       "\n",
       "   hellaswag:acc ENCODING_LAYER         mtime      encoding_scheme  \\\n",
       "1       0.243477         middle  1.671768e+09  concat_all_examples   \n",
       "3       0.246564         middle  1.671768e+09  concat_all_examples   \n",
       "5       0.246266         middle  1.671768e+09  concat_all_examples   \n",
       "0       0.250846           None  1.671768e+09  concat_all_examples   \n",
       "2       0.244971           None  1.671768e+09  concat_all_examples   \n",
       "4       0.247062           None  1.671768e+09  concat_all_examples   \n",
       "\n",
       "                                 date  \n",
       "1 2022-12-22 19:57:22.583271680-08:00  \n",
       "3 2022-12-22 19:57:22.583271680-08:00  \n",
       "5 2022-12-22 19:57:22.583271680-08:00  \n",
       "0 2022-12-22 19:57:22.583271680-08:00  \n",
       "2 2022-12-22 19:57:22.583271680-08:00  \n",
       "4 2022-12-22 19:57:22.583271680-08:00  "
      ]
     },
     "execution_count": 13,
     "metadata": {},
     "output_type": "execute_result"
    }
   ],
   "source": [
    "all_df_sim3 = read_results(dir = '../lmeval_results_sim4')\n",
    "df_hellaswag_sim3 = task_metrics(all_df_sim3, ['hellaswag:acc'], sort_metrics=['hellaswag:acc'])\n",
    "# fig_parcats(df_hellaswag_sim3, 'hellaswag:acc', ['hellaswag:acc_norm_stderr', 'hellaswag:acc_stderr'], height=1500)\n",
    "df_hellaswag_sim3[(df_hellaswag_sim3.encoding_scheme == 'concat_all_examples') & df_hellaswag_sim3.EXAMPLE_AGG_SCHEME.isna() & (df_hellaswag_sim3.num_fewshot == 5) & (df_hellaswag_sim3.ENCODING_LAYER == 'middle')]\n",
    "df_hellaswag_sim3.sort_values(by=['num_fewshot', 'ENCODING_LAYER', 'EXAMPLE_AGG_SCHEME'])"
   ]
  },
  {
   "cell_type": "code",
   "execution_count": 12,
   "metadata": {},
   "outputs": [
    {
     "name": "stdout",
     "output_type": "stream",
     "text": [
      "metric cols regexp = re.compile('^((hellaswag:acc)).*')\n",
      "Following columns will be dropped: {'hellaswag:rand_acc_stderr', 'limit', 'hellaswag:rand_acc'}\n"
     ]
    },
    {
     "data": {
      "text/html": [
       "<div>\n",
       "<style scoped>\n",
       "    .dataframe tbody tr th:only-of-type {\n",
       "        vertical-align: middle;\n",
       "    }\n",
       "\n",
       "    .dataframe tbody tr th {\n",
       "        vertical-align: top;\n",
       "    }\n",
       "\n",
       "    .dataframe thead th {\n",
       "        text-align: right;\n",
       "    }\n",
       "</style>\n",
       "<table border=\"1\" class=\"dataframe\">\n",
       "  <thead>\n",
       "    <tr style=\"text-align: right;\">\n",
       "      <th></th>\n",
       "      <th>filename</th>\n",
       "      <th>num_fewshot</th>\n",
       "      <th>pretrained</th>\n",
       "      <th>SEGMENT_AGG_SCHEME</th>\n",
       "      <th>hellaswag:acc_stderr</th>\n",
       "      <th>NORM</th>\n",
       "      <th>EXAMPLE_AGG_SCHEME</th>\n",
       "      <th>SIMILARITY_FUNC</th>\n",
       "      <th>WORD_AGG_SCHEME</th>\n",
       "      <th>model_type</th>\n",
       "      <th>hellaswag:acc</th>\n",
       "      <th>ENCODING_LAYER</th>\n",
       "      <th>mtime</th>\n",
       "      <th>encoding_scheme</th>\n",
       "      <th>date</th>\n",
       "    </tr>\n",
       "  </thead>\n",
       "  <tbody>\n",
       "    <tr>\n",
       "      <th>1</th>\n",
       "      <td>3893962f5595e2545fa4df91fb2417ce8063904f.json</td>\n",
       "      <td>5</td>\n",
       "      <td>EleutherAI/gpt-neo-1.3B</td>\n",
       "      <td>None</td>\n",
       "      <td>0.004289</td>\n",
       "      <td>layer</td>\n",
       "      <td>mean</td>\n",
       "      <td>dot_product</td>\n",
       "      <td>mean</td>\n",
       "      <td>dist_sim</td>\n",
       "      <td>0.244473</td>\n",
       "      <td>middle</td>\n",
       "      <td>1.671755e+09</td>\n",
       "      <td>concat_all_examples</td>\n",
       "      <td>2022-12-22 16:27:00.821106944-08:00</td>\n",
       "    </tr>\n",
       "    <tr>\n",
       "      <th>3</th>\n",
       "      <td>1ce5fc21b3d0668d2e067d317391e11c20a84c47.json</td>\n",
       "      <td>5</td>\n",
       "      <td>EleutherAI/gpt-neo-1.3B</td>\n",
       "      <td>None</td>\n",
       "      <td>0.004295</td>\n",
       "      <td>layer</td>\n",
       "      <td>soft_cluster</td>\n",
       "      <td>dot_product</td>\n",
       "      <td>mean</td>\n",
       "      <td>dist_sim</td>\n",
       "      <td>0.245569</td>\n",
       "      <td>middle</td>\n",
       "      <td>1.671755e+09</td>\n",
       "      <td>concat_all_examples</td>\n",
       "      <td>2022-12-22 16:27:00.821106944-08:00</td>\n",
       "    </tr>\n",
       "    <tr>\n",
       "      <th>5</th>\n",
       "      <td>b89708c3804ffe013c2c82685f2c6927ca4840f2.json</td>\n",
       "      <td>5</td>\n",
       "      <td>EleutherAI/gpt-neo-1.3B</td>\n",
       "      <td>None</td>\n",
       "      <td>0.004312</td>\n",
       "      <td>layer</td>\n",
       "      <td>None</td>\n",
       "      <td>dot_product</td>\n",
       "      <td>mean</td>\n",
       "      <td>dist_sim</td>\n",
       "      <td>0.248357</td>\n",
       "      <td>middle</td>\n",
       "      <td>1.671755e+09</td>\n",
       "      <td>concat_all_examples</td>\n",
       "      <td>2022-12-22 16:27:00.821106944-08:00</td>\n",
       "    </tr>\n",
       "    <tr>\n",
       "      <th>0</th>\n",
       "      <td>cdaeca9d26610cff81f76e5c9e2aa0336f1c5ec1.json</td>\n",
       "      <td>5</td>\n",
       "      <td>EleutherAI/gpt-neo-1.3B</td>\n",
       "      <td>None</td>\n",
       "      <td>0.004323</td>\n",
       "      <td>layer</td>\n",
       "      <td>mean</td>\n",
       "      <td>dot_product</td>\n",
       "      <td>mean</td>\n",
       "      <td>dist_sim</td>\n",
       "      <td>0.250249</td>\n",
       "      <td>None</td>\n",
       "      <td>1.671755e+09</td>\n",
       "      <td>concat_all_examples</td>\n",
       "      <td>2022-12-22 16:27:00.821106944-08:00</td>\n",
       "    </tr>\n",
       "    <tr>\n",
       "      <th>2</th>\n",
       "      <td>9932af64541da885f3ae3ba414db150712263110.json</td>\n",
       "      <td>5</td>\n",
       "      <td>EleutherAI/gpt-neo-1.3B</td>\n",
       "      <td>None</td>\n",
       "      <td>0.004303</td>\n",
       "      <td>layer</td>\n",
       "      <td>soft_cluster</td>\n",
       "      <td>dot_product</td>\n",
       "      <td>mean</td>\n",
       "      <td>dist_sim</td>\n",
       "      <td>0.246863</td>\n",
       "      <td>None</td>\n",
       "      <td>1.671755e+09</td>\n",
       "      <td>concat_all_examples</td>\n",
       "      <td>2022-12-22 16:27:00.821106944-08:00</td>\n",
       "    </tr>\n",
       "    <tr>\n",
       "      <th>4</th>\n",
       "      <td>f2259eb8f10e46c9d862ad5d016bea94c044d402.json</td>\n",
       "      <td>5</td>\n",
       "      <td>EleutherAI/gpt-neo-1.3B</td>\n",
       "      <td>None</td>\n",
       "      <td>0.004322</td>\n",
       "      <td>layer</td>\n",
       "      <td>None</td>\n",
       "      <td>dot_product</td>\n",
       "      <td>mean</td>\n",
       "      <td>dist_sim</td>\n",
       "      <td>0.250149</td>\n",
       "      <td>None</td>\n",
       "      <td>1.671755e+09</td>\n",
       "      <td>concat_all_examples</td>\n",
       "      <td>2022-12-22 16:27:00.821106944-08:00</td>\n",
       "    </tr>\n",
       "  </tbody>\n",
       "</table>\n",
       "</div>"
      ],
      "text/plain": [
       "                                        filename  num_fewshot  \\\n",
       "1  3893962f5595e2545fa4df91fb2417ce8063904f.json            5   \n",
       "3  1ce5fc21b3d0668d2e067d317391e11c20a84c47.json            5   \n",
       "5  b89708c3804ffe013c2c82685f2c6927ca4840f2.json            5   \n",
       "0  cdaeca9d26610cff81f76e5c9e2aa0336f1c5ec1.json            5   \n",
       "2  9932af64541da885f3ae3ba414db150712263110.json            5   \n",
       "4  f2259eb8f10e46c9d862ad5d016bea94c044d402.json            5   \n",
       "\n",
       "                pretrained SEGMENT_AGG_SCHEME  hellaswag:acc_stderr   NORM  \\\n",
       "1  EleutherAI/gpt-neo-1.3B               None              0.004289  layer   \n",
       "3  EleutherAI/gpt-neo-1.3B               None              0.004295  layer   \n",
       "5  EleutherAI/gpt-neo-1.3B               None              0.004312  layer   \n",
       "0  EleutherAI/gpt-neo-1.3B               None              0.004323  layer   \n",
       "2  EleutherAI/gpt-neo-1.3B               None              0.004303  layer   \n",
       "4  EleutherAI/gpt-neo-1.3B               None              0.004322  layer   \n",
       "\n",
       "  EXAMPLE_AGG_SCHEME SIMILARITY_FUNC WORD_AGG_SCHEME model_type  \\\n",
       "1               mean     dot_product            mean   dist_sim   \n",
       "3       soft_cluster     dot_product            mean   dist_sim   \n",
       "5               None     dot_product            mean   dist_sim   \n",
       "0               mean     dot_product            mean   dist_sim   \n",
       "2       soft_cluster     dot_product            mean   dist_sim   \n",
       "4               None     dot_product            mean   dist_sim   \n",
       "\n",
       "   hellaswag:acc ENCODING_LAYER         mtime      encoding_scheme  \\\n",
       "1       0.244473         middle  1.671755e+09  concat_all_examples   \n",
       "3       0.245569         middle  1.671755e+09  concat_all_examples   \n",
       "5       0.248357         middle  1.671755e+09  concat_all_examples   \n",
       "0       0.250249           None  1.671755e+09  concat_all_examples   \n",
       "2       0.246863           None  1.671755e+09  concat_all_examples   \n",
       "4       0.250149           None  1.671755e+09  concat_all_examples   \n",
       "\n",
       "                                 date  \n",
       "1 2022-12-22 16:27:00.821106944-08:00  \n",
       "3 2022-12-22 16:27:00.821106944-08:00  \n",
       "5 2022-12-22 16:27:00.821106944-08:00  \n",
       "0 2022-12-22 16:27:00.821106944-08:00  \n",
       "2 2022-12-22 16:27:00.821106944-08:00  \n",
       "4 2022-12-22 16:27:00.821106944-08:00  "
      ]
     },
     "execution_count": 12,
     "metadata": {},
     "output_type": "execute_result"
    }
   ],
   "source": [
    "all_df_sim3 = read_results(dir = '../lmeval_results_sim3')\n",
    "df_hellaswag_sim3 = task_metrics(all_df_sim3, ['hellaswag:acc'], sort_metrics=['hellaswag:acc'])\n",
    "# fig_parcats(df_hellaswag_sim3, 'hellaswag:acc', ['hellaswag:acc_norm_stderr', 'hellaswag:acc_stderr'], height=1500)\n",
    "df_hellaswag_sim3.sort_values(by=['num_fewshot', 'ENCODING_LAYER', 'EXAMPLE_AGG_SCHEME'])"
   ]
  },
  {
   "cell_type": "code",
   "execution_count": null,
   "metadata": {},
   "outputs": [],
   "source": [
    "all_df_sim2 = read_results(dir = '../lmeval_results_sim2')\n",
    "df_hellaswag_sim2 = task_metrics(all_df_sim2, ['hellaswag:acc'], sort_metrics=['hellaswag:acc'])\n",
    "fig_parcats(df_hellaswag_sim2, 'hellaswag:acc', ['hellaswag:acc_norm_stderr', 'hellaswag:acc_stderr'], height=1500)"
   ]
  },
  {
   "cell_type": "code",
   "execution_count": null,
   "metadata": {},
   "outputs": [],
   "source": [
    "from pathlib import Path\n",
    "Path('x/y/z').name"
   ]
  }
 ],
 "metadata": {
  "kernelspec": {
   "display_name": "Python 3.9.13 ('.venv_lme': venv)",
   "language": "python",
   "name": "python3"
  },
  "language_info": {
   "codemirror_mode": {
    "name": "ipython",
    "version": 3
   },
   "file_extension": ".py",
   "mimetype": "text/x-python",
   "name": "python",
   "nbconvert_exporter": "python",
   "pygments_lexer": "ipython3",
   "version": "3.9.13"
  },
  "vscode": {
   "interpreter": {
    "hash": "4a9a0c18e9779ed2e58fb5ce841cff9e897a8be01ea55109e48089b82d3eb788"
   }
  }
 },
 "nbformat": 4,
 "nbformat_minor": 4
}
