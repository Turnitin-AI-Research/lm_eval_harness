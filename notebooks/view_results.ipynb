{
 "cells": [
  {
   "cell_type": "code",
   "execution_count": 10,
   "metadata": {},
   "outputs": [
    {
     "name": "stdout",
     "output_type": "stream",
     "text": [
      "The autoreload extension is already loaded. To reload it, use:\n",
      "  %reload_ext autoreload\n"
     ]
    }
   ],
   "source": [
    "import os\n",
    "import sys\n",
    "import typing\n",
    "import json\n",
    "import re\n",
    "import pandas as pd\n",
    "import plotly.express as px\n",
    "import plotly.graph_objects as go\n",
    "from notebook_utils import read_results, task_metrics, fig_parcats\n",
    "%load_ext autoreload\n",
    "%autoreload 2"
   ]
  },
  {
   "cell_type": "markdown",
   "metadata": {},
   "source": [
    "## Evaluation Results"
   ]
  },
  {
   "attachments": {},
   "cell_type": "markdown",
   "metadata": {},
   "source": [
    "## Hellaswag"
   ]
  },
  {
   "attachments": {},
   "cell_type": "markdown",
   "metadata": {},
   "source": [
    "### Hellaswag Gen"
   ]
  },
  {
   "cell_type": "code",
   "execution_count": 3,
   "metadata": {},
   "outputs": [],
   "source": [
    "# all_df_gen = read_results(dir = '../lmeval_results_gen')\n",
    "# df_hellaswag_gen = task_metrics(all_df_gen, ['hellaswag:acc'], sort_metrics=['hellaswag:acc'])\n",
    "# # df_hellaswag_gen = df_hellaswag_gen.sort_values(by=['hellaswag:acc'], ascending=[False])\n",
    "# fig_parcats(df_hellaswag_gen, 'hellaswag:acc', ['hellaswag:acc_norm', 'hellaswag:acc_norm_stderr', 'hellaswag:acc_stderr', 'filename', 'date'], height=1500)"
   ]
  },
  {
   "cell_type": "code",
   "execution_count": 23,
   "metadata": {},
   "outputs": [
    {
     "data": {
      "text/html": [
       "<div>\n",
       "<style scoped>\n",
       "    .dataframe tbody tr th:only-of-type {\n",
       "        vertical-align: middle;\n",
       "    }\n",
       "\n",
       "    .dataframe tbody tr th {\n",
       "        vertical-align: top;\n",
       "    }\n",
       "\n",
       "    .dataframe thead th {\n",
       "        text-align: right;\n",
       "    }\n",
       "</style>\n",
       "<table border=\"1\" class=\"dataframe\">\n",
       "  <thead>\n",
       "    <tr style=\"text-align: right;\">\n",
       "      <th></th>\n",
       "      <th>mtime</th>\n",
       "      <th>EXAMPLE_AGG_SCHEME</th>\n",
       "      <th>ENCODING_LAYER</th>\n",
       "      <th>SEGMENT_AGG_SCHEME</th>\n",
       "      <th>filename</th>\n",
       "      <th>SIMILARITY_FUNC</th>\n",
       "      <th>encoding_scheme</th>\n",
       "      <th>num_fewshot</th>\n",
       "      <th>model_type</th>\n",
       "      <th>hellaswag:acc</th>\n",
       "      <th>pretrained</th>\n",
       "      <th>WORD_AGG_SCHEME</th>\n",
       "      <th>NORM</th>\n",
       "      <th>hellaswag:acc_stderr</th>\n",
       "      <th>date</th>\n",
       "    </tr>\n",
       "  </thead>\n",
       "  <tbody>\n",
       "    <tr>\n",
       "      <th>330</th>\n",
       "      <td>1.671941e+09</td>\n",
       "      <td>None</td>\n",
       "      <td>23</td>\n",
       "      <td>mean</td>\n",
       "      <td>34ea3ec10a98b259797968494cc8fc74a33c900f.json</td>\n",
       "      <td>dot_product</td>\n",
       "      <td>segment_each_example</td>\n",
       "      <td>0</td>\n",
       "      <td>dist_sim</td>\n",
       "      <td>0.293268</td>\n",
       "      <td>EleutherAI/gpt-neo-1.3B</td>\n",
       "      <td>mean</td>\n",
       "      <td>layer</td>\n",
       "      <td>0.004543</td>\n",
       "      <td>2022-12-24 20:08:40.603513600-08:00</td>\n",
       "    </tr>\n",
       "    <tr>\n",
       "      <th>101</th>\n",
       "      <td>1.671948e+09</td>\n",
       "      <td>soft_cluster</td>\n",
       "      <td>23</td>\n",
       "      <td>mean</td>\n",
       "      <td>c4d3e9a93705008e93f45b64fec1731387d2cd22.json</td>\n",
       "      <td>dot_product</td>\n",
       "      <td>segment_each_example</td>\n",
       "      <td>0</td>\n",
       "      <td>dist_sim</td>\n",
       "      <td>0.293268</td>\n",
       "      <td>EleutherAI/gpt-neo-1.3B</td>\n",
       "      <td>mean</td>\n",
       "      <td>layer</td>\n",
       "      <td>0.004543</td>\n",
       "      <td>2022-12-24 21:51:59.845530112-08:00</td>\n",
       "    </tr>\n",
       "    <tr>\n",
       "      <th>28</th>\n",
       "      <td>1.671944e+09</td>\n",
       "      <td>mean</td>\n",
       "      <td>23</td>\n",
       "      <td>mean</td>\n",
       "      <td>2dc60609fa6dc4f5b6c0f9ce3d7f91a564a9beb4.json</td>\n",
       "      <td>dot_product</td>\n",
       "      <td>segment_each_example</td>\n",
       "      <td>0</td>\n",
       "      <td>dist_sim</td>\n",
       "      <td>0.293268</td>\n",
       "      <td>EleutherAI/gpt-neo-1.3B</td>\n",
       "      <td>mean</td>\n",
       "      <td>layer</td>\n",
       "      <td>0.004543</td>\n",
       "      <td>2022-12-24 20:57:54.155584768-08:00</td>\n",
       "    </tr>\n",
       "    <tr>\n",
       "      <th>242</th>\n",
       "      <td>1.671945e+09</td>\n",
       "      <td>soft_cluster</td>\n",
       "      <td>None</td>\n",
       "      <td>mean</td>\n",
       "      <td>ac732691901e10a25883f22f69f3491b7389cf6a.json</td>\n",
       "      <td>dot_product</td>\n",
       "      <td>segment_each_example</td>\n",
       "      <td>0</td>\n",
       "      <td>dist_sim</td>\n",
       "      <td>0.289882</td>\n",
       "      <td>EleutherAI/gpt-neo-1.3B</td>\n",
       "      <td>mean</td>\n",
       "      <td>layer</td>\n",
       "      <td>0.004528</td>\n",
       "      <td>2022-12-24 21:02:20.516229120-08:00</td>\n",
       "    </tr>\n",
       "    <tr>\n",
       "      <th>33</th>\n",
       "      <td>1.671942e+09</td>\n",
       "      <td>mean</td>\n",
       "      <td>None</td>\n",
       "      <td>mean</td>\n",
       "      <td>34dc23bc5eba3ebc13ffa3de061b734789734e38.json</td>\n",
       "      <td>dot_product</td>\n",
       "      <td>segment_each_example</td>\n",
       "      <td>0</td>\n",
       "      <td>dist_sim</td>\n",
       "      <td>0.289882</td>\n",
       "      <td>EleutherAI/gpt-neo-1.3B</td>\n",
       "      <td>mean</td>\n",
       "      <td>layer</td>\n",
       "      <td>0.004528</td>\n",
       "      <td>2022-12-24 20:12:37.852242176-08:00</td>\n",
       "    </tr>\n",
       "    <tr>\n",
       "      <th>...</th>\n",
       "      <td>...</td>\n",
       "      <td>...</td>\n",
       "      <td>...</td>\n",
       "      <td>...</td>\n",
       "      <td>...</td>\n",
       "      <td>...</td>\n",
       "      <td>...</td>\n",
       "      <td>...</td>\n",
       "      <td>...</td>\n",
       "      <td>...</td>\n",
       "      <td>...</td>\n",
       "      <td>...</td>\n",
       "      <td>...</td>\n",
       "      <td>...</td>\n",
       "      <td>...</td>\n",
       "    </tr>\n",
       "    <tr>\n",
       "      <th>119</th>\n",
       "      <td>1.671976e+09</td>\n",
       "      <td>mean</td>\n",
       "      <td>16</td>\n",
       "      <td>mean</td>\n",
       "      <td>f21c4db962e7d32dd907764c97cd2b9b9b4cdaf6.json</td>\n",
       "      <td>dot_product</td>\n",
       "      <td>segment_each_example</td>\n",
       "      <td>5</td>\n",
       "      <td>dist_sim</td>\n",
       "      <td>0.217785</td>\n",
       "      <td>EleutherAI/gpt-neo-1.3B</td>\n",
       "      <td>mean</td>\n",
       "      <td>layer</td>\n",
       "      <td>0.004119</td>\n",
       "      <td>2022-12-25 05:46:29.746394624-08:00</td>\n",
       "    </tr>\n",
       "    <tr>\n",
       "      <th>321</th>\n",
       "      <td>1.671977e+09</td>\n",
       "      <td>mean</td>\n",
       "      <td>20</td>\n",
       "      <td>mean</td>\n",
       "      <td>92bef009a3d69348266c485013e8a09bfa9b0b94.json</td>\n",
       "      <td>dot_product</td>\n",
       "      <td>segment_each_example</td>\n",
       "      <td>5</td>\n",
       "      <td>dist_sim</td>\n",
       "      <td>0.217487</td>\n",
       "      <td>EleutherAI/gpt-neo-1.3B</td>\n",
       "      <td>mean</td>\n",
       "      <td>layer</td>\n",
       "      <td>0.004117</td>\n",
       "      <td>2022-12-25 06:01:32.059595008-08:00</td>\n",
       "    </tr>\n",
       "    <tr>\n",
       "      <th>334</th>\n",
       "      <td>1.671987e+09</td>\n",
       "      <td>soft_cluster</td>\n",
       "      <td>20</td>\n",
       "      <td>mean</td>\n",
       "      <td>2230c41cdf1610572aa53b3be7e8c46c7ba792bf.json</td>\n",
       "      <td>dot_product</td>\n",
       "      <td>segment_each_example</td>\n",
       "      <td>5</td>\n",
       "      <td>dist_sim</td>\n",
       "      <td>0.216989</td>\n",
       "      <td>EleutherAI/gpt-neo-1.3B</td>\n",
       "      <td>mean</td>\n",
       "      <td>layer</td>\n",
       "      <td>0.004114</td>\n",
       "      <td>2022-12-25 08:50:51.630729216-08:00</td>\n",
       "    </tr>\n",
       "    <tr>\n",
       "      <th>114</th>\n",
       "      <td>1.671987e+09</td>\n",
       "      <td>soft_cluster</td>\n",
       "      <td>17</td>\n",
       "      <td>mean</td>\n",
       "      <td>f0d19b1a7a41acf024600622d25a1a7fb901761f.json</td>\n",
       "      <td>dot_product</td>\n",
       "      <td>segment_each_example</td>\n",
       "      <td>5</td>\n",
       "      <td>dist_sim</td>\n",
       "      <td>0.216989</td>\n",
       "      <td>EleutherAI/gpt-neo-1.3B</td>\n",
       "      <td>mean</td>\n",
       "      <td>layer</td>\n",
       "      <td>0.004114</td>\n",
       "      <td>2022-12-25 08:44:02.687638784-08:00</td>\n",
       "    </tr>\n",
       "    <tr>\n",
       "      <th>355</th>\n",
       "      <td>1.671987e+09</td>\n",
       "      <td>soft_cluster</td>\n",
       "      <td>16</td>\n",
       "      <td>mean</td>\n",
       "      <td>60b28c7942bbdd58b1c02f7dafb280ed6f8e48fb.json</td>\n",
       "      <td>dot_product</td>\n",
       "      <td>segment_each_example</td>\n",
       "      <td>5</td>\n",
       "      <td>dist_sim</td>\n",
       "      <td>0.214599</td>\n",
       "      <td>EleutherAI/gpt-neo-1.3B</td>\n",
       "      <td>mean</td>\n",
       "      <td>layer</td>\n",
       "      <td>0.004097</td>\n",
       "      <td>2022-12-25 08:42:26.908782592-08:00</td>\n",
       "    </tr>\n",
       "  </tbody>\n",
       "</table>\n",
       "<p>357 rows × 15 columns</p>\n",
       "</div>"
      ],
      "text/plain": [
       "            mtime EXAMPLE_AGG_SCHEME ENCODING_LAYER SEGMENT_AGG_SCHEME  \\\n",
       "330  1.671941e+09               None             23               mean   \n",
       "101  1.671948e+09       soft_cluster             23               mean   \n",
       "28   1.671944e+09               mean             23               mean   \n",
       "242  1.671945e+09       soft_cluster           None               mean   \n",
       "33   1.671942e+09               mean           None               mean   \n",
       "..            ...                ...            ...                ...   \n",
       "119  1.671976e+09               mean             16               mean   \n",
       "321  1.671977e+09               mean             20               mean   \n",
       "334  1.671987e+09       soft_cluster             20               mean   \n",
       "114  1.671987e+09       soft_cluster             17               mean   \n",
       "355  1.671987e+09       soft_cluster             16               mean   \n",
       "\n",
       "                                          filename SIMILARITY_FUNC  \\\n",
       "330  34ea3ec10a98b259797968494cc8fc74a33c900f.json     dot_product   \n",
       "101  c4d3e9a93705008e93f45b64fec1731387d2cd22.json     dot_product   \n",
       "28   2dc60609fa6dc4f5b6c0f9ce3d7f91a564a9beb4.json     dot_product   \n",
       "242  ac732691901e10a25883f22f69f3491b7389cf6a.json     dot_product   \n",
       "33   34dc23bc5eba3ebc13ffa3de061b734789734e38.json     dot_product   \n",
       "..                                             ...             ...   \n",
       "119  f21c4db962e7d32dd907764c97cd2b9b9b4cdaf6.json     dot_product   \n",
       "321  92bef009a3d69348266c485013e8a09bfa9b0b94.json     dot_product   \n",
       "334  2230c41cdf1610572aa53b3be7e8c46c7ba792bf.json     dot_product   \n",
       "114  f0d19b1a7a41acf024600622d25a1a7fb901761f.json     dot_product   \n",
       "355  60b28c7942bbdd58b1c02f7dafb280ed6f8e48fb.json     dot_product   \n",
       "\n",
       "          encoding_scheme  num_fewshot model_type  hellaswag:acc  \\\n",
       "330  segment_each_example            0   dist_sim       0.293268   \n",
       "101  segment_each_example            0   dist_sim       0.293268   \n",
       "28   segment_each_example            0   dist_sim       0.293268   \n",
       "242  segment_each_example            0   dist_sim       0.289882   \n",
       "33   segment_each_example            0   dist_sim       0.289882   \n",
       "..                    ...          ...        ...            ...   \n",
       "119  segment_each_example            5   dist_sim       0.217785   \n",
       "321  segment_each_example            5   dist_sim       0.217487   \n",
       "334  segment_each_example            5   dist_sim       0.216989   \n",
       "114  segment_each_example            5   dist_sim       0.216989   \n",
       "355  segment_each_example            5   dist_sim       0.214599   \n",
       "\n",
       "                  pretrained WORD_AGG_SCHEME   NORM  hellaswag:acc_stderr  \\\n",
       "330  EleutherAI/gpt-neo-1.3B            mean  layer              0.004543   \n",
       "101  EleutherAI/gpt-neo-1.3B            mean  layer              0.004543   \n",
       "28   EleutherAI/gpt-neo-1.3B            mean  layer              0.004543   \n",
       "242  EleutherAI/gpt-neo-1.3B            mean  layer              0.004528   \n",
       "33   EleutherAI/gpt-neo-1.3B            mean  layer              0.004528   \n",
       "..                       ...             ...    ...                   ...   \n",
       "119  EleutherAI/gpt-neo-1.3B            mean  layer              0.004119   \n",
       "321  EleutherAI/gpt-neo-1.3B            mean  layer              0.004117   \n",
       "334  EleutherAI/gpt-neo-1.3B            mean  layer              0.004114   \n",
       "114  EleutherAI/gpt-neo-1.3B            mean  layer              0.004114   \n",
       "355  EleutherAI/gpt-neo-1.3B            mean  layer              0.004097   \n",
       "\n",
       "                                   date  \n",
       "330 2022-12-24 20:08:40.603513600-08:00  \n",
       "101 2022-12-24 21:51:59.845530112-08:00  \n",
       "28  2022-12-24 20:57:54.155584768-08:00  \n",
       "242 2022-12-24 21:02:20.516229120-08:00  \n",
       "33  2022-12-24 20:12:37.852242176-08:00  \n",
       "..                                  ...  \n",
       "119 2022-12-25 05:46:29.746394624-08:00  \n",
       "321 2022-12-25 06:01:32.059595008-08:00  \n",
       "334 2022-12-25 08:50:51.630729216-08:00  \n",
       "114 2022-12-25 08:44:02.687638784-08:00  \n",
       "355 2022-12-25 08:42:26.908782592-08:00  \n",
       "\n",
       "[357 rows x 15 columns]"
      ]
     },
     "execution_count": 23,
     "metadata": {},
     "output_type": "execute_result"
    }
   ],
   "source": [
    "df_hellaswag_sim4"
   ]
  },
  {
   "cell_type": "code",
   "execution_count": 24,
   "metadata": {},
   "outputs": [
    {
     "name": "stdout",
     "output_type": "stream",
     "text": [
      "metric cols regexp = re.compile('^((hellaswag:acc)).*')\n",
      "Following columns will be dropped: {'hellaswag:rand_acc', 'hellaswag:rand_acc_stderr', 'limit'}\n"
     ]
    },
    {
     "data": {
      "text/plain": [
       "ENCODING_LAYER                              E\n",
       "SEGMENT_AGG_SCHEME                       None\n",
       "SIMILARITY_FUNC                   dot_product\n",
       "num_fewshot                                 5\n",
       "model_type                           dist_sim\n",
       "pretrained            EleutherAI/gpt-neo-1.3B\n",
       "NORM                                    layer\n",
       "Name: Constant Variables, dtype: object"
      ]
     },
     "metadata": {},
     "output_type": "display_data"
    },
    {
     "data": {
      "application/vnd.plotly.v1+json": {
       "config": {
        "plotlyServerURL": "https://plot.ly"
       },
       "data": [
        {
         "arrangement": "freeform",
         "dimensions": [
          {
           "label": "EXAMPLE_AGG_SCHEME",
           "values": [
            null,
            null,
            null,
            "mean",
            null,
            "soft_cluster",
            null,
            "mean",
            "soft_cluster",
            "mean",
            "soft_cluster",
            null,
            "mean",
            "soft_cluster",
            null,
            "mean",
            "mean",
            "soft_cluster",
            "mean",
            "soft_cluster",
            null,
            "mean",
            "soft_cluster",
            null,
            "soft_cluster",
            "mean",
            "soft_cluster",
            "mean",
            "mean",
            "soft_cluster",
            null,
            "soft_cluster",
            "soft_cluster",
            null,
            null,
            "soft_cluster",
            "soft_cluster",
            "mean",
            "mean",
            "soft_cluster",
            "mean",
            "mean",
            null,
            "mean",
            "soft_cluster",
            "mean",
            "soft_cluster",
            "mean",
            "soft_cluster",
            null,
            null,
            null,
            null,
            null
           ]
          },
          {
           "label": "encoding_scheme",
           "values": [
            "concat_each_example",
            "segment_each_example",
            "concat_each_example",
            "concat_each_example",
            "concat_each_example",
            "concat_all_examples",
            "concat_all_examples",
            "concat_all_examples",
            "segment_each_example",
            "segment_each_example",
            "concat_each_example",
            "segment_each_example",
            "concat_each_example",
            "concat_each_example",
            "segment_each_example",
            "concat_each_example",
            "segment_each_example",
            "concat_each_example",
            "segment_each_example",
            "segment_each_example",
            "concat_all_examples",
            "concat_all_examples",
            "concat_all_examples",
            "concat_all_examples",
            "concat_all_examples",
            "concat_all_examples",
            "segment_each_example",
            "concat_all_examples",
            "concat_all_examples",
            "concat_all_examples",
            "concat_all_examples",
            "segment_each_example",
            "segment_each_example",
            "concat_all_examples",
            "concat_all_examples",
            "concat_all_examples",
            "concat_all_examples",
            "concat_all_examples",
            "concat_each_example",
            "concat_each_example",
            "segment_each_example",
            "segment_each_example",
            "concat_each_example",
            "concat_each_example",
            "segment_each_example",
            "segment_each_example",
            "concat_each_example",
            "concat_each_example",
            "concat_each_example",
            "concat_each_example",
            "segment_each_example",
            "segment_each_example",
            "concat_each_example",
            "segment_each_example"
           ]
          },
          {
           "label": "WORD_AGG_SCHEME",
           "values": [
            "-relu+|mean",
            "-relu+|mean",
            "relu|mean",
            "-relu+|mean",
            "relu+|mean",
            "-relu+|mean",
            "-relu+|mean",
            "-relu+|mean",
            "-relu+|mean",
            "-relu+|mean",
            "-relu+|mean",
            "relu|mean",
            "relu+|mean",
            "relu|mean",
            "relu+|mean",
            "relu|mean",
            "relu+|mean",
            "relu+|mean",
            "relu|mean",
            "relu+|mean",
            "relu+|mean",
            "relu+|mean",
            "relu+|mean",
            "relu|mean",
            "relu|mean",
            "relu|mean",
            "relu|mean",
            "relu+|last",
            "relu|last",
            "relu|last",
            "relu|last",
            "relu|last",
            "relu+|last",
            "relu+|last",
            "-relu+|last",
            "relu+|last",
            "-relu+|last",
            "-relu+|last",
            "-relu+|last",
            "relu|last",
            "relu+|last",
            "-relu+|last",
            "relu+|last",
            "relu|last",
            "-relu+|last",
            "relu|last",
            "relu+|last",
            "relu+|last",
            "-relu+|last",
            "-relu+|last",
            "-relu+|last",
            "relu+|last",
            "relu|last",
            "relu|last"
           ]
          },
          {
           "label": "hellaswag:acc",
           "values": [
            0.26160127464648475,
            0.25980880302728543,
            0.25781716789484166,
            0.25761800438159727,
            0.25731925911173076,
            0.25672176857199763,
            0.25672176857199763,
            0.25672176857199763,
            0.25632344154550885,
            0.25632344154550885,
            0.2561242780322645,
            0.2546305516829317,
            0.25423222465644296,
            0.2538338976299542,
            0.253734315873332,
            0.2535351523600876,
            0.25343557060346544,
            0.2533359888468433,
            0.25323640709022105,
            0.2531368253335989,
            0.2526389165504879,
            0.2526389165504879,
            0.2526389165504879,
            0.2523401712806214,
            0.2523401712806214,
            0.2523401712806214,
            0.25204142601075485,
            0.2507468631746664,
            0.2507468631746664,
            0.2507468631746664,
            0.2507468631746664,
            0.2507468631746664,
            0.2507468631746664,
            0.2507468631746664,
            0.2507468631746664,
            0.2507468631746664,
            0.2507468631746664,
            0.2507468631746664,
            0.2506472814180442,
            0.2506472814180442,
            0.2506472814180442,
            0.2506472814180442,
            0.2506472814180442,
            0.2506472814180442,
            0.2506472814180442,
            0.2506472814180442,
            0.2506472814180442,
            0.2506472814180442,
            0.2506472814180442,
            0.2506472814180442,
            0.25054769966142204,
            0.25054769966142204,
            0.25054769966142204,
            0.2504481179047998
           ]
          }
         ],
         "hoveron": "color",
         "line": {
          "color": [
           0.26160127464648475,
           0.25980880302728543,
           0.25781716789484166,
           0.25761800438159727,
           0.25731925911173076,
           0.25672176857199763,
           0.25672176857199763,
           0.25672176857199763,
           0.25632344154550885,
           0.25632344154550885,
           0.2561242780322645,
           0.2546305516829317,
           0.25423222465644296,
           0.2538338976299542,
           0.253734315873332,
           0.2535351523600876,
           0.25343557060346544,
           0.2533359888468433,
           0.25323640709022105,
           0.2531368253335989,
           0.2526389165504879,
           0.2526389165504879,
           0.2526389165504879,
           0.2523401712806214,
           0.2523401712806214,
           0.2523401712806214,
           0.25204142601075485,
           0.2507468631746664,
           0.2507468631746664,
           0.2507468631746664,
           0.2507468631746664,
           0.2507468631746664,
           0.2507468631746664,
           0.2507468631746664,
           0.2507468631746664,
           0.2507468631746664,
           0.2507468631746664,
           0.2507468631746664,
           0.2506472814180442,
           0.2506472814180442,
           0.2506472814180442,
           0.2506472814180442,
           0.2506472814180442,
           0.2506472814180442,
           0.2506472814180442,
           0.2506472814180442,
           0.2506472814180442,
           0.2506472814180442,
           0.2506472814180442,
           0.2506472814180442,
           0.25054769966142204,
           0.25054769966142204,
           0.25054769966142204,
           0.2504481179047998
          ],
          "coloraxis": "coloraxis"
         },
         "type": "parcats"
        }
       ],
       "layout": {
        "coloraxis": {
         "colorbar": {
          "len": 1,
          "lenmode": "fraction",
          "y": 1,
          "yanchor": "top"
         },
         "colorscale": [
          [
           0,
           "#00224e"
          ],
          [
           0.1111111111111111,
           "#123570"
          ],
          [
           0.2222222222222222,
           "#3b496c"
          ],
          [
           0.3333333333333333,
           "#575d6d"
          ],
          [
           0.4444444444444444,
           "#707173"
          ],
          [
           0.5555555555555556,
           "#8a8678"
          ],
          [
           0.6666666666666666,
           "#a59c74"
          ],
          [
           0.7777777777777778,
           "#c3b369"
          ],
          [
           0.8888888888888888,
           "#e1cc55"
          ],
          [
           1,
           "#fee838"
          ]
         ],
         "showscale": true
        },
        "height": 1500,
        "template": {
         "data": {
          "bar": [
           {
            "error_x": {
             "color": "#2a3f5f"
            },
            "error_y": {
             "color": "#2a3f5f"
            },
            "marker": {
             "line": {
              "color": "#E5ECF6",
              "width": 0.5
             },
             "pattern": {
              "fillmode": "overlay",
              "size": 10,
              "solidity": 0.2
             }
            },
            "type": "bar"
           }
          ],
          "barpolar": [
           {
            "marker": {
             "line": {
              "color": "#E5ECF6",
              "width": 0.5
             },
             "pattern": {
              "fillmode": "overlay",
              "size": 10,
              "solidity": 0.2
             }
            },
            "type": "barpolar"
           }
          ],
          "carpet": [
           {
            "aaxis": {
             "endlinecolor": "#2a3f5f",
             "gridcolor": "white",
             "linecolor": "white",
             "minorgridcolor": "white",
             "startlinecolor": "#2a3f5f"
            },
            "baxis": {
             "endlinecolor": "#2a3f5f",
             "gridcolor": "white",
             "linecolor": "white",
             "minorgridcolor": "white",
             "startlinecolor": "#2a3f5f"
            },
            "type": "carpet"
           }
          ],
          "choropleth": [
           {
            "colorbar": {
             "outlinewidth": 0,
             "ticks": ""
            },
            "type": "choropleth"
           }
          ],
          "contour": [
           {
            "colorbar": {
             "outlinewidth": 0,
             "ticks": ""
            },
            "colorscale": [
             [
              0,
              "#0d0887"
             ],
             [
              0.1111111111111111,
              "#46039f"
             ],
             [
              0.2222222222222222,
              "#7201a8"
             ],
             [
              0.3333333333333333,
              "#9c179e"
             ],
             [
              0.4444444444444444,
              "#bd3786"
             ],
             [
              0.5555555555555556,
              "#d8576b"
             ],
             [
              0.6666666666666666,
              "#ed7953"
             ],
             [
              0.7777777777777778,
              "#fb9f3a"
             ],
             [
              0.8888888888888888,
              "#fdca26"
             ],
             [
              1,
              "#f0f921"
             ]
            ],
            "type": "contour"
           }
          ],
          "contourcarpet": [
           {
            "colorbar": {
             "outlinewidth": 0,
             "ticks": ""
            },
            "type": "contourcarpet"
           }
          ],
          "heatmap": [
           {
            "colorbar": {
             "outlinewidth": 0,
             "ticks": ""
            },
            "colorscale": [
             [
              0,
              "#0d0887"
             ],
             [
              0.1111111111111111,
              "#46039f"
             ],
             [
              0.2222222222222222,
              "#7201a8"
             ],
             [
              0.3333333333333333,
              "#9c179e"
             ],
             [
              0.4444444444444444,
              "#bd3786"
             ],
             [
              0.5555555555555556,
              "#d8576b"
             ],
             [
              0.6666666666666666,
              "#ed7953"
             ],
             [
              0.7777777777777778,
              "#fb9f3a"
             ],
             [
              0.8888888888888888,
              "#fdca26"
             ],
             [
              1,
              "#f0f921"
             ]
            ],
            "type": "heatmap"
           }
          ],
          "heatmapgl": [
           {
            "colorbar": {
             "outlinewidth": 0,
             "ticks": ""
            },
            "colorscale": [
             [
              0,
              "#0d0887"
             ],
             [
              0.1111111111111111,
              "#46039f"
             ],
             [
              0.2222222222222222,
              "#7201a8"
             ],
             [
              0.3333333333333333,
              "#9c179e"
             ],
             [
              0.4444444444444444,
              "#bd3786"
             ],
             [
              0.5555555555555556,
              "#d8576b"
             ],
             [
              0.6666666666666666,
              "#ed7953"
             ],
             [
              0.7777777777777778,
              "#fb9f3a"
             ],
             [
              0.8888888888888888,
              "#fdca26"
             ],
             [
              1,
              "#f0f921"
             ]
            ],
            "type": "heatmapgl"
           }
          ],
          "histogram": [
           {
            "marker": {
             "pattern": {
              "fillmode": "overlay",
              "size": 10,
              "solidity": 0.2
             }
            },
            "type": "histogram"
           }
          ],
          "histogram2d": [
           {
            "colorbar": {
             "outlinewidth": 0,
             "ticks": ""
            },
            "colorscale": [
             [
              0,
              "#0d0887"
             ],
             [
              0.1111111111111111,
              "#46039f"
             ],
             [
              0.2222222222222222,
              "#7201a8"
             ],
             [
              0.3333333333333333,
              "#9c179e"
             ],
             [
              0.4444444444444444,
              "#bd3786"
             ],
             [
              0.5555555555555556,
              "#d8576b"
             ],
             [
              0.6666666666666666,
              "#ed7953"
             ],
             [
              0.7777777777777778,
              "#fb9f3a"
             ],
             [
              0.8888888888888888,
              "#fdca26"
             ],
             [
              1,
              "#f0f921"
             ]
            ],
            "type": "histogram2d"
           }
          ],
          "histogram2dcontour": [
           {
            "colorbar": {
             "outlinewidth": 0,
             "ticks": ""
            },
            "colorscale": [
             [
              0,
              "#0d0887"
             ],
             [
              0.1111111111111111,
              "#46039f"
             ],
             [
              0.2222222222222222,
              "#7201a8"
             ],
             [
              0.3333333333333333,
              "#9c179e"
             ],
             [
              0.4444444444444444,
              "#bd3786"
             ],
             [
              0.5555555555555556,
              "#d8576b"
             ],
             [
              0.6666666666666666,
              "#ed7953"
             ],
             [
              0.7777777777777778,
              "#fb9f3a"
             ],
             [
              0.8888888888888888,
              "#fdca26"
             ],
             [
              1,
              "#f0f921"
             ]
            ],
            "type": "histogram2dcontour"
           }
          ],
          "mesh3d": [
           {
            "colorbar": {
             "outlinewidth": 0,
             "ticks": ""
            },
            "type": "mesh3d"
           }
          ],
          "parcoords": [
           {
            "line": {
             "colorbar": {
              "outlinewidth": 0,
              "ticks": ""
             }
            },
            "type": "parcoords"
           }
          ],
          "pie": [
           {
            "automargin": true,
            "type": "pie"
           }
          ],
          "scatter": [
           {
            "fillpattern": {
             "fillmode": "overlay",
             "size": 10,
             "solidity": 0.2
            },
            "type": "scatter"
           }
          ],
          "scatter3d": [
           {
            "line": {
             "colorbar": {
              "outlinewidth": 0,
              "ticks": ""
             }
            },
            "marker": {
             "colorbar": {
              "outlinewidth": 0,
              "ticks": ""
             }
            },
            "type": "scatter3d"
           }
          ],
          "scattercarpet": [
           {
            "marker": {
             "colorbar": {
              "outlinewidth": 0,
              "ticks": ""
             }
            },
            "type": "scattercarpet"
           }
          ],
          "scattergeo": [
           {
            "marker": {
             "colorbar": {
              "outlinewidth": 0,
              "ticks": ""
             }
            },
            "type": "scattergeo"
           }
          ],
          "scattergl": [
           {
            "marker": {
             "colorbar": {
              "outlinewidth": 0,
              "ticks": ""
             }
            },
            "type": "scattergl"
           }
          ],
          "scattermapbox": [
           {
            "marker": {
             "colorbar": {
              "outlinewidth": 0,
              "ticks": ""
             }
            },
            "type": "scattermapbox"
           }
          ],
          "scatterpolar": [
           {
            "marker": {
             "colorbar": {
              "outlinewidth": 0,
              "ticks": ""
             }
            },
            "type": "scatterpolar"
           }
          ],
          "scatterpolargl": [
           {
            "marker": {
             "colorbar": {
              "outlinewidth": 0,
              "ticks": ""
             }
            },
            "type": "scatterpolargl"
           }
          ],
          "scatterternary": [
           {
            "marker": {
             "colorbar": {
              "outlinewidth": 0,
              "ticks": ""
             }
            },
            "type": "scatterternary"
           }
          ],
          "surface": [
           {
            "colorbar": {
             "outlinewidth": 0,
             "ticks": ""
            },
            "colorscale": [
             [
              0,
              "#0d0887"
             ],
             [
              0.1111111111111111,
              "#46039f"
             ],
             [
              0.2222222222222222,
              "#7201a8"
             ],
             [
              0.3333333333333333,
              "#9c179e"
             ],
             [
              0.4444444444444444,
              "#bd3786"
             ],
             [
              0.5555555555555556,
              "#d8576b"
             ],
             [
              0.6666666666666666,
              "#ed7953"
             ],
             [
              0.7777777777777778,
              "#fb9f3a"
             ],
             [
              0.8888888888888888,
              "#fdca26"
             ],
             [
              1,
              "#f0f921"
             ]
            ],
            "type": "surface"
           }
          ],
          "table": [
           {
            "cells": {
             "fill": {
              "color": "#EBF0F8"
             },
             "line": {
              "color": "white"
             }
            },
            "header": {
             "fill": {
              "color": "#C8D4E3"
             },
             "line": {
              "color": "white"
             }
            },
            "type": "table"
           }
          ]
         },
         "layout": {
          "annotationdefaults": {
           "arrowcolor": "#2a3f5f",
           "arrowhead": 0,
           "arrowwidth": 1
          },
          "autotypenumbers": "strict",
          "coloraxis": {
           "colorbar": {
            "outlinewidth": 0,
            "ticks": ""
           }
          },
          "colorscale": {
           "diverging": [
            [
             0,
             "#8e0152"
            ],
            [
             0.1,
             "#c51b7d"
            ],
            [
             0.2,
             "#de77ae"
            ],
            [
             0.3,
             "#f1b6da"
            ],
            [
             0.4,
             "#fde0ef"
            ],
            [
             0.5,
             "#f7f7f7"
            ],
            [
             0.6,
             "#e6f5d0"
            ],
            [
             0.7,
             "#b8e186"
            ],
            [
             0.8,
             "#7fbc41"
            ],
            [
             0.9,
             "#4d9221"
            ],
            [
             1,
             "#276419"
            ]
           ],
           "sequential": [
            [
             0,
             "#0d0887"
            ],
            [
             0.1111111111111111,
             "#46039f"
            ],
            [
             0.2222222222222222,
             "#7201a8"
            ],
            [
             0.3333333333333333,
             "#9c179e"
            ],
            [
             0.4444444444444444,
             "#bd3786"
            ],
            [
             0.5555555555555556,
             "#d8576b"
            ],
            [
             0.6666666666666666,
             "#ed7953"
            ],
            [
             0.7777777777777778,
             "#fb9f3a"
            ],
            [
             0.8888888888888888,
             "#fdca26"
            ],
            [
             1,
             "#f0f921"
            ]
           ],
           "sequentialminus": [
            [
             0,
             "#0d0887"
            ],
            [
             0.1111111111111111,
             "#46039f"
            ],
            [
             0.2222222222222222,
             "#7201a8"
            ],
            [
             0.3333333333333333,
             "#9c179e"
            ],
            [
             0.4444444444444444,
             "#bd3786"
            ],
            [
             0.5555555555555556,
             "#d8576b"
            ],
            [
             0.6666666666666666,
             "#ed7953"
            ],
            [
             0.7777777777777778,
             "#fb9f3a"
            ],
            [
             0.8888888888888888,
             "#fdca26"
            ],
            [
             1,
             "#f0f921"
            ]
           ]
          },
          "colorway": [
           "#636efa",
           "#EF553B",
           "#00cc96",
           "#ab63fa",
           "#FFA15A",
           "#19d3f3",
           "#FF6692",
           "#B6E880",
           "#FF97FF",
           "#FECB52"
          ],
          "font": {
           "color": "#2a3f5f"
          },
          "geo": {
           "bgcolor": "white",
           "lakecolor": "white",
           "landcolor": "#E5ECF6",
           "showlakes": true,
           "showland": true,
           "subunitcolor": "white"
          },
          "hoverlabel": {
           "align": "left"
          },
          "hovermode": "closest",
          "mapbox": {
           "style": "light"
          },
          "paper_bgcolor": "white",
          "plot_bgcolor": "#E5ECF6",
          "polar": {
           "angularaxis": {
            "gridcolor": "white",
            "linecolor": "white",
            "ticks": ""
           },
           "bgcolor": "#E5ECF6",
           "radialaxis": {
            "gridcolor": "white",
            "linecolor": "white",
            "ticks": ""
           }
          },
          "scene": {
           "xaxis": {
            "backgroundcolor": "#E5ECF6",
            "gridcolor": "white",
            "gridwidth": 2,
            "linecolor": "white",
            "showbackground": true,
            "ticks": "",
            "zerolinecolor": "white"
           },
           "yaxis": {
            "backgroundcolor": "#E5ECF6",
            "gridcolor": "white",
            "gridwidth": 2,
            "linecolor": "white",
            "showbackground": true,
            "ticks": "",
            "zerolinecolor": "white"
           },
           "zaxis": {
            "backgroundcolor": "#E5ECF6",
            "gridcolor": "white",
            "gridwidth": 2,
            "linecolor": "white",
            "showbackground": true,
            "ticks": "",
            "zerolinecolor": "white"
           }
          },
          "shapedefaults": {
           "line": {
            "color": "#2a3f5f"
           }
          },
          "ternary": {
           "aaxis": {
            "gridcolor": "white",
            "linecolor": "white",
            "ticks": ""
           },
           "baxis": {
            "gridcolor": "white",
            "linecolor": "white",
            "ticks": ""
           },
           "bgcolor": "#E5ECF6",
           "caxis": {
            "gridcolor": "white",
            "linecolor": "white",
            "ticks": ""
           }
          },
          "title": {
           "x": 0.05
          },
          "xaxis": {
           "automargin": true,
           "gridcolor": "white",
           "linecolor": "white",
           "ticks": "",
           "title": {
            "standoff": 15
           },
           "zerolinecolor": "white",
           "zerolinewidth": 2
          },
          "yaxis": {
           "automargin": true,
           "gridcolor": "white",
           "linecolor": "white",
           "ticks": "",
           "title": {
            "standoff": 15
           },
           "zerolinecolor": "white",
           "zerolinewidth": 2
          }
         }
        }
       }
      },
      "text/html": [
       "<div>                            <div id=\"ebcaee41-2ebf-4ffd-989c-152c5f5604b5\" class=\"plotly-graph-div\" style=\"height:1500px; width:100%;\"></div>            <script type=\"text/javascript\">                require([\"plotly\"], function(Plotly) {                    window.PLOTLYENV=window.PLOTLYENV || {};                                    if (document.getElementById(\"ebcaee41-2ebf-4ffd-989c-152c5f5604b5\")) {                    Plotly.newPlot(                        \"ebcaee41-2ebf-4ffd-989c-152c5f5604b5\",                        [{\"arrangement\":\"freeform\",\"dimensions\":[{\"label\":\"EXAMPLE_AGG_SCHEME\",\"values\":[null,null,null,\"mean\",null,\"soft_cluster\",null,\"mean\",\"soft_cluster\",\"mean\",\"soft_cluster\",null,\"mean\",\"soft_cluster\",null,\"mean\",\"mean\",\"soft_cluster\",\"mean\",\"soft_cluster\",null,\"mean\",\"soft_cluster\",null,\"soft_cluster\",\"mean\",\"soft_cluster\",\"mean\",\"mean\",\"soft_cluster\",null,\"soft_cluster\",\"soft_cluster\",null,null,\"soft_cluster\",\"soft_cluster\",\"mean\",\"mean\",\"soft_cluster\",\"mean\",\"mean\",null,\"mean\",\"soft_cluster\",\"mean\",\"soft_cluster\",\"mean\",\"soft_cluster\",null,null,null,null,null]},{\"label\":\"encoding_scheme\",\"values\":[\"concat_each_example\",\"segment_each_example\",\"concat_each_example\",\"concat_each_example\",\"concat_each_example\",\"concat_all_examples\",\"concat_all_examples\",\"concat_all_examples\",\"segment_each_example\",\"segment_each_example\",\"concat_each_example\",\"segment_each_example\",\"concat_each_example\",\"concat_each_example\",\"segment_each_example\",\"concat_each_example\",\"segment_each_example\",\"concat_each_example\",\"segment_each_example\",\"segment_each_example\",\"concat_all_examples\",\"concat_all_examples\",\"concat_all_examples\",\"concat_all_examples\",\"concat_all_examples\",\"concat_all_examples\",\"segment_each_example\",\"concat_all_examples\",\"concat_all_examples\",\"concat_all_examples\",\"concat_all_examples\",\"segment_each_example\",\"segment_each_example\",\"concat_all_examples\",\"concat_all_examples\",\"concat_all_examples\",\"concat_all_examples\",\"concat_all_examples\",\"concat_each_example\",\"concat_each_example\",\"segment_each_example\",\"segment_each_example\",\"concat_each_example\",\"concat_each_example\",\"segment_each_example\",\"segment_each_example\",\"concat_each_example\",\"concat_each_example\",\"concat_each_example\",\"concat_each_example\",\"segment_each_example\",\"segment_each_example\",\"concat_each_example\",\"segment_each_example\"]},{\"label\":\"WORD_AGG_SCHEME\",\"values\":[\"-relu+|mean\",\"-relu+|mean\",\"relu|mean\",\"-relu+|mean\",\"relu+|mean\",\"-relu+|mean\",\"-relu+|mean\",\"-relu+|mean\",\"-relu+|mean\",\"-relu+|mean\",\"-relu+|mean\",\"relu|mean\",\"relu+|mean\",\"relu|mean\",\"relu+|mean\",\"relu|mean\",\"relu+|mean\",\"relu+|mean\",\"relu|mean\",\"relu+|mean\",\"relu+|mean\",\"relu+|mean\",\"relu+|mean\",\"relu|mean\",\"relu|mean\",\"relu|mean\",\"relu|mean\",\"relu+|last\",\"relu|last\",\"relu|last\",\"relu|last\",\"relu|last\",\"relu+|last\",\"relu+|last\",\"-relu+|last\",\"relu+|last\",\"-relu+|last\",\"-relu+|last\",\"-relu+|last\",\"relu|last\",\"relu+|last\",\"-relu+|last\",\"relu+|last\",\"relu|last\",\"-relu+|last\",\"relu|last\",\"relu+|last\",\"relu+|last\",\"-relu+|last\",\"-relu+|last\",\"-relu+|last\",\"relu+|last\",\"relu|last\",\"relu|last\"]},{\"label\":\"hellaswag:acc\",\"values\":[0.26160127464648475,0.25980880302728543,0.25781716789484166,0.25761800438159727,0.25731925911173076,0.25672176857199763,0.25672176857199763,0.25672176857199763,0.25632344154550885,0.25632344154550885,0.2561242780322645,0.2546305516829317,0.25423222465644296,0.2538338976299542,0.253734315873332,0.2535351523600876,0.25343557060346544,0.2533359888468433,0.25323640709022105,0.2531368253335989,0.2526389165504879,0.2526389165504879,0.2526389165504879,0.2523401712806214,0.2523401712806214,0.2523401712806214,0.25204142601075485,0.2507468631746664,0.2507468631746664,0.2507468631746664,0.2507468631746664,0.2507468631746664,0.2507468631746664,0.2507468631746664,0.2507468631746664,0.2507468631746664,0.2507468631746664,0.2507468631746664,0.2506472814180442,0.2506472814180442,0.2506472814180442,0.2506472814180442,0.2506472814180442,0.2506472814180442,0.2506472814180442,0.2506472814180442,0.2506472814180442,0.2506472814180442,0.2506472814180442,0.2506472814180442,0.25054769966142204,0.25054769966142204,0.25054769966142204,0.2504481179047998]}],\"hoveron\":\"color\",\"line\":{\"color\":[0.26160127464648475,0.25980880302728543,0.25781716789484166,0.25761800438159727,0.25731925911173076,0.25672176857199763,0.25672176857199763,0.25672176857199763,0.25632344154550885,0.25632344154550885,0.2561242780322645,0.2546305516829317,0.25423222465644296,0.2538338976299542,0.253734315873332,0.2535351523600876,0.25343557060346544,0.2533359888468433,0.25323640709022105,0.2531368253335989,0.2526389165504879,0.2526389165504879,0.2526389165504879,0.2523401712806214,0.2523401712806214,0.2523401712806214,0.25204142601075485,0.2507468631746664,0.2507468631746664,0.2507468631746664,0.2507468631746664,0.2507468631746664,0.2507468631746664,0.2507468631746664,0.2507468631746664,0.2507468631746664,0.2507468631746664,0.2507468631746664,0.2506472814180442,0.2506472814180442,0.2506472814180442,0.2506472814180442,0.2506472814180442,0.2506472814180442,0.2506472814180442,0.2506472814180442,0.2506472814180442,0.2506472814180442,0.2506472814180442,0.2506472814180442,0.25054769966142204,0.25054769966142204,0.25054769966142204,0.2504481179047998],\"coloraxis\":\"coloraxis\"},\"type\":\"parcats\"}],                        {\"template\":{\"data\":{\"histogram2dcontour\":[{\"type\":\"histogram2dcontour\",\"colorbar\":{\"outlinewidth\":0,\"ticks\":\"\"},\"colorscale\":[[0.0,\"#0d0887\"],[0.1111111111111111,\"#46039f\"],[0.2222222222222222,\"#7201a8\"],[0.3333333333333333,\"#9c179e\"],[0.4444444444444444,\"#bd3786\"],[0.5555555555555556,\"#d8576b\"],[0.6666666666666666,\"#ed7953\"],[0.7777777777777778,\"#fb9f3a\"],[0.8888888888888888,\"#fdca26\"],[1.0,\"#f0f921\"]]}],\"choropleth\":[{\"type\":\"choropleth\",\"colorbar\":{\"outlinewidth\":0,\"ticks\":\"\"}}],\"histogram2d\":[{\"type\":\"histogram2d\",\"colorbar\":{\"outlinewidth\":0,\"ticks\":\"\"},\"colorscale\":[[0.0,\"#0d0887\"],[0.1111111111111111,\"#46039f\"],[0.2222222222222222,\"#7201a8\"],[0.3333333333333333,\"#9c179e\"],[0.4444444444444444,\"#bd3786\"],[0.5555555555555556,\"#d8576b\"],[0.6666666666666666,\"#ed7953\"],[0.7777777777777778,\"#fb9f3a\"],[0.8888888888888888,\"#fdca26\"],[1.0,\"#f0f921\"]]}],\"heatmap\":[{\"type\":\"heatmap\",\"colorbar\":{\"outlinewidth\":0,\"ticks\":\"\"},\"colorscale\":[[0.0,\"#0d0887\"],[0.1111111111111111,\"#46039f\"],[0.2222222222222222,\"#7201a8\"],[0.3333333333333333,\"#9c179e\"],[0.4444444444444444,\"#bd3786\"],[0.5555555555555556,\"#d8576b\"],[0.6666666666666666,\"#ed7953\"],[0.7777777777777778,\"#fb9f3a\"],[0.8888888888888888,\"#fdca26\"],[1.0,\"#f0f921\"]]}],\"heatmapgl\":[{\"type\":\"heatmapgl\",\"colorbar\":{\"outlinewidth\":0,\"ticks\":\"\"},\"colorscale\":[[0.0,\"#0d0887\"],[0.1111111111111111,\"#46039f\"],[0.2222222222222222,\"#7201a8\"],[0.3333333333333333,\"#9c179e\"],[0.4444444444444444,\"#bd3786\"],[0.5555555555555556,\"#d8576b\"],[0.6666666666666666,\"#ed7953\"],[0.7777777777777778,\"#fb9f3a\"],[0.8888888888888888,\"#fdca26\"],[1.0,\"#f0f921\"]]}],\"contourcarpet\":[{\"type\":\"contourcarpet\",\"colorbar\":{\"outlinewidth\":0,\"ticks\":\"\"}}],\"contour\":[{\"type\":\"contour\",\"colorbar\":{\"outlinewidth\":0,\"ticks\":\"\"},\"colorscale\":[[0.0,\"#0d0887\"],[0.1111111111111111,\"#46039f\"],[0.2222222222222222,\"#7201a8\"],[0.3333333333333333,\"#9c179e\"],[0.4444444444444444,\"#bd3786\"],[0.5555555555555556,\"#d8576b\"],[0.6666666666666666,\"#ed7953\"],[0.7777777777777778,\"#fb9f3a\"],[0.8888888888888888,\"#fdca26\"],[1.0,\"#f0f921\"]]}],\"surface\":[{\"type\":\"surface\",\"colorbar\":{\"outlinewidth\":0,\"ticks\":\"\"},\"colorscale\":[[0.0,\"#0d0887\"],[0.1111111111111111,\"#46039f\"],[0.2222222222222222,\"#7201a8\"],[0.3333333333333333,\"#9c179e\"],[0.4444444444444444,\"#bd3786\"],[0.5555555555555556,\"#d8576b\"],[0.6666666666666666,\"#ed7953\"],[0.7777777777777778,\"#fb9f3a\"],[0.8888888888888888,\"#fdca26\"],[1.0,\"#f0f921\"]]}],\"mesh3d\":[{\"type\":\"mesh3d\",\"colorbar\":{\"outlinewidth\":0,\"ticks\":\"\"}}],\"scatter\":[{\"fillpattern\":{\"fillmode\":\"overlay\",\"size\":10,\"solidity\":0.2},\"type\":\"scatter\"}],\"parcoords\":[{\"type\":\"parcoords\",\"line\":{\"colorbar\":{\"outlinewidth\":0,\"ticks\":\"\"}}}],\"scatterpolargl\":[{\"type\":\"scatterpolargl\",\"marker\":{\"colorbar\":{\"outlinewidth\":0,\"ticks\":\"\"}}}],\"bar\":[{\"error_x\":{\"color\":\"#2a3f5f\"},\"error_y\":{\"color\":\"#2a3f5f\"},\"marker\":{\"line\":{\"color\":\"#E5ECF6\",\"width\":0.5},\"pattern\":{\"fillmode\":\"overlay\",\"size\":10,\"solidity\":0.2}},\"type\":\"bar\"}],\"scattergeo\":[{\"type\":\"scattergeo\",\"marker\":{\"colorbar\":{\"outlinewidth\":0,\"ticks\":\"\"}}}],\"scatterpolar\":[{\"type\":\"scatterpolar\",\"marker\":{\"colorbar\":{\"outlinewidth\":0,\"ticks\":\"\"}}}],\"histogram\":[{\"marker\":{\"pattern\":{\"fillmode\":\"overlay\",\"size\":10,\"solidity\":0.2}},\"type\":\"histogram\"}],\"scattergl\":[{\"type\":\"scattergl\",\"marker\":{\"colorbar\":{\"outlinewidth\":0,\"ticks\":\"\"}}}],\"scatter3d\":[{\"type\":\"scatter3d\",\"line\":{\"colorbar\":{\"outlinewidth\":0,\"ticks\":\"\"}},\"marker\":{\"colorbar\":{\"outlinewidth\":0,\"ticks\":\"\"}}}],\"scattermapbox\":[{\"type\":\"scattermapbox\",\"marker\":{\"colorbar\":{\"outlinewidth\":0,\"ticks\":\"\"}}}],\"scatterternary\":[{\"type\":\"scatterternary\",\"marker\":{\"colorbar\":{\"outlinewidth\":0,\"ticks\":\"\"}}}],\"scattercarpet\":[{\"type\":\"scattercarpet\",\"marker\":{\"colorbar\":{\"outlinewidth\":0,\"ticks\":\"\"}}}],\"carpet\":[{\"aaxis\":{\"endlinecolor\":\"#2a3f5f\",\"gridcolor\":\"white\",\"linecolor\":\"white\",\"minorgridcolor\":\"white\",\"startlinecolor\":\"#2a3f5f\"},\"baxis\":{\"endlinecolor\":\"#2a3f5f\",\"gridcolor\":\"white\",\"linecolor\":\"white\",\"minorgridcolor\":\"white\",\"startlinecolor\":\"#2a3f5f\"},\"type\":\"carpet\"}],\"table\":[{\"cells\":{\"fill\":{\"color\":\"#EBF0F8\"},\"line\":{\"color\":\"white\"}},\"header\":{\"fill\":{\"color\":\"#C8D4E3\"},\"line\":{\"color\":\"white\"}},\"type\":\"table\"}],\"barpolar\":[{\"marker\":{\"line\":{\"color\":\"#E5ECF6\",\"width\":0.5},\"pattern\":{\"fillmode\":\"overlay\",\"size\":10,\"solidity\":0.2}},\"type\":\"barpolar\"}],\"pie\":[{\"automargin\":true,\"type\":\"pie\"}]},\"layout\":{\"autotypenumbers\":\"strict\",\"colorway\":[\"#636efa\",\"#EF553B\",\"#00cc96\",\"#ab63fa\",\"#FFA15A\",\"#19d3f3\",\"#FF6692\",\"#B6E880\",\"#FF97FF\",\"#FECB52\"],\"font\":{\"color\":\"#2a3f5f\"},\"hovermode\":\"closest\",\"hoverlabel\":{\"align\":\"left\"},\"paper_bgcolor\":\"white\",\"plot_bgcolor\":\"#E5ECF6\",\"polar\":{\"bgcolor\":\"#E5ECF6\",\"angularaxis\":{\"gridcolor\":\"white\",\"linecolor\":\"white\",\"ticks\":\"\"},\"radialaxis\":{\"gridcolor\":\"white\",\"linecolor\":\"white\",\"ticks\":\"\"}},\"ternary\":{\"bgcolor\":\"#E5ECF6\",\"aaxis\":{\"gridcolor\":\"white\",\"linecolor\":\"white\",\"ticks\":\"\"},\"baxis\":{\"gridcolor\":\"white\",\"linecolor\":\"white\",\"ticks\":\"\"},\"caxis\":{\"gridcolor\":\"white\",\"linecolor\":\"white\",\"ticks\":\"\"}},\"coloraxis\":{\"colorbar\":{\"outlinewidth\":0,\"ticks\":\"\"}},\"colorscale\":{\"sequential\":[[0.0,\"#0d0887\"],[0.1111111111111111,\"#46039f\"],[0.2222222222222222,\"#7201a8\"],[0.3333333333333333,\"#9c179e\"],[0.4444444444444444,\"#bd3786\"],[0.5555555555555556,\"#d8576b\"],[0.6666666666666666,\"#ed7953\"],[0.7777777777777778,\"#fb9f3a\"],[0.8888888888888888,\"#fdca26\"],[1.0,\"#f0f921\"]],\"sequentialminus\":[[0.0,\"#0d0887\"],[0.1111111111111111,\"#46039f\"],[0.2222222222222222,\"#7201a8\"],[0.3333333333333333,\"#9c179e\"],[0.4444444444444444,\"#bd3786\"],[0.5555555555555556,\"#d8576b\"],[0.6666666666666666,\"#ed7953\"],[0.7777777777777778,\"#fb9f3a\"],[0.8888888888888888,\"#fdca26\"],[1.0,\"#f0f921\"]],\"diverging\":[[0,\"#8e0152\"],[0.1,\"#c51b7d\"],[0.2,\"#de77ae\"],[0.3,\"#f1b6da\"],[0.4,\"#fde0ef\"],[0.5,\"#f7f7f7\"],[0.6,\"#e6f5d0\"],[0.7,\"#b8e186\"],[0.8,\"#7fbc41\"],[0.9,\"#4d9221\"],[1,\"#276419\"]]},\"xaxis\":{\"gridcolor\":\"white\",\"linecolor\":\"white\",\"ticks\":\"\",\"title\":{\"standoff\":15},\"zerolinecolor\":\"white\",\"automargin\":true,\"zerolinewidth\":2},\"yaxis\":{\"gridcolor\":\"white\",\"linecolor\":\"white\",\"ticks\":\"\",\"title\":{\"standoff\":15},\"zerolinecolor\":\"white\",\"automargin\":true,\"zerolinewidth\":2},\"scene\":{\"xaxis\":{\"backgroundcolor\":\"#E5ECF6\",\"gridcolor\":\"white\",\"linecolor\":\"white\",\"showbackground\":true,\"ticks\":\"\",\"zerolinecolor\":\"white\",\"gridwidth\":2},\"yaxis\":{\"backgroundcolor\":\"#E5ECF6\",\"gridcolor\":\"white\",\"linecolor\":\"white\",\"showbackground\":true,\"ticks\":\"\",\"zerolinecolor\":\"white\",\"gridwidth\":2},\"zaxis\":{\"backgroundcolor\":\"#E5ECF6\",\"gridcolor\":\"white\",\"linecolor\":\"white\",\"showbackground\":true,\"ticks\":\"\",\"zerolinecolor\":\"white\",\"gridwidth\":2}},\"shapedefaults\":{\"line\":{\"color\":\"#2a3f5f\"}},\"annotationdefaults\":{\"arrowcolor\":\"#2a3f5f\",\"arrowhead\":0,\"arrowwidth\":1},\"geo\":{\"bgcolor\":\"white\",\"landcolor\":\"#E5ECF6\",\"subunitcolor\":\"white\",\"showland\":true,\"showlakes\":true,\"lakecolor\":\"white\"},\"title\":{\"x\":0.05},\"mapbox\":{\"style\":\"light\"}}},\"coloraxis\":{\"colorbar\":{\"lenmode\":\"fraction\",\"len\":1.0,\"yanchor\":\"top\",\"y\":1.0},\"colorscale\":[[0.0,\"#00224e\"],[0.1111111111111111,\"#123570\"],[0.2222222222222222,\"#3b496c\"],[0.3333333333333333,\"#575d6d\"],[0.4444444444444444,\"#707173\"],[0.5555555555555556,\"#8a8678\"],[0.6666666666666666,\"#a59c74\"],[0.7777777777777778,\"#c3b369\"],[0.8888888888888888,\"#e1cc55\"],[1.0,\"#fee838\"]],\"showscale\":true},\"height\":1500},                        {\"responsive\": true}                    ).then(function(){\n",
       "                            \n",
       "var gd = document.getElementById('ebcaee41-2ebf-4ffd-989c-152c5f5604b5');\n",
       "var x = new MutationObserver(function (mutations, observer) {{\n",
       "        var display = window.getComputedStyle(gd).display;\n",
       "        if (!display || display === 'none') {{\n",
       "            console.log([gd, 'removed!']);\n",
       "            Plotly.purge(gd);\n",
       "            observer.disconnect();\n",
       "        }}\n",
       "}});\n",
       "\n",
       "// Listen for the removal of the full notebook cells\n",
       "var notebookContainer = gd.closest('#notebook-container');\n",
       "if (notebookContainer) {{\n",
       "    x.observe(notebookContainer, {childList: true});\n",
       "}}\n",
       "\n",
       "// Listen for the clearing of the current output cell\n",
       "var outputEl = gd.closest('.output');\n",
       "if (outputEl) {{\n",
       "    x.observe(outputEl, {childList: true});\n",
       "}}\n",
       "\n",
       "                        })                };                });            </script>        </div>"
      ]
     },
     "metadata": {},
     "output_type": "display_data"
    }
   ],
   "source": [
    "all_df_sim4 = read_results(dir = '../lmeval_results_sim_all')\n",
    "df_hellaswag_sim4 = task_metrics(all_df_sim4, ['hellaswag:acc'], sort_metrics=['hellaswag:acc'])\n",
    "df_hellaswag_sim4 = df_hellaswag_sim4[df_hellaswag_sim4.WORD_AGG_SCHEME.apply(lambda s: s is not None and 'relu' in s)]\n",
    "fig_parcats(df_hellaswag_sim4, 'hellaswag:acc', ['hellaswag:acc_stderr', 'mtime', 'filename', 'date'], height=1500)"
   ]
  },
  {
   "cell_type": "code",
   "execution_count": 6,
   "metadata": {},
   "outputs": [
    {
     "data": {
      "text/html": [
       "<div>\n",
       "<style scoped>\n",
       "    .dataframe tbody tr th:only-of-type {\n",
       "        vertical-align: middle;\n",
       "    }\n",
       "\n",
       "    .dataframe tbody tr th {\n",
       "        vertical-align: top;\n",
       "    }\n",
       "\n",
       "    .dataframe thead th {\n",
       "        text-align: right;\n",
       "    }\n",
       "</style>\n",
       "<table border=\"1\" class=\"dataframe\">\n",
       "  <thead>\n",
       "    <tr style=\"text-align: right;\">\n",
       "      <th></th>\n",
       "      <th>num_fewshot</th>\n",
       "      <th>SIMILARITY_FUNC</th>\n",
       "      <th>hellaswag:acc</th>\n",
       "      <th>pretrained</th>\n",
       "      <th>model_type</th>\n",
       "      <th>hellaswag:acc_stderr</th>\n",
       "      <th>mtime</th>\n",
       "      <th>WORD_AGG_SCHEME</th>\n",
       "      <th>filename</th>\n",
       "      <th>ENCODING_LAYER</th>\n",
       "      <th>SEGMENT_AGG_SCHEME</th>\n",
       "      <th>EXAMPLE_AGG_SCHEME</th>\n",
       "      <th>NORM</th>\n",
       "      <th>encoding_scheme</th>\n",
       "      <th>date</th>\n",
       "    </tr>\n",
       "  </thead>\n",
       "  <tbody>\n",
       "    <tr>\n",
       "      <th>35</th>\n",
       "      <td>0</td>\n",
       "      <td>dot_product</td>\n",
       "      <td>0.293268</td>\n",
       "      <td>EleutherAI/gpt-neo-1.3B</td>\n",
       "      <td>dist_sim</td>\n",
       "      <td>0.004543</td>\n",
       "      <td>1.671948e+09</td>\n",
       "      <td>mean</td>\n",
       "      <td>c4d3e9a93705008e93f45b64fec1731387d2cd22.json</td>\n",
       "      <td>23</td>\n",
       "      <td>mean</td>\n",
       "      <td>soft_cluster</td>\n",
       "      <td>layer</td>\n",
       "      <td>segment_each_example</td>\n",
       "      <td>2022-12-24 21:51:59.845530112-08:00</td>\n",
       "    </tr>\n",
       "    <tr>\n",
       "      <th>129</th>\n",
       "      <td>0</td>\n",
       "      <td>dot_product</td>\n",
       "      <td>0.293268</td>\n",
       "      <td>EleutherAI/gpt-neo-1.3B</td>\n",
       "      <td>dist_sim</td>\n",
       "      <td>0.004543</td>\n",
       "      <td>1.671941e+09</td>\n",
       "      <td>mean</td>\n",
       "      <td>34ea3ec10a98b259797968494cc8fc74a33c900f.json</td>\n",
       "      <td>23</td>\n",
       "      <td>mean</td>\n",
       "      <td>None</td>\n",
       "      <td>layer</td>\n",
       "      <td>segment_each_example</td>\n",
       "      <td>2022-12-24 20:08:40.603513600-08:00</td>\n",
       "    </tr>\n",
       "    <tr>\n",
       "      <th>10</th>\n",
       "      <td>0</td>\n",
       "      <td>dot_product</td>\n",
       "      <td>0.293268</td>\n",
       "      <td>EleutherAI/gpt-neo-1.3B</td>\n",
       "      <td>dist_sim</td>\n",
       "      <td>0.004543</td>\n",
       "      <td>1.671944e+09</td>\n",
       "      <td>mean</td>\n",
       "      <td>2dc60609fa6dc4f5b6c0f9ce3d7f91a564a9beb4.json</td>\n",
       "      <td>23</td>\n",
       "      <td>mean</td>\n",
       "      <td>mean</td>\n",
       "      <td>layer</td>\n",
       "      <td>segment_each_example</td>\n",
       "      <td>2022-12-24 20:57:54.155584768-08:00</td>\n",
       "    </tr>\n",
       "    <tr>\n",
       "      <th>12</th>\n",
       "      <td>0</td>\n",
       "      <td>dot_product</td>\n",
       "      <td>0.289882</td>\n",
       "      <td>EleutherAI/gpt-neo-1.3B</td>\n",
       "      <td>dist_sim</td>\n",
       "      <td>0.004528</td>\n",
       "      <td>1.671942e+09</td>\n",
       "      <td>mean</td>\n",
       "      <td>34dc23bc5eba3ebc13ffa3de061b734789734e38.json</td>\n",
       "      <td>None</td>\n",
       "      <td>mean</td>\n",
       "      <td>mean</td>\n",
       "      <td>layer</td>\n",
       "      <td>segment_each_example</td>\n",
       "      <td>2022-12-24 20:12:37.852242176-08:00</td>\n",
       "    </tr>\n",
       "    <tr>\n",
       "      <th>92</th>\n",
       "      <td>0</td>\n",
       "      <td>dot_product</td>\n",
       "      <td>0.289882</td>\n",
       "      <td>EleutherAI/gpt-neo-1.3B</td>\n",
       "      <td>dist_sim</td>\n",
       "      <td>0.004528</td>\n",
       "      <td>1.671945e+09</td>\n",
       "      <td>mean</td>\n",
       "      <td>ac732691901e10a25883f22f69f3491b7389cf6a.json</td>\n",
       "      <td>None</td>\n",
       "      <td>mean</td>\n",
       "      <td>soft_cluster</td>\n",
       "      <td>layer</td>\n",
       "      <td>segment_each_example</td>\n",
       "      <td>2022-12-24 21:02:20.516229120-08:00</td>\n",
       "    </tr>\n",
       "    <tr>\n",
       "      <th>...</th>\n",
       "      <td>...</td>\n",
       "      <td>...</td>\n",
       "      <td>...</td>\n",
       "      <td>...</td>\n",
       "      <td>...</td>\n",
       "      <td>...</td>\n",
       "      <td>...</td>\n",
       "      <td>...</td>\n",
       "      <td>...</td>\n",
       "      <td>...</td>\n",
       "      <td>...</td>\n",
       "      <td>...</td>\n",
       "      <td>...</td>\n",
       "      <td>...</td>\n",
       "      <td>...</td>\n",
       "    </tr>\n",
       "    <tr>\n",
       "      <th>36</th>\n",
       "      <td>0</td>\n",
       "      <td>dot_product</td>\n",
       "      <td>0.245668</td>\n",
       "      <td>EleutherAI/gpt-neo-1.3B</td>\n",
       "      <td>dist_sim</td>\n",
       "      <td>0.004296</td>\n",
       "      <td>1.671948e+09</td>\n",
       "      <td>last</td>\n",
       "      <td>eb9c330077eea25c9d79110c9996f00cd1947359.json</td>\n",
       "      <td>0</td>\n",
       "      <td>mean</td>\n",
       "      <td>None</td>\n",
       "      <td>layer</td>\n",
       "      <td>segment_each_example</td>\n",
       "      <td>2022-12-24 21:52:34.865124864-08:00</td>\n",
       "    </tr>\n",
       "    <tr>\n",
       "      <th>106</th>\n",
       "      <td>0</td>\n",
       "      <td>dot_product</td>\n",
       "      <td>0.245668</td>\n",
       "      <td>EleutherAI/gpt-neo-1.3B</td>\n",
       "      <td>dist_sim</td>\n",
       "      <td>0.004296</td>\n",
       "      <td>1.671954e+09</td>\n",
       "      <td>last</td>\n",
       "      <td>88948d3883dd8a9ac75fb545758a49b51fec3036.json</td>\n",
       "      <td>0</td>\n",
       "      <td>mean</td>\n",
       "      <td>soft_cluster</td>\n",
       "      <td>layer</td>\n",
       "      <td>segment_each_example</td>\n",
       "      <td>2022-12-24 23:34:52.119111168-08:00</td>\n",
       "    </tr>\n",
       "    <tr>\n",
       "      <th>26</th>\n",
       "      <td>0</td>\n",
       "      <td>dot_product</td>\n",
       "      <td>0.244075</td>\n",
       "      <td>EleutherAI/gpt-neo-1.3B</td>\n",
       "      <td>dist_sim</td>\n",
       "      <td>0.004287</td>\n",
       "      <td>1.671955e+09</td>\n",
       "      <td>last</td>\n",
       "      <td>be96d6c594110d430b2ae978ce16929677332c70.json</td>\n",
       "      <td>6</td>\n",
       "      <td>mean</td>\n",
       "      <td>soft_cluster</td>\n",
       "      <td>layer</td>\n",
       "      <td>segment_each_example</td>\n",
       "      <td>2022-12-24 23:49:49.076546560-08:00</td>\n",
       "    </tr>\n",
       "    <tr>\n",
       "      <th>2</th>\n",
       "      <td>0</td>\n",
       "      <td>dot_product</td>\n",
       "      <td>0.244075</td>\n",
       "      <td>EleutherAI/gpt-neo-1.3B</td>\n",
       "      <td>dist_sim</td>\n",
       "      <td>0.004287</td>\n",
       "      <td>1.671952e+09</td>\n",
       "      <td>last</td>\n",
       "      <td>cb5ab279231d968a034baf83315ce93c771a7c91.json</td>\n",
       "      <td>6</td>\n",
       "      <td>mean</td>\n",
       "      <td>mean</td>\n",
       "      <td>layer</td>\n",
       "      <td>segment_each_example</td>\n",
       "      <td>2022-12-24 22:59:35.264856832-08:00</td>\n",
       "    </tr>\n",
       "    <tr>\n",
       "      <th>100</th>\n",
       "      <td>0</td>\n",
       "      <td>dot_product</td>\n",
       "      <td>0.244075</td>\n",
       "      <td>EleutherAI/gpt-neo-1.3B</td>\n",
       "      <td>dist_sim</td>\n",
       "      <td>0.004287</td>\n",
       "      <td>1.671949e+09</td>\n",
       "      <td>last</td>\n",
       "      <td>0f0f56435d4250ba42818c05fd1c1ae68ec3f867.json</td>\n",
       "      <td>6</td>\n",
       "      <td>mean</td>\n",
       "      <td>None</td>\n",
       "      <td>layer</td>\n",
       "      <td>segment_each_example</td>\n",
       "      <td>2022-12-24 22:08:55.757095424-08:00</td>\n",
       "    </tr>\n",
       "  </tbody>\n",
       "</table>\n",
       "<p>138 rows × 15 columns</p>\n",
       "</div>"
      ],
      "text/plain": [
       "     num_fewshot SIMILARITY_FUNC  hellaswag:acc               pretrained  \\\n",
       "35             0     dot_product       0.293268  EleutherAI/gpt-neo-1.3B   \n",
       "129            0     dot_product       0.293268  EleutherAI/gpt-neo-1.3B   \n",
       "10             0     dot_product       0.293268  EleutherAI/gpt-neo-1.3B   \n",
       "12             0     dot_product       0.289882  EleutherAI/gpt-neo-1.3B   \n",
       "92             0     dot_product       0.289882  EleutherAI/gpt-neo-1.3B   \n",
       "..           ...             ...            ...                      ...   \n",
       "36             0     dot_product       0.245668  EleutherAI/gpt-neo-1.3B   \n",
       "106            0     dot_product       0.245668  EleutherAI/gpt-neo-1.3B   \n",
       "26             0     dot_product       0.244075  EleutherAI/gpt-neo-1.3B   \n",
       "2              0     dot_product       0.244075  EleutherAI/gpt-neo-1.3B   \n",
       "100            0     dot_product       0.244075  EleutherAI/gpt-neo-1.3B   \n",
       "\n",
       "    model_type  hellaswag:acc_stderr         mtime WORD_AGG_SCHEME  \\\n",
       "35    dist_sim              0.004543  1.671948e+09            mean   \n",
       "129   dist_sim              0.004543  1.671941e+09            mean   \n",
       "10    dist_sim              0.004543  1.671944e+09            mean   \n",
       "12    dist_sim              0.004528  1.671942e+09            mean   \n",
       "92    dist_sim              0.004528  1.671945e+09            mean   \n",
       "..         ...                   ...           ...             ...   \n",
       "36    dist_sim              0.004296  1.671948e+09            last   \n",
       "106   dist_sim              0.004296  1.671954e+09            last   \n",
       "26    dist_sim              0.004287  1.671955e+09            last   \n",
       "2     dist_sim              0.004287  1.671952e+09            last   \n",
       "100   dist_sim              0.004287  1.671949e+09            last   \n",
       "\n",
       "                                          filename ENCODING_LAYER  \\\n",
       "35   c4d3e9a93705008e93f45b64fec1731387d2cd22.json             23   \n",
       "129  34ea3ec10a98b259797968494cc8fc74a33c900f.json             23   \n",
       "10   2dc60609fa6dc4f5b6c0f9ce3d7f91a564a9beb4.json             23   \n",
       "12   34dc23bc5eba3ebc13ffa3de061b734789734e38.json           None   \n",
       "92   ac732691901e10a25883f22f69f3491b7389cf6a.json           None   \n",
       "..                                             ...            ...   \n",
       "36   eb9c330077eea25c9d79110c9996f00cd1947359.json              0   \n",
       "106  88948d3883dd8a9ac75fb545758a49b51fec3036.json              0   \n",
       "26   be96d6c594110d430b2ae978ce16929677332c70.json              6   \n",
       "2    cb5ab279231d968a034baf83315ce93c771a7c91.json              6   \n",
       "100  0f0f56435d4250ba42818c05fd1c1ae68ec3f867.json              6   \n",
       "\n",
       "    SEGMENT_AGG_SCHEME EXAMPLE_AGG_SCHEME   NORM       encoding_scheme  \\\n",
       "35                mean       soft_cluster  layer  segment_each_example   \n",
       "129               mean               None  layer  segment_each_example   \n",
       "10                mean               mean  layer  segment_each_example   \n",
       "12                mean               mean  layer  segment_each_example   \n",
       "92                mean       soft_cluster  layer  segment_each_example   \n",
       "..                 ...                ...    ...                   ...   \n",
       "36                mean               None  layer  segment_each_example   \n",
       "106               mean       soft_cluster  layer  segment_each_example   \n",
       "26                mean       soft_cluster  layer  segment_each_example   \n",
       "2                 mean               mean  layer  segment_each_example   \n",
       "100               mean               None  layer  segment_each_example   \n",
       "\n",
       "                                   date  \n",
       "35  2022-12-24 21:51:59.845530112-08:00  \n",
       "129 2022-12-24 20:08:40.603513600-08:00  \n",
       "10  2022-12-24 20:57:54.155584768-08:00  \n",
       "12  2022-12-24 20:12:37.852242176-08:00  \n",
       "92  2022-12-24 21:02:20.516229120-08:00  \n",
       "..                                  ...  \n",
       "36  2022-12-24 21:52:34.865124864-08:00  \n",
       "106 2022-12-24 23:34:52.119111168-08:00  \n",
       "26  2022-12-24 23:49:49.076546560-08:00  \n",
       "2   2022-12-24 22:59:35.264856832-08:00  \n",
       "100 2022-12-24 22:08:55.757095424-08:00  \n",
       "\n",
       "[138 rows x 15 columns]"
      ]
     },
     "execution_count": 6,
     "metadata": {},
     "output_type": "execute_result"
    }
   ],
   "source": [
    "df_hellaswag_sim4"
   ]
  },
  {
   "cell_type": "code",
   "execution_count": 3,
   "metadata": {},
   "outputs": [
    {
     "name": "stdout",
     "output_type": "stream",
     "text": [
      "metric cols regexp = re.compile('^((hellaswag:acc)).*')\n",
      "Following columns will be dropped: {'hellaswag:rand_acc_stderr', 'limit', 'hellaswag:rand_acc'}\n"
     ]
    },
    {
     "data": {
      "text/html": [
       "<div>\n",
       "<style scoped>\n",
       "    .dataframe tbody tr th:only-of-type {\n",
       "        vertical-align: middle;\n",
       "    }\n",
       "\n",
       "    .dataframe tbody tr th {\n",
       "        vertical-align: top;\n",
       "    }\n",
       "\n",
       "    .dataframe thead th {\n",
       "        text-align: right;\n",
       "    }\n",
       "</style>\n",
       "<table border=\"1\" class=\"dataframe\">\n",
       "  <thead>\n",
       "    <tr style=\"text-align: right;\">\n",
       "      <th></th>\n",
       "      <th>filename</th>\n",
       "      <th>num_fewshot</th>\n",
       "      <th>pretrained</th>\n",
       "      <th>SEGMENT_AGG_SCHEME</th>\n",
       "      <th>hellaswag:acc_stderr</th>\n",
       "      <th>NORM</th>\n",
       "      <th>EXAMPLE_AGG_SCHEME</th>\n",
       "      <th>SIMILARITY_FUNC</th>\n",
       "      <th>WORD_AGG_SCHEME</th>\n",
       "      <th>model_type</th>\n",
       "      <th>hellaswag:acc</th>\n",
       "      <th>ENCODING_LAYER</th>\n",
       "      <th>mtime</th>\n",
       "      <th>encoding_scheme</th>\n",
       "      <th>date</th>\n",
       "    </tr>\n",
       "  </thead>\n",
       "  <tbody>\n",
       "    <tr>\n",
       "      <th>56</th>\n",
       "      <td>b89708c3804ffe013c2c82685f2c6927ca4840f2.json</td>\n",
       "      <td>5</td>\n",
       "      <td>EleutherAI/gpt-neo-1.3B</td>\n",
       "      <td>None</td>\n",
       "      <td>0.004534</td>\n",
       "      <td>layer</td>\n",
       "      <td>None</td>\n",
       "      <td>dot_product</td>\n",
       "      <td>mean</td>\n",
       "      <td>dist_sim</td>\n",
       "      <td>0.291177</td>\n",
       "      <td>middle</td>\n",
       "      <td>1.670967e+09</td>\n",
       "      <td>concat_all_examples</td>\n",
       "      <td>2022-12-13 13:22:00.695954688-08:00</td>\n",
       "    </tr>\n",
       "    <tr>\n",
       "      <th>26</th>\n",
       "      <td>1ce5fc21b3d0668d2e067d317391e11c20a84c47.json</td>\n",
       "      <td>5</td>\n",
       "      <td>EleutherAI/gpt-neo-1.3B</td>\n",
       "      <td>None</td>\n",
       "      <td>0.004534</td>\n",
       "      <td>layer</td>\n",
       "      <td>soft_cluster</td>\n",
       "      <td>dot_product</td>\n",
       "      <td>mean</td>\n",
       "      <td>dist_sim</td>\n",
       "      <td>0.291177</td>\n",
       "      <td>middle</td>\n",
       "      <td>1.670967e+09</td>\n",
       "      <td>concat_all_examples</td>\n",
       "      <td>2022-12-13 13:22:28.839707648-08:00</td>\n",
       "    </tr>\n",
       "    <tr>\n",
       "      <th>25</th>\n",
       "      <td>e9dd4d906aa3c5d6e83ed55450cf364768d5ca4b.json</td>\n",
       "      <td>5</td>\n",
       "      <td>EleutherAI/gpt-neo-1.3B</td>\n",
       "      <td>mean</td>\n",
       "      <td>0.004534</td>\n",
       "      <td>layer</td>\n",
       "      <td>soft_cluster</td>\n",
       "      <td>dot_product</td>\n",
       "      <td>mean</td>\n",
       "      <td>dist_sim</td>\n",
       "      <td>0.291177</td>\n",
       "      <td>middle</td>\n",
       "      <td>1.670967e+09</td>\n",
       "      <td>concat_all_examples</td>\n",
       "      <td>2022-12-13 13:23:16.643286528-08:00</td>\n",
       "    </tr>\n",
       "    <tr>\n",
       "      <th>24</th>\n",
       "      <td>ed318001f2e6e8c658aee3df51dfbcba45fef2bc.json</td>\n",
       "      <td>5</td>\n",
       "      <td>EleutherAI/gpt-neo-1.3B</td>\n",
       "      <td>mean</td>\n",
       "      <td>0.004534</td>\n",
       "      <td>layer</td>\n",
       "      <td>None</td>\n",
       "      <td>dot_product</td>\n",
       "      <td>mean</td>\n",
       "      <td>dist_sim</td>\n",
       "      <td>0.291177</td>\n",
       "      <td>middle</td>\n",
       "      <td>1.670967e+09</td>\n",
       "      <td>concat_all_examples</td>\n",
       "      <td>2022-12-13 13:23:00.119432192-08:00</td>\n",
       "    </tr>\n",
       "    <tr>\n",
       "      <th>46</th>\n",
       "      <td>59be8ce9b518ad6dc24748aa31b9be78deb25a52.json</td>\n",
       "      <td>0</td>\n",
       "      <td>EleutherAI/gpt-neo-1.3B</td>\n",
       "      <td>None</td>\n",
       "      <td>0.004528</td>\n",
       "      <td>layer</td>\n",
       "      <td>None</td>\n",
       "      <td>cosine_sim</td>\n",
       "      <td>mean</td>\n",
       "      <td>dist_sim</td>\n",
       "      <td>0.289882</td>\n",
       "      <td>NaN</td>\n",
       "      <td>1.668115e+09</td>\n",
       "      <td>concat_all_examples</td>\n",
       "      <td>2022-11-10 13:19:26.346697728-08:00</td>\n",
       "    </tr>\n",
       "    <tr>\n",
       "      <th>...</th>\n",
       "      <td>...</td>\n",
       "      <td>...</td>\n",
       "      <td>...</td>\n",
       "      <td>...</td>\n",
       "      <td>...</td>\n",
       "      <td>...</td>\n",
       "      <td>...</td>\n",
       "      <td>...</td>\n",
       "      <td>...</td>\n",
       "      <td>...</td>\n",
       "      <td>...</td>\n",
       "      <td>...</td>\n",
       "      <td>...</td>\n",
       "      <td>...</td>\n",
       "      <td>...</td>\n",
       "    </tr>\n",
       "    <tr>\n",
       "      <th>47</th>\n",
       "      <td>e2469d8fd7989d15af92837c847fb14877291378.json</td>\n",
       "      <td>5</td>\n",
       "      <td>EleutherAI/gpt-neo-1.3B</td>\n",
       "      <td>mean</td>\n",
       "      <td>0.004237</td>\n",
       "      <td>layer</td>\n",
       "      <td>mean</td>\n",
       "      <td>dot_product</td>\n",
       "      <td>mean</td>\n",
       "      <td>dist_sim</td>\n",
       "      <td>0.235909</td>\n",
       "      <td>NaN</td>\n",
       "      <td>1.662555e+09</td>\n",
       "      <td>concat_all_examples</td>\n",
       "      <td>2022-09-07 05:49:01.587022848-07:00</td>\n",
       "    </tr>\n",
       "    <tr>\n",
       "      <th>23</th>\n",
       "      <td>352d013e5f9f40835f6ec6d9252be5b97ea6eab9.json</td>\n",
       "      <td>5</td>\n",
       "      <td>EleutherAI/gpt-neo-1.3B</td>\n",
       "      <td>mean</td>\n",
       "      <td>0.004237</td>\n",
       "      <td>L2</td>\n",
       "      <td>mean</td>\n",
       "      <td>dot_product</td>\n",
       "      <td>mean</td>\n",
       "      <td>dist_sim</td>\n",
       "      <td>0.235909</td>\n",
       "      <td>NaN</td>\n",
       "      <td>1.662552e+09</td>\n",
       "      <td>concat_all_examples</td>\n",
       "      <td>2022-09-07 04:53:38.173481984-07:00</td>\n",
       "    </tr>\n",
       "    <tr>\n",
       "      <th>0</th>\n",
       "      <td>13e388234038c38eee1f32c09ac9c38327364e5c.json</td>\n",
       "      <td>5</td>\n",
       "      <td>EleutherAI/gpt-neo-1.3B</td>\n",
       "      <td>None</td>\n",
       "      <td>0.004237</td>\n",
       "      <td>layer</td>\n",
       "      <td>None</td>\n",
       "      <td>cosine_sim</td>\n",
       "      <td>mean</td>\n",
       "      <td>dist_sim</td>\n",
       "      <td>0.235909</td>\n",
       "      <td>NaN</td>\n",
       "      <td>1.668116e+09</td>\n",
       "      <td>concat_all_examples</td>\n",
       "      <td>2022-11-10 13:38:50.371140864-08:00</td>\n",
       "    </tr>\n",
       "    <tr>\n",
       "      <th>8</th>\n",
       "      <td>22d5af595fdf16106bfd1bf8cf071ad5795b7943.json</td>\n",
       "      <td>5</td>\n",
       "      <td>EleutherAI/gpt-neo-1.3B</td>\n",
       "      <td>None</td>\n",
       "      <td>0.004232</td>\n",
       "      <td>layer</td>\n",
       "      <td>soft_cluster</td>\n",
       "      <td>dot_product</td>\n",
       "      <td>mean</td>\n",
       "      <td>dist_sim</td>\n",
       "      <td>0.235113</td>\n",
       "      <td>NaN</td>\n",
       "      <td>1.668202e+09</td>\n",
       "      <td>segment_each_example</td>\n",
       "      <td>2022-11-11 13:34:09.567566080-08:00</td>\n",
       "    </tr>\n",
       "    <tr>\n",
       "      <th>15</th>\n",
       "      <td>d00438895ac061214f0be55cd321bad519918cdc.json</td>\n",
       "      <td>5</td>\n",
       "      <td>EleutherAI/gpt-neo-1.3B</td>\n",
       "      <td>None</td>\n",
       "      <td>0.004216</td>\n",
       "      <td>layer</td>\n",
       "      <td>soft_cluster</td>\n",
       "      <td>dot_product</td>\n",
       "      <td>mean</td>\n",
       "      <td>dist_sim</td>\n",
       "      <td>0.232623</td>\n",
       "      <td>middle</td>\n",
       "      <td>1.670970e+09</td>\n",
       "      <td>segment_each_example</td>\n",
       "      <td>2022-12-13 14:11:59.444852992-08:00</td>\n",
       "    </tr>\n",
       "  </tbody>\n",
       "</table>\n",
       "<p>76 rows × 15 columns</p>\n",
       "</div>"
      ],
      "text/plain": [
       "                                         filename  num_fewshot  \\\n",
       "56  b89708c3804ffe013c2c82685f2c6927ca4840f2.json            5   \n",
       "26  1ce5fc21b3d0668d2e067d317391e11c20a84c47.json            5   \n",
       "25  e9dd4d906aa3c5d6e83ed55450cf364768d5ca4b.json            5   \n",
       "24  ed318001f2e6e8c658aee3df51dfbcba45fef2bc.json            5   \n",
       "46  59be8ce9b518ad6dc24748aa31b9be78deb25a52.json            0   \n",
       "..                                            ...          ...   \n",
       "47  e2469d8fd7989d15af92837c847fb14877291378.json            5   \n",
       "23  352d013e5f9f40835f6ec6d9252be5b97ea6eab9.json            5   \n",
       "0   13e388234038c38eee1f32c09ac9c38327364e5c.json            5   \n",
       "8   22d5af595fdf16106bfd1bf8cf071ad5795b7943.json            5   \n",
       "15  d00438895ac061214f0be55cd321bad519918cdc.json            5   \n",
       "\n",
       "                 pretrained SEGMENT_AGG_SCHEME  hellaswag:acc_stderr   NORM  \\\n",
       "56  EleutherAI/gpt-neo-1.3B               None              0.004534  layer   \n",
       "26  EleutherAI/gpt-neo-1.3B               None              0.004534  layer   \n",
       "25  EleutherAI/gpt-neo-1.3B               mean              0.004534  layer   \n",
       "24  EleutherAI/gpt-neo-1.3B               mean              0.004534  layer   \n",
       "46  EleutherAI/gpt-neo-1.3B               None              0.004528  layer   \n",
       "..                      ...                ...                   ...    ...   \n",
       "47  EleutherAI/gpt-neo-1.3B               mean              0.004237  layer   \n",
       "23  EleutherAI/gpt-neo-1.3B               mean              0.004237     L2   \n",
       "0   EleutherAI/gpt-neo-1.3B               None              0.004237  layer   \n",
       "8   EleutherAI/gpt-neo-1.3B               None              0.004232  layer   \n",
       "15  EleutherAI/gpt-neo-1.3B               None              0.004216  layer   \n",
       "\n",
       "   EXAMPLE_AGG_SCHEME SIMILARITY_FUNC WORD_AGG_SCHEME model_type  \\\n",
       "56               None     dot_product            mean   dist_sim   \n",
       "26       soft_cluster     dot_product            mean   dist_sim   \n",
       "25       soft_cluster     dot_product            mean   dist_sim   \n",
       "24               None     dot_product            mean   dist_sim   \n",
       "46               None      cosine_sim            mean   dist_sim   \n",
       "..                ...             ...             ...        ...   \n",
       "47               mean     dot_product            mean   dist_sim   \n",
       "23               mean     dot_product            mean   dist_sim   \n",
       "0                None      cosine_sim            mean   dist_sim   \n",
       "8        soft_cluster     dot_product            mean   dist_sim   \n",
       "15       soft_cluster     dot_product            mean   dist_sim   \n",
       "\n",
       "    hellaswag:acc ENCODING_LAYER         mtime       encoding_scheme  \\\n",
       "56       0.291177         middle  1.670967e+09   concat_all_examples   \n",
       "26       0.291177         middle  1.670967e+09   concat_all_examples   \n",
       "25       0.291177         middle  1.670967e+09   concat_all_examples   \n",
       "24       0.291177         middle  1.670967e+09   concat_all_examples   \n",
       "46       0.289882            NaN  1.668115e+09   concat_all_examples   \n",
       "..            ...            ...           ...                   ...   \n",
       "47       0.235909            NaN  1.662555e+09   concat_all_examples   \n",
       "23       0.235909            NaN  1.662552e+09   concat_all_examples   \n",
       "0        0.235909            NaN  1.668116e+09   concat_all_examples   \n",
       "8        0.235113            NaN  1.668202e+09  segment_each_example   \n",
       "15       0.232623         middle  1.670970e+09  segment_each_example   \n",
       "\n",
       "                                  date  \n",
       "56 2022-12-13 13:22:00.695954688-08:00  \n",
       "26 2022-12-13 13:22:28.839707648-08:00  \n",
       "25 2022-12-13 13:23:16.643286528-08:00  \n",
       "24 2022-12-13 13:23:00.119432192-08:00  \n",
       "46 2022-11-10 13:19:26.346697728-08:00  \n",
       "..                                 ...  \n",
       "47 2022-09-07 05:49:01.587022848-07:00  \n",
       "23 2022-09-07 04:53:38.173481984-07:00  \n",
       "0  2022-11-10 13:38:50.371140864-08:00  \n",
       "8  2022-11-11 13:34:09.567566080-08:00  \n",
       "15 2022-12-13 14:11:59.444852992-08:00  \n",
       "\n",
       "[76 rows x 15 columns]"
      ]
     },
     "execution_count": 3,
     "metadata": {},
     "output_type": "execute_result"
    }
   ],
   "source": [
    "all_df_sim1 = read_results(dir = '../lmeval_results_sim1')\n",
    "df_hellaswag_sim1 = task_metrics(all_df_sim1, ['hellaswag:acc'], sort_metrics=['hellaswag:acc'])\n",
    "df_hellaswag_sim1"
   ]
  },
  {
   "cell_type": "code",
   "execution_count": 4,
   "metadata": {},
   "outputs": [
    {
     "data": {
      "text/plain": [
       "pretrained    EleutherAI/gpt-neo-1.3B\n",
       "model_type                   dist_sim\n",
       "Name: Constant Variables, dtype: object"
      ]
     },
     "metadata": {},
     "output_type": "display_data"
    },
    {
     "data": {
      "application/vnd.plotly.v1+json": {
       "config": {
        "plotlyServerURL": "https://plot.ly"
       },
       "data": [
        {
         "arrangement": "freeform",
         "dimensions": [
          {
           "label": "num_fewshot",
           "values": [
            5,
            5,
            5,
            5,
            0,
            0,
            0,
            0,
            0,
            0,
            0,
            0,
            0,
            0,
            0,
            5,
            5,
            5,
            5,
            5,
            5,
            0,
            0,
            0,
            0,
            5,
            5,
            5,
            5,
            5,
            5,
            0,
            0,
            0,
            0,
            0,
            0,
            0,
            0,
            0,
            0,
            0,
            0,
            0,
            0,
            0,
            0,
            0,
            0,
            0,
            0,
            0,
            0,
            0,
            0,
            5,
            5,
            5,
            5,
            5,
            5,
            5,
            5,
            5,
            5,
            5,
            5,
            5,
            5,
            5,
            5,
            5,
            5,
            5,
            5,
            5
           ]
          },
          {
           "label": "SEGMENT_AGG_SCHEME",
           "values": [
            null,
            null,
            "mean",
            "mean",
            null,
            null,
            null,
            null,
            null,
            "mean",
            null,
            null,
            "mean",
            null,
            null,
            null,
            null,
            null,
            null,
            null,
            null,
            "mean",
            "mean",
            null,
            null,
            "mean",
            null,
            "mean",
            null,
            "mean",
            "mean",
            "mean",
            null,
            "mean",
            null,
            "mean",
            "mean",
            null,
            "mean",
            null,
            "mean",
            null,
            null,
            null,
            null,
            null,
            "mean",
            null,
            "mean",
            "mean",
            "mean",
            "mean",
            null,
            null,
            "mean",
            null,
            "mean",
            null,
            null,
            "mean",
            null,
            null,
            "mean",
            "mean",
            null,
            "mean",
            "mean",
            "mean",
            "mean",
            null,
            null,
            "mean",
            "mean",
            null,
            null,
            null
           ]
          },
          {
           "label": "NORM",
           "values": [
            "layer",
            "layer",
            "layer",
            "layer",
            "layer",
            "layer",
            "layer",
            "layer",
            "layer",
            "L2",
            "layer",
            "layer",
            "layer",
            "layer",
            "layer",
            "layer",
            "layer",
            "layer",
            "layer",
            "layer",
            "layer",
            "L2",
            "L2",
            "layer",
            "layer",
            "layer",
            "layer",
            "layer",
            "layer",
            "L2",
            "L2",
            "layer",
            "layer",
            "layer",
            "layer",
            "layer",
            "layer",
            "layer",
            "layer",
            "layer",
            "layer",
            "layer",
            "layer",
            "layer",
            "layer",
            "layer",
            "layer",
            "layer",
            "layer",
            "layer",
            "layer",
            "layer",
            "layer",
            "layer",
            "layer",
            "layer",
            "layer",
            "layer",
            "layer",
            "layer",
            "layer",
            "layer",
            "layer",
            "layer",
            "layer",
            "layer",
            "layer",
            "layer",
            "layer",
            "layer",
            "layer",
            "layer",
            "L2",
            "layer",
            "layer",
            "layer"
           ]
          },
          {
           "label": "EXAMPLE_AGG_SCHEME",
           "values": [
            null,
            "soft_cluster",
            "soft_cluster",
            null,
            null,
            null,
            "soft_cluster",
            null,
            null,
            "mean",
            null,
            null,
            "mean",
            null,
            null,
            null,
            null,
            null,
            null,
            null,
            null,
            "mean",
            "mean",
            null,
            "soft_cluster",
            null,
            "soft_cluster",
            "soft_cluster",
            null,
            "mean",
            "mean",
            null,
            "soft_cluster",
            null,
            "soft_cluster",
            "soft_cluster",
            "soft_cluster",
            "soft_cluster",
            null,
            null,
            "soft_cluster",
            null,
            null,
            "soft_cluster",
            null,
            null,
            null,
            null,
            null,
            "soft_cluster",
            "soft_cluster",
            null,
            "soft_cluster",
            "soft_cluster",
            "soft_cluster",
            null,
            null,
            null,
            null,
            null,
            null,
            "soft_cluster",
            "soft_cluster",
            "soft_cluster",
            "soft_cluster",
            null,
            null,
            "soft_cluster",
            "soft_cluster",
            "soft_cluster",
            null,
            "mean",
            "mean",
            null,
            "soft_cluster",
            "soft_cluster"
           ]
          },
          {
           "label": "SIMILARITY_FUNC",
           "values": [
            "dot_product",
            "dot_product",
            "dot_product",
            "dot_product",
            "cosine_sim",
            "cosine_sim",
            "dot_product",
            "dot_product",
            "cosine_sim",
            "dot_product",
            "dot_product",
            "dot_product",
            "dot_product",
            "cosine_sim",
            "dot_product",
            "dot_product",
            "cosine_sim",
            "cosine_sim",
            "cosine_sim",
            "dot_product",
            "dot_product",
            "dot_product",
            "cosine_sim",
            "dot_product",
            "dot_product",
            "dot_product",
            "dot_product",
            "dot_product",
            "dot_product",
            "cosine_sim",
            "dot_product",
            "dot_product",
            "dot_product",
            "dot_product",
            "dot_product",
            "dot_product",
            "dot_product",
            "dot_product",
            "dot_product",
            "dot_product",
            "dot_product",
            "dot_product",
            "dot_product",
            "dot_product",
            "dot_product",
            "dot_product",
            "dot_product",
            "dot_product",
            "dot_product",
            "dot_product",
            "dot_product",
            "dot_product",
            "dot_product",
            "dot_product",
            "dot_product",
            "dot_product",
            "dot_product",
            "dot_product",
            "dot_product",
            "dot_product",
            "dot_product",
            "dot_product",
            "dot_product",
            "dot_product",
            "dot_product",
            "dot_product",
            "dot_product",
            "dot_product",
            "dot_product",
            "dot_product",
            "dot_product",
            "dot_product",
            "dot_product",
            "cosine_sim",
            "dot_product",
            "dot_product"
           ]
          },
          {
           "label": "WORD_AGG_SCHEME",
           "values": [
            "mean",
            "mean",
            "mean",
            "mean",
            "mean",
            "mean",
            "mean",
            "mean",
            "mean",
            "mean",
            "mean",
            "mean",
            "mean",
            "mean",
            "mean",
            "mean",
            "mean",
            "mean",
            "mean",
            "mean",
            "mean",
            "last",
            "last",
            "last",
            "last",
            "last",
            "last",
            "last",
            "last",
            "last",
            "last",
            "last",
            "last",
            "last",
            "last",
            "last",
            "last",
            "last",
            "last",
            "last",
            "last",
            "last",
            "last",
            "mean",
            "mean",
            "mean",
            "mean",
            "mean",
            "mean",
            "mean",
            "mean",
            "mean",
            "mean",
            "mean",
            "mean",
            "mean",
            "mean",
            "mean",
            "last",
            "last",
            "last",
            "last",
            "last",
            "last",
            "last",
            "last",
            "mean",
            "mean",
            "mean",
            "mean",
            "mean",
            "mean",
            "mean",
            "mean",
            "mean",
            "mean"
           ]
          },
          {
           "label": "ENCODING_LAYER",
           "values": [
            "middle",
            "middle",
            "middle",
            "middle",
            null,
            null,
            null,
            null,
            null,
            null,
            null,
            null,
            null,
            null,
            null,
            null,
            null,
            null,
            null,
            null,
            null,
            null,
            null,
            null,
            null,
            "middle",
            "middle",
            "middle",
            "middle",
            null,
            null,
            "middle",
            "middle",
            "middle",
            "middle",
            "middle",
            "middle",
            "middle",
            "middle",
            "middle",
            "middle",
            "middle",
            "middle",
            "middle",
            "middle",
            "middle",
            "middle",
            "middle",
            "middle",
            "middle",
            "middle",
            "middle",
            "middle",
            "middle",
            "middle",
            "middle",
            "middle",
            "middle",
            "middle",
            "middle",
            "middle",
            "middle",
            "middle",
            "middle",
            "middle",
            "middle",
            "middle",
            "middle",
            "middle",
            "middle",
            null,
            null,
            null,
            null,
            null,
            "middle"
           ]
          },
          {
           "label": "encoding_scheme",
           "values": [
            "concat_all_examples",
            "concat_all_examples",
            "concat_all_examples",
            "concat_all_examples",
            "concat_all_examples",
            "merge_all_segments",
            "segment_each_example",
            "merge_all_segments",
            "segment_each_example",
            "concat_all_examples",
            "concat_each_example",
            "concat_all_examples",
            "concat_all_examples",
            "concat_each_example",
            "segment_each_example",
            "concat_each_example",
            "concat_each_example",
            "segment_each_example",
            "merge_all_segments",
            "segment_each_example",
            "merge_all_segments",
            "concat_all_examples",
            "concat_all_examples",
            "concat_each_example",
            "segment_each_example",
            "concat_all_examples",
            "concat_all_examples",
            "concat_all_examples",
            "concat_all_examples",
            "concat_all_examples",
            "concat_all_examples",
            "segment_each_example",
            "segment_each_example",
            "concat_each_example",
            "concat_each_example",
            "concat_each_example",
            "concat_all_examples",
            "concat_all_examples",
            "concat_all_examples",
            "concat_each_example",
            "segment_each_example",
            "segment_each_example",
            "concat_all_examples",
            "segment_each_example",
            "concat_all_examples",
            "concat_each_example",
            "concat_all_examples",
            "segment_each_example",
            "concat_each_example",
            "segment_each_example",
            "concat_all_examples",
            "segment_each_example",
            "concat_all_examples",
            "concat_each_example",
            "concat_each_example",
            "concat_each_example",
            "concat_each_example",
            "segment_each_example",
            "concat_each_example",
            "concat_each_example",
            "segment_each_example",
            "concat_each_example",
            "concat_each_example",
            "segment_each_example",
            "segment_each_example",
            "segment_each_example",
            "segment_each_example",
            "segment_each_example",
            "concat_each_example",
            "concat_each_example",
            "concat_all_examples",
            "concat_all_examples",
            "concat_all_examples",
            "concat_all_examples",
            "segment_each_example",
            "segment_each_example"
           ]
          },
          {
           "label": "hellaswag:acc",
           "values": [
            0.29117705636327423,
            0.29117705636327423,
            0.29117705636327423,
            0.29117705636327423,
            0.2898824935271858,
            0.2898824935271858,
            0.2898824935271858,
            0.2898824935271858,
            0.2898824935271858,
            0.2898824935271858,
            0.2898824935271858,
            0.2898824935271858,
            0.2898824935271858,
            0.2898824935271858,
            0.2898824935271858,
            0.28510256920932087,
            0.28510256920932087,
            0.2822146982672774,
            0.2822146982672774,
            0.28211511651065524,
            0.28211511651065524,
            0.2729535949014141,
            0.2729535949014141,
            0.2726548496315475,
            0.2726548496315475,
            0.26488747261501694,
            0.26488747261501694,
            0.26488747261501694,
            0.26488747261501694,
            0.2645887273451504,
            0.2645887273451504,
            0.2635929097789285,
            0.2635929097789285,
            0.2635929097789285,
            0.2635929097789285,
            0.2635929097789285,
            0.2635929097789285,
            0.2635929097789285,
            0.2635929097789285,
            0.2635929097789285,
            0.2635929097789285,
            0.2635929097789285,
            0.2635929097789285,
            0.2531368253335989,
            0.2531368253335989,
            0.2531368253335989,
            0.2531368253335989,
            0.2531368253335989,
            0.2531368253335989,
            0.2531368253335989,
            0.2531368253335989,
            0.2531368253335989,
            0.2531368253335989,
            0.2531368253335989,
            0.2531368253335989,
            0.2509460266879108,
            0.2509460266879108,
            0.25054769966142204,
            0.2483569010157339,
            0.2483569010157339,
            0.24726150169288985,
            0.23959370643298147,
            0.23959370643298147,
            0.23869747062338179,
            0.23839872535351522,
            0.23780123481378213,
            0.23730332603067117,
            0.23660625373431587,
            0.23620792670782711,
            0.23620792670782711,
            0.23590918143796055,
            0.23590918143796055,
            0.23590918143796055,
            0.23590918143796055,
            0.23511252738498306,
            0.2326229834694284
           ]
          }
         ],
         "hoveron": "color",
         "line": {
          "color": [
           0.29117705636327423,
           0.29117705636327423,
           0.29117705636327423,
           0.29117705636327423,
           0.2898824935271858,
           0.2898824935271858,
           0.2898824935271858,
           0.2898824935271858,
           0.2898824935271858,
           0.2898824935271858,
           0.2898824935271858,
           0.2898824935271858,
           0.2898824935271858,
           0.2898824935271858,
           0.2898824935271858,
           0.28510256920932087,
           0.28510256920932087,
           0.2822146982672774,
           0.2822146982672774,
           0.28211511651065524,
           0.28211511651065524,
           0.2729535949014141,
           0.2729535949014141,
           0.2726548496315475,
           0.2726548496315475,
           0.26488747261501694,
           0.26488747261501694,
           0.26488747261501694,
           0.26488747261501694,
           0.2645887273451504,
           0.2645887273451504,
           0.2635929097789285,
           0.2635929097789285,
           0.2635929097789285,
           0.2635929097789285,
           0.2635929097789285,
           0.2635929097789285,
           0.2635929097789285,
           0.2635929097789285,
           0.2635929097789285,
           0.2635929097789285,
           0.2635929097789285,
           0.2635929097789285,
           0.2531368253335989,
           0.2531368253335989,
           0.2531368253335989,
           0.2531368253335989,
           0.2531368253335989,
           0.2531368253335989,
           0.2531368253335989,
           0.2531368253335989,
           0.2531368253335989,
           0.2531368253335989,
           0.2531368253335989,
           0.2531368253335989,
           0.2509460266879108,
           0.2509460266879108,
           0.25054769966142204,
           0.2483569010157339,
           0.2483569010157339,
           0.24726150169288985,
           0.23959370643298147,
           0.23959370643298147,
           0.23869747062338179,
           0.23839872535351522,
           0.23780123481378213,
           0.23730332603067117,
           0.23660625373431587,
           0.23620792670782711,
           0.23620792670782711,
           0.23590918143796055,
           0.23590918143796055,
           0.23590918143796055,
           0.23590918143796055,
           0.23511252738498306,
           0.2326229834694284
          ],
          "coloraxis": "coloraxis"
         },
         "type": "parcats"
        }
       ],
       "layout": {
        "coloraxis": {
         "colorbar": {
          "len": 1,
          "lenmode": "fraction",
          "y": 1,
          "yanchor": "top"
         },
         "colorscale": [
          [
           0,
           "#00224e"
          ],
          [
           0.1111111111111111,
           "#123570"
          ],
          [
           0.2222222222222222,
           "#3b496c"
          ],
          [
           0.3333333333333333,
           "#575d6d"
          ],
          [
           0.4444444444444444,
           "#707173"
          ],
          [
           0.5555555555555556,
           "#8a8678"
          ],
          [
           0.6666666666666666,
           "#a59c74"
          ],
          [
           0.7777777777777778,
           "#c3b369"
          ],
          [
           0.8888888888888888,
           "#e1cc55"
          ],
          [
           1,
           "#fee838"
          ]
         ],
         "showscale": true
        },
        "height": 1500,
        "template": {
         "data": {
          "bar": [
           {
            "error_x": {
             "color": "#2a3f5f"
            },
            "error_y": {
             "color": "#2a3f5f"
            },
            "marker": {
             "line": {
              "color": "#E5ECF6",
              "width": 0.5
             },
             "pattern": {
              "fillmode": "overlay",
              "size": 10,
              "solidity": 0.2
             }
            },
            "type": "bar"
           }
          ],
          "barpolar": [
           {
            "marker": {
             "line": {
              "color": "#E5ECF6",
              "width": 0.5
             },
             "pattern": {
              "fillmode": "overlay",
              "size": 10,
              "solidity": 0.2
             }
            },
            "type": "barpolar"
           }
          ],
          "carpet": [
           {
            "aaxis": {
             "endlinecolor": "#2a3f5f",
             "gridcolor": "white",
             "linecolor": "white",
             "minorgridcolor": "white",
             "startlinecolor": "#2a3f5f"
            },
            "baxis": {
             "endlinecolor": "#2a3f5f",
             "gridcolor": "white",
             "linecolor": "white",
             "minorgridcolor": "white",
             "startlinecolor": "#2a3f5f"
            },
            "type": "carpet"
           }
          ],
          "choropleth": [
           {
            "colorbar": {
             "outlinewidth": 0,
             "ticks": ""
            },
            "type": "choropleth"
           }
          ],
          "contour": [
           {
            "colorbar": {
             "outlinewidth": 0,
             "ticks": ""
            },
            "colorscale": [
             [
              0,
              "#0d0887"
             ],
             [
              0.1111111111111111,
              "#46039f"
             ],
             [
              0.2222222222222222,
              "#7201a8"
             ],
             [
              0.3333333333333333,
              "#9c179e"
             ],
             [
              0.4444444444444444,
              "#bd3786"
             ],
             [
              0.5555555555555556,
              "#d8576b"
             ],
             [
              0.6666666666666666,
              "#ed7953"
             ],
             [
              0.7777777777777778,
              "#fb9f3a"
             ],
             [
              0.8888888888888888,
              "#fdca26"
             ],
             [
              1,
              "#f0f921"
             ]
            ],
            "type": "contour"
           }
          ],
          "contourcarpet": [
           {
            "colorbar": {
             "outlinewidth": 0,
             "ticks": ""
            },
            "type": "contourcarpet"
           }
          ],
          "heatmap": [
           {
            "colorbar": {
             "outlinewidth": 0,
             "ticks": ""
            },
            "colorscale": [
             [
              0,
              "#0d0887"
             ],
             [
              0.1111111111111111,
              "#46039f"
             ],
             [
              0.2222222222222222,
              "#7201a8"
             ],
             [
              0.3333333333333333,
              "#9c179e"
             ],
             [
              0.4444444444444444,
              "#bd3786"
             ],
             [
              0.5555555555555556,
              "#d8576b"
             ],
             [
              0.6666666666666666,
              "#ed7953"
             ],
             [
              0.7777777777777778,
              "#fb9f3a"
             ],
             [
              0.8888888888888888,
              "#fdca26"
             ],
             [
              1,
              "#f0f921"
             ]
            ],
            "type": "heatmap"
           }
          ],
          "heatmapgl": [
           {
            "colorbar": {
             "outlinewidth": 0,
             "ticks": ""
            },
            "colorscale": [
             [
              0,
              "#0d0887"
             ],
             [
              0.1111111111111111,
              "#46039f"
             ],
             [
              0.2222222222222222,
              "#7201a8"
             ],
             [
              0.3333333333333333,
              "#9c179e"
             ],
             [
              0.4444444444444444,
              "#bd3786"
             ],
             [
              0.5555555555555556,
              "#d8576b"
             ],
             [
              0.6666666666666666,
              "#ed7953"
             ],
             [
              0.7777777777777778,
              "#fb9f3a"
             ],
             [
              0.8888888888888888,
              "#fdca26"
             ],
             [
              1,
              "#f0f921"
             ]
            ],
            "type": "heatmapgl"
           }
          ],
          "histogram": [
           {
            "marker": {
             "pattern": {
              "fillmode": "overlay",
              "size": 10,
              "solidity": 0.2
             }
            },
            "type": "histogram"
           }
          ],
          "histogram2d": [
           {
            "colorbar": {
             "outlinewidth": 0,
             "ticks": ""
            },
            "colorscale": [
             [
              0,
              "#0d0887"
             ],
             [
              0.1111111111111111,
              "#46039f"
             ],
             [
              0.2222222222222222,
              "#7201a8"
             ],
             [
              0.3333333333333333,
              "#9c179e"
             ],
             [
              0.4444444444444444,
              "#bd3786"
             ],
             [
              0.5555555555555556,
              "#d8576b"
             ],
             [
              0.6666666666666666,
              "#ed7953"
             ],
             [
              0.7777777777777778,
              "#fb9f3a"
             ],
             [
              0.8888888888888888,
              "#fdca26"
             ],
             [
              1,
              "#f0f921"
             ]
            ],
            "type": "histogram2d"
           }
          ],
          "histogram2dcontour": [
           {
            "colorbar": {
             "outlinewidth": 0,
             "ticks": ""
            },
            "colorscale": [
             [
              0,
              "#0d0887"
             ],
             [
              0.1111111111111111,
              "#46039f"
             ],
             [
              0.2222222222222222,
              "#7201a8"
             ],
             [
              0.3333333333333333,
              "#9c179e"
             ],
             [
              0.4444444444444444,
              "#bd3786"
             ],
             [
              0.5555555555555556,
              "#d8576b"
             ],
             [
              0.6666666666666666,
              "#ed7953"
             ],
             [
              0.7777777777777778,
              "#fb9f3a"
             ],
             [
              0.8888888888888888,
              "#fdca26"
             ],
             [
              1,
              "#f0f921"
             ]
            ],
            "type": "histogram2dcontour"
           }
          ],
          "mesh3d": [
           {
            "colorbar": {
             "outlinewidth": 0,
             "ticks": ""
            },
            "type": "mesh3d"
           }
          ],
          "parcoords": [
           {
            "line": {
             "colorbar": {
              "outlinewidth": 0,
              "ticks": ""
             }
            },
            "type": "parcoords"
           }
          ],
          "pie": [
           {
            "automargin": true,
            "type": "pie"
           }
          ],
          "scatter": [
           {
            "fillpattern": {
             "fillmode": "overlay",
             "size": 10,
             "solidity": 0.2
            },
            "type": "scatter"
           }
          ],
          "scatter3d": [
           {
            "line": {
             "colorbar": {
              "outlinewidth": 0,
              "ticks": ""
             }
            },
            "marker": {
             "colorbar": {
              "outlinewidth": 0,
              "ticks": ""
             }
            },
            "type": "scatter3d"
           }
          ],
          "scattercarpet": [
           {
            "marker": {
             "colorbar": {
              "outlinewidth": 0,
              "ticks": ""
             }
            },
            "type": "scattercarpet"
           }
          ],
          "scattergeo": [
           {
            "marker": {
             "colorbar": {
              "outlinewidth": 0,
              "ticks": ""
             }
            },
            "type": "scattergeo"
           }
          ],
          "scattergl": [
           {
            "marker": {
             "colorbar": {
              "outlinewidth": 0,
              "ticks": ""
             }
            },
            "type": "scattergl"
           }
          ],
          "scattermapbox": [
           {
            "marker": {
             "colorbar": {
              "outlinewidth": 0,
              "ticks": ""
             }
            },
            "type": "scattermapbox"
           }
          ],
          "scatterpolar": [
           {
            "marker": {
             "colorbar": {
              "outlinewidth": 0,
              "ticks": ""
             }
            },
            "type": "scatterpolar"
           }
          ],
          "scatterpolargl": [
           {
            "marker": {
             "colorbar": {
              "outlinewidth": 0,
              "ticks": ""
             }
            },
            "type": "scatterpolargl"
           }
          ],
          "scatterternary": [
           {
            "marker": {
             "colorbar": {
              "outlinewidth": 0,
              "ticks": ""
             }
            },
            "type": "scatterternary"
           }
          ],
          "surface": [
           {
            "colorbar": {
             "outlinewidth": 0,
             "ticks": ""
            },
            "colorscale": [
             [
              0,
              "#0d0887"
             ],
             [
              0.1111111111111111,
              "#46039f"
             ],
             [
              0.2222222222222222,
              "#7201a8"
             ],
             [
              0.3333333333333333,
              "#9c179e"
             ],
             [
              0.4444444444444444,
              "#bd3786"
             ],
             [
              0.5555555555555556,
              "#d8576b"
             ],
             [
              0.6666666666666666,
              "#ed7953"
             ],
             [
              0.7777777777777778,
              "#fb9f3a"
             ],
             [
              0.8888888888888888,
              "#fdca26"
             ],
             [
              1,
              "#f0f921"
             ]
            ],
            "type": "surface"
           }
          ],
          "table": [
           {
            "cells": {
             "fill": {
              "color": "#EBF0F8"
             },
             "line": {
              "color": "white"
             }
            },
            "header": {
             "fill": {
              "color": "#C8D4E3"
             },
             "line": {
              "color": "white"
             }
            },
            "type": "table"
           }
          ]
         },
         "layout": {
          "annotationdefaults": {
           "arrowcolor": "#2a3f5f",
           "arrowhead": 0,
           "arrowwidth": 1
          },
          "autotypenumbers": "strict",
          "coloraxis": {
           "colorbar": {
            "outlinewidth": 0,
            "ticks": ""
           }
          },
          "colorscale": {
           "diverging": [
            [
             0,
             "#8e0152"
            ],
            [
             0.1,
             "#c51b7d"
            ],
            [
             0.2,
             "#de77ae"
            ],
            [
             0.3,
             "#f1b6da"
            ],
            [
             0.4,
             "#fde0ef"
            ],
            [
             0.5,
             "#f7f7f7"
            ],
            [
             0.6,
             "#e6f5d0"
            ],
            [
             0.7,
             "#b8e186"
            ],
            [
             0.8,
             "#7fbc41"
            ],
            [
             0.9,
             "#4d9221"
            ],
            [
             1,
             "#276419"
            ]
           ],
           "sequential": [
            [
             0,
             "#0d0887"
            ],
            [
             0.1111111111111111,
             "#46039f"
            ],
            [
             0.2222222222222222,
             "#7201a8"
            ],
            [
             0.3333333333333333,
             "#9c179e"
            ],
            [
             0.4444444444444444,
             "#bd3786"
            ],
            [
             0.5555555555555556,
             "#d8576b"
            ],
            [
             0.6666666666666666,
             "#ed7953"
            ],
            [
             0.7777777777777778,
             "#fb9f3a"
            ],
            [
             0.8888888888888888,
             "#fdca26"
            ],
            [
             1,
             "#f0f921"
            ]
           ],
           "sequentialminus": [
            [
             0,
             "#0d0887"
            ],
            [
             0.1111111111111111,
             "#46039f"
            ],
            [
             0.2222222222222222,
             "#7201a8"
            ],
            [
             0.3333333333333333,
             "#9c179e"
            ],
            [
             0.4444444444444444,
             "#bd3786"
            ],
            [
             0.5555555555555556,
             "#d8576b"
            ],
            [
             0.6666666666666666,
             "#ed7953"
            ],
            [
             0.7777777777777778,
             "#fb9f3a"
            ],
            [
             0.8888888888888888,
             "#fdca26"
            ],
            [
             1,
             "#f0f921"
            ]
           ]
          },
          "colorway": [
           "#636efa",
           "#EF553B",
           "#00cc96",
           "#ab63fa",
           "#FFA15A",
           "#19d3f3",
           "#FF6692",
           "#B6E880",
           "#FF97FF",
           "#FECB52"
          ],
          "font": {
           "color": "#2a3f5f"
          },
          "geo": {
           "bgcolor": "white",
           "lakecolor": "white",
           "landcolor": "#E5ECF6",
           "showlakes": true,
           "showland": true,
           "subunitcolor": "white"
          },
          "hoverlabel": {
           "align": "left"
          },
          "hovermode": "closest",
          "mapbox": {
           "style": "light"
          },
          "paper_bgcolor": "white",
          "plot_bgcolor": "#E5ECF6",
          "polar": {
           "angularaxis": {
            "gridcolor": "white",
            "linecolor": "white",
            "ticks": ""
           },
           "bgcolor": "#E5ECF6",
           "radialaxis": {
            "gridcolor": "white",
            "linecolor": "white",
            "ticks": ""
           }
          },
          "scene": {
           "xaxis": {
            "backgroundcolor": "#E5ECF6",
            "gridcolor": "white",
            "gridwidth": 2,
            "linecolor": "white",
            "showbackground": true,
            "ticks": "",
            "zerolinecolor": "white"
           },
           "yaxis": {
            "backgroundcolor": "#E5ECF6",
            "gridcolor": "white",
            "gridwidth": 2,
            "linecolor": "white",
            "showbackground": true,
            "ticks": "",
            "zerolinecolor": "white"
           },
           "zaxis": {
            "backgroundcolor": "#E5ECF6",
            "gridcolor": "white",
            "gridwidth": 2,
            "linecolor": "white",
            "showbackground": true,
            "ticks": "",
            "zerolinecolor": "white"
           }
          },
          "shapedefaults": {
           "line": {
            "color": "#2a3f5f"
           }
          },
          "ternary": {
           "aaxis": {
            "gridcolor": "white",
            "linecolor": "white",
            "ticks": ""
           },
           "baxis": {
            "gridcolor": "white",
            "linecolor": "white",
            "ticks": ""
           },
           "bgcolor": "#E5ECF6",
           "caxis": {
            "gridcolor": "white",
            "linecolor": "white",
            "ticks": ""
           }
          },
          "title": {
           "x": 0.05
          },
          "xaxis": {
           "automargin": true,
           "gridcolor": "white",
           "linecolor": "white",
           "ticks": "",
           "title": {
            "standoff": 15
           },
           "zerolinecolor": "white",
           "zerolinewidth": 2
          },
          "yaxis": {
           "automargin": true,
           "gridcolor": "white",
           "linecolor": "white",
           "ticks": "",
           "title": {
            "standoff": 15
           },
           "zerolinecolor": "white",
           "zerolinewidth": 2
          }
         }
        }
       }
      },
      "text/html": [
       "<div>                            <div id=\"a84ecd5f-551f-4084-a113-a4f9fec51958\" class=\"plotly-graph-div\" style=\"height:1500px; width:100%;\"></div>            <script type=\"text/javascript\">                require([\"plotly\"], function(Plotly) {                    window.PLOTLYENV=window.PLOTLYENV || {};                                    if (document.getElementById(\"a84ecd5f-551f-4084-a113-a4f9fec51958\")) {                    Plotly.newPlot(                        \"a84ecd5f-551f-4084-a113-a4f9fec51958\",                        [{\"arrangement\":\"freeform\",\"dimensions\":[{\"label\":\"num_fewshot\",\"values\":[5,5,5,5,0,0,0,0,0,0,0,0,0,0,0,5,5,5,5,5,5,0,0,0,0,5,5,5,5,5,5,0,0,0,0,0,0,0,0,0,0,0,0,0,0,0,0,0,0,0,0,0,0,0,0,5,5,5,5,5,5,5,5,5,5,5,5,5,5,5,5,5,5,5,5,5]},{\"label\":\"SEGMENT_AGG_SCHEME\",\"values\":[null,null,\"mean\",\"mean\",null,null,null,null,null,\"mean\",null,null,\"mean\",null,null,null,null,null,null,null,null,\"mean\",\"mean\",null,null,\"mean\",null,\"mean\",null,\"mean\",\"mean\",\"mean\",null,\"mean\",null,\"mean\",\"mean\",null,\"mean\",null,\"mean\",null,null,null,null,null,\"mean\",null,\"mean\",\"mean\",\"mean\",\"mean\",null,null,\"mean\",null,\"mean\",null,null,\"mean\",null,null,\"mean\",\"mean\",null,\"mean\",\"mean\",\"mean\",\"mean\",null,null,\"mean\",\"mean\",null,null,null]},{\"label\":\"NORM\",\"values\":[\"layer\",\"layer\",\"layer\",\"layer\",\"layer\",\"layer\",\"layer\",\"layer\",\"layer\",\"L2\",\"layer\",\"layer\",\"layer\",\"layer\",\"layer\",\"layer\",\"layer\",\"layer\",\"layer\",\"layer\",\"layer\",\"L2\",\"L2\",\"layer\",\"layer\",\"layer\",\"layer\",\"layer\",\"layer\",\"L2\",\"L2\",\"layer\",\"layer\",\"layer\",\"layer\",\"layer\",\"layer\",\"layer\",\"layer\",\"layer\",\"layer\",\"layer\",\"layer\",\"layer\",\"layer\",\"layer\",\"layer\",\"layer\",\"layer\",\"layer\",\"layer\",\"layer\",\"layer\",\"layer\",\"layer\",\"layer\",\"layer\",\"layer\",\"layer\",\"layer\",\"layer\",\"layer\",\"layer\",\"layer\",\"layer\",\"layer\",\"layer\",\"layer\",\"layer\",\"layer\",\"layer\",\"layer\",\"L2\",\"layer\",\"layer\",\"layer\"]},{\"label\":\"EXAMPLE_AGG_SCHEME\",\"values\":[null,\"soft_cluster\",\"soft_cluster\",null,null,null,\"soft_cluster\",null,null,\"mean\",null,null,\"mean\",null,null,null,null,null,null,null,null,\"mean\",\"mean\",null,\"soft_cluster\",null,\"soft_cluster\",\"soft_cluster\",null,\"mean\",\"mean\",null,\"soft_cluster\",null,\"soft_cluster\",\"soft_cluster\",\"soft_cluster\",\"soft_cluster\",null,null,\"soft_cluster\",null,null,\"soft_cluster\",null,null,null,null,null,\"soft_cluster\",\"soft_cluster\",null,\"soft_cluster\",\"soft_cluster\",\"soft_cluster\",null,null,null,null,null,null,\"soft_cluster\",\"soft_cluster\",\"soft_cluster\",\"soft_cluster\",null,null,\"soft_cluster\",\"soft_cluster\",\"soft_cluster\",null,\"mean\",\"mean\",null,\"soft_cluster\",\"soft_cluster\"]},{\"label\":\"SIMILARITY_FUNC\",\"values\":[\"dot_product\",\"dot_product\",\"dot_product\",\"dot_product\",\"cosine_sim\",\"cosine_sim\",\"dot_product\",\"dot_product\",\"cosine_sim\",\"dot_product\",\"dot_product\",\"dot_product\",\"dot_product\",\"cosine_sim\",\"dot_product\",\"dot_product\",\"cosine_sim\",\"cosine_sim\",\"cosine_sim\",\"dot_product\",\"dot_product\",\"dot_product\",\"cosine_sim\",\"dot_product\",\"dot_product\",\"dot_product\",\"dot_product\",\"dot_product\",\"dot_product\",\"cosine_sim\",\"dot_product\",\"dot_product\",\"dot_product\",\"dot_product\",\"dot_product\",\"dot_product\",\"dot_product\",\"dot_product\",\"dot_product\",\"dot_product\",\"dot_product\",\"dot_product\",\"dot_product\",\"dot_product\",\"dot_product\",\"dot_product\",\"dot_product\",\"dot_product\",\"dot_product\",\"dot_product\",\"dot_product\",\"dot_product\",\"dot_product\",\"dot_product\",\"dot_product\",\"dot_product\",\"dot_product\",\"dot_product\",\"dot_product\",\"dot_product\",\"dot_product\",\"dot_product\",\"dot_product\",\"dot_product\",\"dot_product\",\"dot_product\",\"dot_product\",\"dot_product\",\"dot_product\",\"dot_product\",\"dot_product\",\"dot_product\",\"dot_product\",\"cosine_sim\",\"dot_product\",\"dot_product\"]},{\"label\":\"WORD_AGG_SCHEME\",\"values\":[\"mean\",\"mean\",\"mean\",\"mean\",\"mean\",\"mean\",\"mean\",\"mean\",\"mean\",\"mean\",\"mean\",\"mean\",\"mean\",\"mean\",\"mean\",\"mean\",\"mean\",\"mean\",\"mean\",\"mean\",\"mean\",\"last\",\"last\",\"last\",\"last\",\"last\",\"last\",\"last\",\"last\",\"last\",\"last\",\"last\",\"last\",\"last\",\"last\",\"last\",\"last\",\"last\",\"last\",\"last\",\"last\",\"last\",\"last\",\"mean\",\"mean\",\"mean\",\"mean\",\"mean\",\"mean\",\"mean\",\"mean\",\"mean\",\"mean\",\"mean\",\"mean\",\"mean\",\"mean\",\"mean\",\"last\",\"last\",\"last\",\"last\",\"last\",\"last\",\"last\",\"last\",\"mean\",\"mean\",\"mean\",\"mean\",\"mean\",\"mean\",\"mean\",\"mean\",\"mean\",\"mean\"]},{\"label\":\"ENCODING_LAYER\",\"values\":[\"middle\",\"middle\",\"middle\",\"middle\",null,null,null,null,null,null,null,null,null,null,null,null,null,null,null,null,null,null,null,null,null,\"middle\",\"middle\",\"middle\",\"middle\",null,null,\"middle\",\"middle\",\"middle\",\"middle\",\"middle\",\"middle\",\"middle\",\"middle\",\"middle\",\"middle\",\"middle\",\"middle\",\"middle\",\"middle\",\"middle\",\"middle\",\"middle\",\"middle\",\"middle\",\"middle\",\"middle\",\"middle\",\"middle\",\"middle\",\"middle\",\"middle\",\"middle\",\"middle\",\"middle\",\"middle\",\"middle\",\"middle\",\"middle\",\"middle\",\"middle\",\"middle\",\"middle\",\"middle\",\"middle\",null,null,null,null,null,\"middle\"]},{\"label\":\"encoding_scheme\",\"values\":[\"concat_all_examples\",\"concat_all_examples\",\"concat_all_examples\",\"concat_all_examples\",\"concat_all_examples\",\"merge_all_segments\",\"segment_each_example\",\"merge_all_segments\",\"segment_each_example\",\"concat_all_examples\",\"concat_each_example\",\"concat_all_examples\",\"concat_all_examples\",\"concat_each_example\",\"segment_each_example\",\"concat_each_example\",\"concat_each_example\",\"segment_each_example\",\"merge_all_segments\",\"segment_each_example\",\"merge_all_segments\",\"concat_all_examples\",\"concat_all_examples\",\"concat_each_example\",\"segment_each_example\",\"concat_all_examples\",\"concat_all_examples\",\"concat_all_examples\",\"concat_all_examples\",\"concat_all_examples\",\"concat_all_examples\",\"segment_each_example\",\"segment_each_example\",\"concat_each_example\",\"concat_each_example\",\"concat_each_example\",\"concat_all_examples\",\"concat_all_examples\",\"concat_all_examples\",\"concat_each_example\",\"segment_each_example\",\"segment_each_example\",\"concat_all_examples\",\"segment_each_example\",\"concat_all_examples\",\"concat_each_example\",\"concat_all_examples\",\"segment_each_example\",\"concat_each_example\",\"segment_each_example\",\"concat_all_examples\",\"segment_each_example\",\"concat_all_examples\",\"concat_each_example\",\"concat_each_example\",\"concat_each_example\",\"concat_each_example\",\"segment_each_example\",\"concat_each_example\",\"concat_each_example\",\"segment_each_example\",\"concat_each_example\",\"concat_each_example\",\"segment_each_example\",\"segment_each_example\",\"segment_each_example\",\"segment_each_example\",\"segment_each_example\",\"concat_each_example\",\"concat_each_example\",\"concat_all_examples\",\"concat_all_examples\",\"concat_all_examples\",\"concat_all_examples\",\"segment_each_example\",\"segment_each_example\"]},{\"label\":\"hellaswag:acc\",\"values\":[0.29117705636327423,0.29117705636327423,0.29117705636327423,0.29117705636327423,0.2898824935271858,0.2898824935271858,0.2898824935271858,0.2898824935271858,0.2898824935271858,0.2898824935271858,0.2898824935271858,0.2898824935271858,0.2898824935271858,0.2898824935271858,0.2898824935271858,0.28510256920932087,0.28510256920932087,0.2822146982672774,0.2822146982672774,0.28211511651065524,0.28211511651065524,0.2729535949014141,0.2729535949014141,0.2726548496315475,0.2726548496315475,0.26488747261501694,0.26488747261501694,0.26488747261501694,0.26488747261501694,0.2645887273451504,0.2645887273451504,0.2635929097789285,0.2635929097789285,0.2635929097789285,0.2635929097789285,0.2635929097789285,0.2635929097789285,0.2635929097789285,0.2635929097789285,0.2635929097789285,0.2635929097789285,0.2635929097789285,0.2635929097789285,0.2531368253335989,0.2531368253335989,0.2531368253335989,0.2531368253335989,0.2531368253335989,0.2531368253335989,0.2531368253335989,0.2531368253335989,0.2531368253335989,0.2531368253335989,0.2531368253335989,0.2531368253335989,0.2509460266879108,0.2509460266879108,0.25054769966142204,0.2483569010157339,0.2483569010157339,0.24726150169288985,0.23959370643298147,0.23959370643298147,0.23869747062338179,0.23839872535351522,0.23780123481378213,0.23730332603067117,0.23660625373431587,0.23620792670782711,0.23620792670782711,0.23590918143796055,0.23590918143796055,0.23590918143796055,0.23590918143796055,0.23511252738498306,0.2326229834694284]}],\"hoveron\":\"color\",\"line\":{\"color\":[0.29117705636327423,0.29117705636327423,0.29117705636327423,0.29117705636327423,0.2898824935271858,0.2898824935271858,0.2898824935271858,0.2898824935271858,0.2898824935271858,0.2898824935271858,0.2898824935271858,0.2898824935271858,0.2898824935271858,0.2898824935271858,0.2898824935271858,0.28510256920932087,0.28510256920932087,0.2822146982672774,0.2822146982672774,0.28211511651065524,0.28211511651065524,0.2729535949014141,0.2729535949014141,0.2726548496315475,0.2726548496315475,0.26488747261501694,0.26488747261501694,0.26488747261501694,0.26488747261501694,0.2645887273451504,0.2645887273451504,0.2635929097789285,0.2635929097789285,0.2635929097789285,0.2635929097789285,0.2635929097789285,0.2635929097789285,0.2635929097789285,0.2635929097789285,0.2635929097789285,0.2635929097789285,0.2635929097789285,0.2635929097789285,0.2531368253335989,0.2531368253335989,0.2531368253335989,0.2531368253335989,0.2531368253335989,0.2531368253335989,0.2531368253335989,0.2531368253335989,0.2531368253335989,0.2531368253335989,0.2531368253335989,0.2531368253335989,0.2509460266879108,0.2509460266879108,0.25054769966142204,0.2483569010157339,0.2483569010157339,0.24726150169288985,0.23959370643298147,0.23959370643298147,0.23869747062338179,0.23839872535351522,0.23780123481378213,0.23730332603067117,0.23660625373431587,0.23620792670782711,0.23620792670782711,0.23590918143796055,0.23590918143796055,0.23590918143796055,0.23590918143796055,0.23511252738498306,0.2326229834694284],\"coloraxis\":\"coloraxis\"},\"type\":\"parcats\"}],                        {\"template\":{\"data\":{\"histogram2dcontour\":[{\"type\":\"histogram2dcontour\",\"colorbar\":{\"outlinewidth\":0,\"ticks\":\"\"},\"colorscale\":[[0.0,\"#0d0887\"],[0.1111111111111111,\"#46039f\"],[0.2222222222222222,\"#7201a8\"],[0.3333333333333333,\"#9c179e\"],[0.4444444444444444,\"#bd3786\"],[0.5555555555555556,\"#d8576b\"],[0.6666666666666666,\"#ed7953\"],[0.7777777777777778,\"#fb9f3a\"],[0.8888888888888888,\"#fdca26\"],[1.0,\"#f0f921\"]]}],\"choropleth\":[{\"type\":\"choropleth\",\"colorbar\":{\"outlinewidth\":0,\"ticks\":\"\"}}],\"histogram2d\":[{\"type\":\"histogram2d\",\"colorbar\":{\"outlinewidth\":0,\"ticks\":\"\"},\"colorscale\":[[0.0,\"#0d0887\"],[0.1111111111111111,\"#46039f\"],[0.2222222222222222,\"#7201a8\"],[0.3333333333333333,\"#9c179e\"],[0.4444444444444444,\"#bd3786\"],[0.5555555555555556,\"#d8576b\"],[0.6666666666666666,\"#ed7953\"],[0.7777777777777778,\"#fb9f3a\"],[0.8888888888888888,\"#fdca26\"],[1.0,\"#f0f921\"]]}],\"heatmap\":[{\"type\":\"heatmap\",\"colorbar\":{\"outlinewidth\":0,\"ticks\":\"\"},\"colorscale\":[[0.0,\"#0d0887\"],[0.1111111111111111,\"#46039f\"],[0.2222222222222222,\"#7201a8\"],[0.3333333333333333,\"#9c179e\"],[0.4444444444444444,\"#bd3786\"],[0.5555555555555556,\"#d8576b\"],[0.6666666666666666,\"#ed7953\"],[0.7777777777777778,\"#fb9f3a\"],[0.8888888888888888,\"#fdca26\"],[1.0,\"#f0f921\"]]}],\"heatmapgl\":[{\"type\":\"heatmapgl\",\"colorbar\":{\"outlinewidth\":0,\"ticks\":\"\"},\"colorscale\":[[0.0,\"#0d0887\"],[0.1111111111111111,\"#46039f\"],[0.2222222222222222,\"#7201a8\"],[0.3333333333333333,\"#9c179e\"],[0.4444444444444444,\"#bd3786\"],[0.5555555555555556,\"#d8576b\"],[0.6666666666666666,\"#ed7953\"],[0.7777777777777778,\"#fb9f3a\"],[0.8888888888888888,\"#fdca26\"],[1.0,\"#f0f921\"]]}],\"contourcarpet\":[{\"type\":\"contourcarpet\",\"colorbar\":{\"outlinewidth\":0,\"ticks\":\"\"}}],\"contour\":[{\"type\":\"contour\",\"colorbar\":{\"outlinewidth\":0,\"ticks\":\"\"},\"colorscale\":[[0.0,\"#0d0887\"],[0.1111111111111111,\"#46039f\"],[0.2222222222222222,\"#7201a8\"],[0.3333333333333333,\"#9c179e\"],[0.4444444444444444,\"#bd3786\"],[0.5555555555555556,\"#d8576b\"],[0.6666666666666666,\"#ed7953\"],[0.7777777777777778,\"#fb9f3a\"],[0.8888888888888888,\"#fdca26\"],[1.0,\"#f0f921\"]]}],\"surface\":[{\"type\":\"surface\",\"colorbar\":{\"outlinewidth\":0,\"ticks\":\"\"},\"colorscale\":[[0.0,\"#0d0887\"],[0.1111111111111111,\"#46039f\"],[0.2222222222222222,\"#7201a8\"],[0.3333333333333333,\"#9c179e\"],[0.4444444444444444,\"#bd3786\"],[0.5555555555555556,\"#d8576b\"],[0.6666666666666666,\"#ed7953\"],[0.7777777777777778,\"#fb9f3a\"],[0.8888888888888888,\"#fdca26\"],[1.0,\"#f0f921\"]]}],\"mesh3d\":[{\"type\":\"mesh3d\",\"colorbar\":{\"outlinewidth\":0,\"ticks\":\"\"}}],\"scatter\":[{\"fillpattern\":{\"fillmode\":\"overlay\",\"size\":10,\"solidity\":0.2},\"type\":\"scatter\"}],\"parcoords\":[{\"type\":\"parcoords\",\"line\":{\"colorbar\":{\"outlinewidth\":0,\"ticks\":\"\"}}}],\"scatterpolargl\":[{\"type\":\"scatterpolargl\",\"marker\":{\"colorbar\":{\"outlinewidth\":0,\"ticks\":\"\"}}}],\"bar\":[{\"error_x\":{\"color\":\"#2a3f5f\"},\"error_y\":{\"color\":\"#2a3f5f\"},\"marker\":{\"line\":{\"color\":\"#E5ECF6\",\"width\":0.5},\"pattern\":{\"fillmode\":\"overlay\",\"size\":10,\"solidity\":0.2}},\"type\":\"bar\"}],\"scattergeo\":[{\"type\":\"scattergeo\",\"marker\":{\"colorbar\":{\"outlinewidth\":0,\"ticks\":\"\"}}}],\"scatterpolar\":[{\"type\":\"scatterpolar\",\"marker\":{\"colorbar\":{\"outlinewidth\":0,\"ticks\":\"\"}}}],\"histogram\":[{\"marker\":{\"pattern\":{\"fillmode\":\"overlay\",\"size\":10,\"solidity\":0.2}},\"type\":\"histogram\"}],\"scattergl\":[{\"type\":\"scattergl\",\"marker\":{\"colorbar\":{\"outlinewidth\":0,\"ticks\":\"\"}}}],\"scatter3d\":[{\"type\":\"scatter3d\",\"line\":{\"colorbar\":{\"outlinewidth\":0,\"ticks\":\"\"}},\"marker\":{\"colorbar\":{\"outlinewidth\":0,\"ticks\":\"\"}}}],\"scattermapbox\":[{\"type\":\"scattermapbox\",\"marker\":{\"colorbar\":{\"outlinewidth\":0,\"ticks\":\"\"}}}],\"scatterternary\":[{\"type\":\"scatterternary\",\"marker\":{\"colorbar\":{\"outlinewidth\":0,\"ticks\":\"\"}}}],\"scattercarpet\":[{\"type\":\"scattercarpet\",\"marker\":{\"colorbar\":{\"outlinewidth\":0,\"ticks\":\"\"}}}],\"carpet\":[{\"aaxis\":{\"endlinecolor\":\"#2a3f5f\",\"gridcolor\":\"white\",\"linecolor\":\"white\",\"minorgridcolor\":\"white\",\"startlinecolor\":\"#2a3f5f\"},\"baxis\":{\"endlinecolor\":\"#2a3f5f\",\"gridcolor\":\"white\",\"linecolor\":\"white\",\"minorgridcolor\":\"white\",\"startlinecolor\":\"#2a3f5f\"},\"type\":\"carpet\"}],\"table\":[{\"cells\":{\"fill\":{\"color\":\"#EBF0F8\"},\"line\":{\"color\":\"white\"}},\"header\":{\"fill\":{\"color\":\"#C8D4E3\"},\"line\":{\"color\":\"white\"}},\"type\":\"table\"}],\"barpolar\":[{\"marker\":{\"line\":{\"color\":\"#E5ECF6\",\"width\":0.5},\"pattern\":{\"fillmode\":\"overlay\",\"size\":10,\"solidity\":0.2}},\"type\":\"barpolar\"}],\"pie\":[{\"automargin\":true,\"type\":\"pie\"}]},\"layout\":{\"autotypenumbers\":\"strict\",\"colorway\":[\"#636efa\",\"#EF553B\",\"#00cc96\",\"#ab63fa\",\"#FFA15A\",\"#19d3f3\",\"#FF6692\",\"#B6E880\",\"#FF97FF\",\"#FECB52\"],\"font\":{\"color\":\"#2a3f5f\"},\"hovermode\":\"closest\",\"hoverlabel\":{\"align\":\"left\"},\"paper_bgcolor\":\"white\",\"plot_bgcolor\":\"#E5ECF6\",\"polar\":{\"bgcolor\":\"#E5ECF6\",\"angularaxis\":{\"gridcolor\":\"white\",\"linecolor\":\"white\",\"ticks\":\"\"},\"radialaxis\":{\"gridcolor\":\"white\",\"linecolor\":\"white\",\"ticks\":\"\"}},\"ternary\":{\"bgcolor\":\"#E5ECF6\",\"aaxis\":{\"gridcolor\":\"white\",\"linecolor\":\"white\",\"ticks\":\"\"},\"baxis\":{\"gridcolor\":\"white\",\"linecolor\":\"white\",\"ticks\":\"\"},\"caxis\":{\"gridcolor\":\"white\",\"linecolor\":\"white\",\"ticks\":\"\"}},\"coloraxis\":{\"colorbar\":{\"outlinewidth\":0,\"ticks\":\"\"}},\"colorscale\":{\"sequential\":[[0.0,\"#0d0887\"],[0.1111111111111111,\"#46039f\"],[0.2222222222222222,\"#7201a8\"],[0.3333333333333333,\"#9c179e\"],[0.4444444444444444,\"#bd3786\"],[0.5555555555555556,\"#d8576b\"],[0.6666666666666666,\"#ed7953\"],[0.7777777777777778,\"#fb9f3a\"],[0.8888888888888888,\"#fdca26\"],[1.0,\"#f0f921\"]],\"sequentialminus\":[[0.0,\"#0d0887\"],[0.1111111111111111,\"#46039f\"],[0.2222222222222222,\"#7201a8\"],[0.3333333333333333,\"#9c179e\"],[0.4444444444444444,\"#bd3786\"],[0.5555555555555556,\"#d8576b\"],[0.6666666666666666,\"#ed7953\"],[0.7777777777777778,\"#fb9f3a\"],[0.8888888888888888,\"#fdca26\"],[1.0,\"#f0f921\"]],\"diverging\":[[0,\"#8e0152\"],[0.1,\"#c51b7d\"],[0.2,\"#de77ae\"],[0.3,\"#f1b6da\"],[0.4,\"#fde0ef\"],[0.5,\"#f7f7f7\"],[0.6,\"#e6f5d0\"],[0.7,\"#b8e186\"],[0.8,\"#7fbc41\"],[0.9,\"#4d9221\"],[1,\"#276419\"]]},\"xaxis\":{\"gridcolor\":\"white\",\"linecolor\":\"white\",\"ticks\":\"\",\"title\":{\"standoff\":15},\"zerolinecolor\":\"white\",\"automargin\":true,\"zerolinewidth\":2},\"yaxis\":{\"gridcolor\":\"white\",\"linecolor\":\"white\",\"ticks\":\"\",\"title\":{\"standoff\":15},\"zerolinecolor\":\"white\",\"automargin\":true,\"zerolinewidth\":2},\"scene\":{\"xaxis\":{\"backgroundcolor\":\"#E5ECF6\",\"gridcolor\":\"white\",\"linecolor\":\"white\",\"showbackground\":true,\"ticks\":\"\",\"zerolinecolor\":\"white\",\"gridwidth\":2},\"yaxis\":{\"backgroundcolor\":\"#E5ECF6\",\"gridcolor\":\"white\",\"linecolor\":\"white\",\"showbackground\":true,\"ticks\":\"\",\"zerolinecolor\":\"white\",\"gridwidth\":2},\"zaxis\":{\"backgroundcolor\":\"#E5ECF6\",\"gridcolor\":\"white\",\"linecolor\":\"white\",\"showbackground\":true,\"ticks\":\"\",\"zerolinecolor\":\"white\",\"gridwidth\":2}},\"shapedefaults\":{\"line\":{\"color\":\"#2a3f5f\"}},\"annotationdefaults\":{\"arrowcolor\":\"#2a3f5f\",\"arrowhead\":0,\"arrowwidth\":1},\"geo\":{\"bgcolor\":\"white\",\"landcolor\":\"#E5ECF6\",\"subunitcolor\":\"white\",\"showland\":true,\"showlakes\":true,\"lakecolor\":\"white\"},\"title\":{\"x\":0.05},\"mapbox\":{\"style\":\"light\"}}},\"coloraxis\":{\"colorbar\":{\"lenmode\":\"fraction\",\"len\":1.0,\"yanchor\":\"top\",\"y\":1.0},\"colorscale\":[[0.0,\"#00224e\"],[0.1111111111111111,\"#123570\"],[0.2222222222222222,\"#3b496c\"],[0.3333333333333333,\"#575d6d\"],[0.4444444444444444,\"#707173\"],[0.5555555555555556,\"#8a8678\"],[0.6666666666666666,\"#a59c74\"],[0.7777777777777778,\"#c3b369\"],[0.8888888888888888,\"#e1cc55\"],[1.0,\"#fee838\"]],\"showscale\":true},\"height\":1500},                        {\"responsive\": true}                    ).then(function(){\n",
       "                            \n",
       "var gd = document.getElementById('a84ecd5f-551f-4084-a113-a4f9fec51958');\n",
       "var x = new MutationObserver(function (mutations, observer) {{\n",
       "        var display = window.getComputedStyle(gd).display;\n",
       "        if (!display || display === 'none') {{\n",
       "            console.log([gd, 'removed!']);\n",
       "            Plotly.purge(gd);\n",
       "            observer.disconnect();\n",
       "        }}\n",
       "}});\n",
       "\n",
       "// Listen for the removal of the full notebook cells\n",
       "var notebookContainer = gd.closest('#notebook-container');\n",
       "if (notebookContainer) {{\n",
       "    x.observe(notebookContainer, {childList: true});\n",
       "}}\n",
       "\n",
       "// Listen for the clearing of the current output cell\n",
       "var outputEl = gd.closest('.output');\n",
       "if (outputEl) {{\n",
       "    x.observe(outputEl, {childList: true});\n",
       "}}\n",
       "\n",
       "                        })                };                });            </script>        </div>"
      ]
     },
     "metadata": {},
     "output_type": "display_data"
    }
   ],
   "source": [
    "fig_parcats(df_hellaswag_sim1, 'hellaswag:acc', ['hellaswag:acc_stderr', 'mtime', 'filename', 'date'], height=1500)"
   ]
  },
  {
   "cell_type": "code",
   "execution_count": 5,
   "metadata": {},
   "outputs": [
    {
     "data": {
      "text/html": [
       "<div>\n",
       "<style scoped>\n",
       "    .dataframe tbody tr th:only-of-type {\n",
       "        vertical-align: middle;\n",
       "    }\n",
       "\n",
       "    .dataframe tbody tr th {\n",
       "        vertical-align: top;\n",
       "    }\n",
       "\n",
       "    .dataframe thead th {\n",
       "        text-align: right;\n",
       "    }\n",
       "</style>\n",
       "<table border=\"1\" class=\"dataframe\">\n",
       "  <thead>\n",
       "    <tr style=\"text-align: right;\">\n",
       "      <th></th>\n",
       "      <th>filename</th>\n",
       "      <th>num_fewshot</th>\n",
       "      <th>pretrained</th>\n",
       "      <th>SEGMENT_AGG_SCHEME</th>\n",
       "      <th>hellaswag:acc_stderr</th>\n",
       "      <th>NORM</th>\n",
       "      <th>EXAMPLE_AGG_SCHEME</th>\n",
       "      <th>SIMILARITY_FUNC</th>\n",
       "      <th>WORD_AGG_SCHEME</th>\n",
       "      <th>model_type</th>\n",
       "      <th>hellaswag:acc</th>\n",
       "      <th>ENCODING_LAYER</th>\n",
       "      <th>mtime</th>\n",
       "      <th>encoding_scheme</th>\n",
       "      <th>date</th>\n",
       "    </tr>\n",
       "  </thead>\n",
       "  <tbody>\n",
       "    <tr>\n",
       "      <th>56</th>\n",
       "      <td>b89708c3804ffe013c2c82685f2c6927ca4840f2.json</td>\n",
       "      <td>5</td>\n",
       "      <td>EleutherAI/gpt-neo-1.3B</td>\n",
       "      <td>None</td>\n",
       "      <td>0.004534</td>\n",
       "      <td>layer</td>\n",
       "      <td>None</td>\n",
       "      <td>dot_product</td>\n",
       "      <td>mean</td>\n",
       "      <td>dist_sim</td>\n",
       "      <td>0.291177</td>\n",
       "      <td>middle</td>\n",
       "      <td>1.670967e+09</td>\n",
       "      <td>concat_all_examples</td>\n",
       "      <td>2022-12-13 13:22:00.695954688-08:00</td>\n",
       "    </tr>\n",
       "    <tr>\n",
       "      <th>26</th>\n",
       "      <td>1ce5fc21b3d0668d2e067d317391e11c20a84c47.json</td>\n",
       "      <td>5</td>\n",
       "      <td>EleutherAI/gpt-neo-1.3B</td>\n",
       "      <td>None</td>\n",
       "      <td>0.004534</td>\n",
       "      <td>layer</td>\n",
       "      <td>soft_cluster</td>\n",
       "      <td>dot_product</td>\n",
       "      <td>mean</td>\n",
       "      <td>dist_sim</td>\n",
       "      <td>0.291177</td>\n",
       "      <td>middle</td>\n",
       "      <td>1.670967e+09</td>\n",
       "      <td>concat_all_examples</td>\n",
       "      <td>2022-12-13 13:22:28.839707648-08:00</td>\n",
       "    </tr>\n",
       "    <tr>\n",
       "      <th>25</th>\n",
       "      <td>e9dd4d906aa3c5d6e83ed55450cf364768d5ca4b.json</td>\n",
       "      <td>5</td>\n",
       "      <td>EleutherAI/gpt-neo-1.3B</td>\n",
       "      <td>mean</td>\n",
       "      <td>0.004534</td>\n",
       "      <td>layer</td>\n",
       "      <td>soft_cluster</td>\n",
       "      <td>dot_product</td>\n",
       "      <td>mean</td>\n",
       "      <td>dist_sim</td>\n",
       "      <td>0.291177</td>\n",
       "      <td>middle</td>\n",
       "      <td>1.670967e+09</td>\n",
       "      <td>concat_all_examples</td>\n",
       "      <td>2022-12-13 13:23:16.643286528-08:00</td>\n",
       "    </tr>\n",
       "    <tr>\n",
       "      <th>24</th>\n",
       "      <td>ed318001f2e6e8c658aee3df51dfbcba45fef2bc.json</td>\n",
       "      <td>5</td>\n",
       "      <td>EleutherAI/gpt-neo-1.3B</td>\n",
       "      <td>mean</td>\n",
       "      <td>0.004534</td>\n",
       "      <td>layer</td>\n",
       "      <td>None</td>\n",
       "      <td>dot_product</td>\n",
       "      <td>mean</td>\n",
       "      <td>dist_sim</td>\n",
       "      <td>0.291177</td>\n",
       "      <td>middle</td>\n",
       "      <td>1.670967e+09</td>\n",
       "      <td>concat_all_examples</td>\n",
       "      <td>2022-12-13 13:23:00.119432192-08:00</td>\n",
       "    </tr>\n",
       "  </tbody>\n",
       "</table>\n",
       "</div>"
      ],
      "text/plain": [
       "                                         filename  num_fewshot  \\\n",
       "56  b89708c3804ffe013c2c82685f2c6927ca4840f2.json            5   \n",
       "26  1ce5fc21b3d0668d2e067d317391e11c20a84c47.json            5   \n",
       "25  e9dd4d906aa3c5d6e83ed55450cf364768d5ca4b.json            5   \n",
       "24  ed318001f2e6e8c658aee3df51dfbcba45fef2bc.json            5   \n",
       "\n",
       "                 pretrained SEGMENT_AGG_SCHEME  hellaswag:acc_stderr   NORM  \\\n",
       "56  EleutherAI/gpt-neo-1.3B               None              0.004534  layer   \n",
       "26  EleutherAI/gpt-neo-1.3B               None              0.004534  layer   \n",
       "25  EleutherAI/gpt-neo-1.3B               mean              0.004534  layer   \n",
       "24  EleutherAI/gpt-neo-1.3B               mean              0.004534  layer   \n",
       "\n",
       "   EXAMPLE_AGG_SCHEME SIMILARITY_FUNC WORD_AGG_SCHEME model_type  \\\n",
       "56               None     dot_product            mean   dist_sim   \n",
       "26       soft_cluster     dot_product            mean   dist_sim   \n",
       "25       soft_cluster     dot_product            mean   dist_sim   \n",
       "24               None     dot_product            mean   dist_sim   \n",
       "\n",
       "    hellaswag:acc ENCODING_LAYER         mtime      encoding_scheme  \\\n",
       "56       0.291177         middle  1.670967e+09  concat_all_examples   \n",
       "26       0.291177         middle  1.670967e+09  concat_all_examples   \n",
       "25       0.291177         middle  1.670967e+09  concat_all_examples   \n",
       "24       0.291177         middle  1.670967e+09  concat_all_examples   \n",
       "\n",
       "                                  date  \n",
       "56 2022-12-13 13:22:00.695954688-08:00  \n",
       "26 2022-12-13 13:22:28.839707648-08:00  \n",
       "25 2022-12-13 13:23:16.643286528-08:00  \n",
       "24 2022-12-13 13:23:00.119432192-08:00  "
      ]
     },
     "execution_count": 5,
     "metadata": {},
     "output_type": "execute_result"
    }
   ],
   "source": [
    "df_hellaswag_sim1[(df_hellaswag_sim1.encoding_scheme == 'concat_all_examples') & df_hellaswag_sim1.EXAMPLE_AGG_SCHEME.isna() & df_hellaswag_sim1.SEGMENT_AGG_SCHEME.isna() & (df_hellaswag_sim1.num_fewshot == 5)][\n",
    "    ['filename', 'num_fewshot', 'encoding_scheme', 'ENCODING_LAYER', 'NORM', 'WORD_AGG_SCHEME', 'SEGMENT_AGG_SCHEME', 'EXAMPLE_AGG_SCHEME', 'hellaswag:acc', 'date']\n",
    "]\n",
    "df_hellaswag_sim1[df_hellaswag_sim1['hellaswag:acc'] > 0.29]"
   ]
  },
  {
   "cell_type": "code",
   "execution_count": 13,
   "metadata": {},
   "outputs": [
    {
     "name": "stdout",
     "output_type": "stream",
     "text": [
      "metric cols regexp = re.compile('^((hellaswag:acc)).*')\n",
      "Following columns will be dropped: {'hellaswag:rand_acc_stderr', 'limit', 'hellaswag:rand_acc'}\n"
     ]
    },
    {
     "data": {
      "text/html": [
       "<div>\n",
       "<style scoped>\n",
       "    .dataframe tbody tr th:only-of-type {\n",
       "        vertical-align: middle;\n",
       "    }\n",
       "\n",
       "    .dataframe tbody tr th {\n",
       "        vertical-align: top;\n",
       "    }\n",
       "\n",
       "    .dataframe thead th {\n",
       "        text-align: right;\n",
       "    }\n",
       "</style>\n",
       "<table border=\"1\" class=\"dataframe\">\n",
       "  <thead>\n",
       "    <tr style=\"text-align: right;\">\n",
       "      <th></th>\n",
       "      <th>filename</th>\n",
       "      <th>num_fewshot</th>\n",
       "      <th>pretrained</th>\n",
       "      <th>SEGMENT_AGG_SCHEME</th>\n",
       "      <th>hellaswag:acc_stderr</th>\n",
       "      <th>NORM</th>\n",
       "      <th>EXAMPLE_AGG_SCHEME</th>\n",
       "      <th>SIMILARITY_FUNC</th>\n",
       "      <th>WORD_AGG_SCHEME</th>\n",
       "      <th>model_type</th>\n",
       "      <th>hellaswag:acc</th>\n",
       "      <th>ENCODING_LAYER</th>\n",
       "      <th>mtime</th>\n",
       "      <th>encoding_scheme</th>\n",
       "      <th>date</th>\n",
       "    </tr>\n",
       "  </thead>\n",
       "  <tbody>\n",
       "    <tr>\n",
       "      <th>1</th>\n",
       "      <td>3893962f5595e2545fa4df91fb2417ce8063904f.json</td>\n",
       "      <td>5</td>\n",
       "      <td>EleutherAI/gpt-neo-1.3B</td>\n",
       "      <td>None</td>\n",
       "      <td>0.004283</td>\n",
       "      <td>layer</td>\n",
       "      <td>mean</td>\n",
       "      <td>dot_product</td>\n",
       "      <td>mean</td>\n",
       "      <td>dist_sim</td>\n",
       "      <td>0.243477</td>\n",
       "      <td>middle</td>\n",
       "      <td>1.671768e+09</td>\n",
       "      <td>concat_all_examples</td>\n",
       "      <td>2022-12-22 19:57:22.583271680-08:00</td>\n",
       "    </tr>\n",
       "    <tr>\n",
       "      <th>3</th>\n",
       "      <td>1ce5fc21b3d0668d2e067d317391e11c20a84c47.json</td>\n",
       "      <td>5</td>\n",
       "      <td>EleutherAI/gpt-neo-1.3B</td>\n",
       "      <td>None</td>\n",
       "      <td>0.004301</td>\n",
       "      <td>layer</td>\n",
       "      <td>soft_cluster</td>\n",
       "      <td>dot_product</td>\n",
       "      <td>mean</td>\n",
       "      <td>dist_sim</td>\n",
       "      <td>0.246564</td>\n",
       "      <td>middle</td>\n",
       "      <td>1.671768e+09</td>\n",
       "      <td>concat_all_examples</td>\n",
       "      <td>2022-12-22 19:57:22.583271680-08:00</td>\n",
       "    </tr>\n",
       "    <tr>\n",
       "      <th>5</th>\n",
       "      <td>b89708c3804ffe013c2c82685f2c6927ca4840f2.json</td>\n",
       "      <td>5</td>\n",
       "      <td>EleutherAI/gpt-neo-1.3B</td>\n",
       "      <td>None</td>\n",
       "      <td>0.004300</td>\n",
       "      <td>layer</td>\n",
       "      <td>None</td>\n",
       "      <td>dot_product</td>\n",
       "      <td>mean</td>\n",
       "      <td>dist_sim</td>\n",
       "      <td>0.246266</td>\n",
       "      <td>middle</td>\n",
       "      <td>1.671768e+09</td>\n",
       "      <td>concat_all_examples</td>\n",
       "      <td>2022-12-22 19:57:22.583271680-08:00</td>\n",
       "    </tr>\n",
       "    <tr>\n",
       "      <th>0</th>\n",
       "      <td>cdaeca9d26610cff81f76e5c9e2aa0336f1c5ec1.json</td>\n",
       "      <td>5</td>\n",
       "      <td>EleutherAI/gpt-neo-1.3B</td>\n",
       "      <td>None</td>\n",
       "      <td>0.004326</td>\n",
       "      <td>layer</td>\n",
       "      <td>mean</td>\n",
       "      <td>dot_product</td>\n",
       "      <td>mean</td>\n",
       "      <td>dist_sim</td>\n",
       "      <td>0.250846</td>\n",
       "      <td>None</td>\n",
       "      <td>1.671768e+09</td>\n",
       "      <td>concat_all_examples</td>\n",
       "      <td>2022-12-22 19:57:22.583271680-08:00</td>\n",
       "    </tr>\n",
       "    <tr>\n",
       "      <th>2</th>\n",
       "      <td>9932af64541da885f3ae3ba414db150712263110.json</td>\n",
       "      <td>5</td>\n",
       "      <td>EleutherAI/gpt-neo-1.3B</td>\n",
       "      <td>None</td>\n",
       "      <td>0.004292</td>\n",
       "      <td>layer</td>\n",
       "      <td>soft_cluster</td>\n",
       "      <td>dot_product</td>\n",
       "      <td>mean</td>\n",
       "      <td>dist_sim</td>\n",
       "      <td>0.244971</td>\n",
       "      <td>None</td>\n",
       "      <td>1.671768e+09</td>\n",
       "      <td>concat_all_examples</td>\n",
       "      <td>2022-12-22 19:57:22.583271680-08:00</td>\n",
       "    </tr>\n",
       "    <tr>\n",
       "      <th>4</th>\n",
       "      <td>f2259eb8f10e46c9d862ad5d016bea94c044d402.json</td>\n",
       "      <td>5</td>\n",
       "      <td>EleutherAI/gpt-neo-1.3B</td>\n",
       "      <td>None</td>\n",
       "      <td>0.004304</td>\n",
       "      <td>layer</td>\n",
       "      <td>None</td>\n",
       "      <td>dot_product</td>\n",
       "      <td>mean</td>\n",
       "      <td>dist_sim</td>\n",
       "      <td>0.247062</td>\n",
       "      <td>None</td>\n",
       "      <td>1.671768e+09</td>\n",
       "      <td>concat_all_examples</td>\n",
       "      <td>2022-12-22 19:57:22.583271680-08:00</td>\n",
       "    </tr>\n",
       "  </tbody>\n",
       "</table>\n",
       "</div>"
      ],
      "text/plain": [
       "                                        filename  num_fewshot  \\\n",
       "1  3893962f5595e2545fa4df91fb2417ce8063904f.json            5   \n",
       "3  1ce5fc21b3d0668d2e067d317391e11c20a84c47.json            5   \n",
       "5  b89708c3804ffe013c2c82685f2c6927ca4840f2.json            5   \n",
       "0  cdaeca9d26610cff81f76e5c9e2aa0336f1c5ec1.json            5   \n",
       "2  9932af64541da885f3ae3ba414db150712263110.json            5   \n",
       "4  f2259eb8f10e46c9d862ad5d016bea94c044d402.json            5   \n",
       "\n",
       "                pretrained SEGMENT_AGG_SCHEME  hellaswag:acc_stderr   NORM  \\\n",
       "1  EleutherAI/gpt-neo-1.3B               None              0.004283  layer   \n",
       "3  EleutherAI/gpt-neo-1.3B               None              0.004301  layer   \n",
       "5  EleutherAI/gpt-neo-1.3B               None              0.004300  layer   \n",
       "0  EleutherAI/gpt-neo-1.3B               None              0.004326  layer   \n",
       "2  EleutherAI/gpt-neo-1.3B               None              0.004292  layer   \n",
       "4  EleutherAI/gpt-neo-1.3B               None              0.004304  layer   \n",
       "\n",
       "  EXAMPLE_AGG_SCHEME SIMILARITY_FUNC WORD_AGG_SCHEME model_type  \\\n",
       "1               mean     dot_product            mean   dist_sim   \n",
       "3       soft_cluster     dot_product            mean   dist_sim   \n",
       "5               None     dot_product            mean   dist_sim   \n",
       "0               mean     dot_product            mean   dist_sim   \n",
       "2       soft_cluster     dot_product            mean   dist_sim   \n",
       "4               None     dot_product            mean   dist_sim   \n",
       "\n",
       "   hellaswag:acc ENCODING_LAYER         mtime      encoding_scheme  \\\n",
       "1       0.243477         middle  1.671768e+09  concat_all_examples   \n",
       "3       0.246564         middle  1.671768e+09  concat_all_examples   \n",
       "5       0.246266         middle  1.671768e+09  concat_all_examples   \n",
       "0       0.250846           None  1.671768e+09  concat_all_examples   \n",
       "2       0.244971           None  1.671768e+09  concat_all_examples   \n",
       "4       0.247062           None  1.671768e+09  concat_all_examples   \n",
       "\n",
       "                                 date  \n",
       "1 2022-12-22 19:57:22.583271680-08:00  \n",
       "3 2022-12-22 19:57:22.583271680-08:00  \n",
       "5 2022-12-22 19:57:22.583271680-08:00  \n",
       "0 2022-12-22 19:57:22.583271680-08:00  \n",
       "2 2022-12-22 19:57:22.583271680-08:00  \n",
       "4 2022-12-22 19:57:22.583271680-08:00  "
      ]
     },
     "execution_count": 13,
     "metadata": {},
     "output_type": "execute_result"
    }
   ],
   "source": [
    "all_df_sim3 = read_results(dir = '../lmeval_results_sim4')\n",
    "df_hellaswag_sim3 = task_metrics(all_df_sim3, ['hellaswag:acc'], sort_metrics=['hellaswag:acc'])\n",
    "# fig_parcats(df_hellaswag_sim3, 'hellaswag:acc', ['hellaswag:acc_norm_stderr', 'hellaswag:acc_stderr'], height=1500)\n",
    "df_hellaswag_sim3[(df_hellaswag_sim3.encoding_scheme == 'concat_all_examples') & df_hellaswag_sim3.EXAMPLE_AGG_SCHEME.isna() & (df_hellaswag_sim3.num_fewshot == 5) & (df_hellaswag_sim3.ENCODING_LAYER == 'middle')]\n",
    "df_hellaswag_sim3.sort_values(by=['num_fewshot', 'ENCODING_LAYER', 'EXAMPLE_AGG_SCHEME'])"
   ]
  },
  {
   "cell_type": "code",
   "execution_count": 12,
   "metadata": {},
   "outputs": [
    {
     "name": "stdout",
     "output_type": "stream",
     "text": [
      "metric cols regexp = re.compile('^((hellaswag:acc)).*')\n",
      "Following columns will be dropped: {'hellaswag:rand_acc_stderr', 'limit', 'hellaswag:rand_acc'}\n"
     ]
    },
    {
     "data": {
      "text/html": [
       "<div>\n",
       "<style scoped>\n",
       "    .dataframe tbody tr th:only-of-type {\n",
       "        vertical-align: middle;\n",
       "    }\n",
       "\n",
       "    .dataframe tbody tr th {\n",
       "        vertical-align: top;\n",
       "    }\n",
       "\n",
       "    .dataframe thead th {\n",
       "        text-align: right;\n",
       "    }\n",
       "</style>\n",
       "<table border=\"1\" class=\"dataframe\">\n",
       "  <thead>\n",
       "    <tr style=\"text-align: right;\">\n",
       "      <th></th>\n",
       "      <th>filename</th>\n",
       "      <th>num_fewshot</th>\n",
       "      <th>pretrained</th>\n",
       "      <th>SEGMENT_AGG_SCHEME</th>\n",
       "      <th>hellaswag:acc_stderr</th>\n",
       "      <th>NORM</th>\n",
       "      <th>EXAMPLE_AGG_SCHEME</th>\n",
       "      <th>SIMILARITY_FUNC</th>\n",
       "      <th>WORD_AGG_SCHEME</th>\n",
       "      <th>model_type</th>\n",
       "      <th>hellaswag:acc</th>\n",
       "      <th>ENCODING_LAYER</th>\n",
       "      <th>mtime</th>\n",
       "      <th>encoding_scheme</th>\n",
       "      <th>date</th>\n",
       "    </tr>\n",
       "  </thead>\n",
       "  <tbody>\n",
       "    <tr>\n",
       "      <th>1</th>\n",
       "      <td>3893962f5595e2545fa4df91fb2417ce8063904f.json</td>\n",
       "      <td>5</td>\n",
       "      <td>EleutherAI/gpt-neo-1.3B</td>\n",
       "      <td>None</td>\n",
       "      <td>0.004289</td>\n",
       "      <td>layer</td>\n",
       "      <td>mean</td>\n",
       "      <td>dot_product</td>\n",
       "      <td>mean</td>\n",
       "      <td>dist_sim</td>\n",
       "      <td>0.244473</td>\n",
       "      <td>middle</td>\n",
       "      <td>1.671755e+09</td>\n",
       "      <td>concat_all_examples</td>\n",
       "      <td>2022-12-22 16:27:00.821106944-08:00</td>\n",
       "    </tr>\n",
       "    <tr>\n",
       "      <th>3</th>\n",
       "      <td>1ce5fc21b3d0668d2e067d317391e11c20a84c47.json</td>\n",
       "      <td>5</td>\n",
       "      <td>EleutherAI/gpt-neo-1.3B</td>\n",
       "      <td>None</td>\n",
       "      <td>0.004295</td>\n",
       "      <td>layer</td>\n",
       "      <td>soft_cluster</td>\n",
       "      <td>dot_product</td>\n",
       "      <td>mean</td>\n",
       "      <td>dist_sim</td>\n",
       "      <td>0.245569</td>\n",
       "      <td>middle</td>\n",
       "      <td>1.671755e+09</td>\n",
       "      <td>concat_all_examples</td>\n",
       "      <td>2022-12-22 16:27:00.821106944-08:00</td>\n",
       "    </tr>\n",
       "    <tr>\n",
       "      <th>5</th>\n",
       "      <td>b89708c3804ffe013c2c82685f2c6927ca4840f2.json</td>\n",
       "      <td>5</td>\n",
       "      <td>EleutherAI/gpt-neo-1.3B</td>\n",
       "      <td>None</td>\n",
       "      <td>0.004312</td>\n",
       "      <td>layer</td>\n",
       "      <td>None</td>\n",
       "      <td>dot_product</td>\n",
       "      <td>mean</td>\n",
       "      <td>dist_sim</td>\n",
       "      <td>0.248357</td>\n",
       "      <td>middle</td>\n",
       "      <td>1.671755e+09</td>\n",
       "      <td>concat_all_examples</td>\n",
       "      <td>2022-12-22 16:27:00.821106944-08:00</td>\n",
       "    </tr>\n",
       "    <tr>\n",
       "      <th>0</th>\n",
       "      <td>cdaeca9d26610cff81f76e5c9e2aa0336f1c5ec1.json</td>\n",
       "      <td>5</td>\n",
       "      <td>EleutherAI/gpt-neo-1.3B</td>\n",
       "      <td>None</td>\n",
       "      <td>0.004323</td>\n",
       "      <td>layer</td>\n",
       "      <td>mean</td>\n",
       "      <td>dot_product</td>\n",
       "      <td>mean</td>\n",
       "      <td>dist_sim</td>\n",
       "      <td>0.250249</td>\n",
       "      <td>None</td>\n",
       "      <td>1.671755e+09</td>\n",
       "      <td>concat_all_examples</td>\n",
       "      <td>2022-12-22 16:27:00.821106944-08:00</td>\n",
       "    </tr>\n",
       "    <tr>\n",
       "      <th>2</th>\n",
       "      <td>9932af64541da885f3ae3ba414db150712263110.json</td>\n",
       "      <td>5</td>\n",
       "      <td>EleutherAI/gpt-neo-1.3B</td>\n",
       "      <td>None</td>\n",
       "      <td>0.004303</td>\n",
       "      <td>layer</td>\n",
       "      <td>soft_cluster</td>\n",
       "      <td>dot_product</td>\n",
       "      <td>mean</td>\n",
       "      <td>dist_sim</td>\n",
       "      <td>0.246863</td>\n",
       "      <td>None</td>\n",
       "      <td>1.671755e+09</td>\n",
       "      <td>concat_all_examples</td>\n",
       "      <td>2022-12-22 16:27:00.821106944-08:00</td>\n",
       "    </tr>\n",
       "    <tr>\n",
       "      <th>4</th>\n",
       "      <td>f2259eb8f10e46c9d862ad5d016bea94c044d402.json</td>\n",
       "      <td>5</td>\n",
       "      <td>EleutherAI/gpt-neo-1.3B</td>\n",
       "      <td>None</td>\n",
       "      <td>0.004322</td>\n",
       "      <td>layer</td>\n",
       "      <td>None</td>\n",
       "      <td>dot_product</td>\n",
       "      <td>mean</td>\n",
       "      <td>dist_sim</td>\n",
       "      <td>0.250149</td>\n",
       "      <td>None</td>\n",
       "      <td>1.671755e+09</td>\n",
       "      <td>concat_all_examples</td>\n",
       "      <td>2022-12-22 16:27:00.821106944-08:00</td>\n",
       "    </tr>\n",
       "  </tbody>\n",
       "</table>\n",
       "</div>"
      ],
      "text/plain": [
       "                                        filename  num_fewshot  \\\n",
       "1  3893962f5595e2545fa4df91fb2417ce8063904f.json            5   \n",
       "3  1ce5fc21b3d0668d2e067d317391e11c20a84c47.json            5   \n",
       "5  b89708c3804ffe013c2c82685f2c6927ca4840f2.json            5   \n",
       "0  cdaeca9d26610cff81f76e5c9e2aa0336f1c5ec1.json            5   \n",
       "2  9932af64541da885f3ae3ba414db150712263110.json            5   \n",
       "4  f2259eb8f10e46c9d862ad5d016bea94c044d402.json            5   \n",
       "\n",
       "                pretrained SEGMENT_AGG_SCHEME  hellaswag:acc_stderr   NORM  \\\n",
       "1  EleutherAI/gpt-neo-1.3B               None              0.004289  layer   \n",
       "3  EleutherAI/gpt-neo-1.3B               None              0.004295  layer   \n",
       "5  EleutherAI/gpt-neo-1.3B               None              0.004312  layer   \n",
       "0  EleutherAI/gpt-neo-1.3B               None              0.004323  layer   \n",
       "2  EleutherAI/gpt-neo-1.3B               None              0.004303  layer   \n",
       "4  EleutherAI/gpt-neo-1.3B               None              0.004322  layer   \n",
       "\n",
       "  EXAMPLE_AGG_SCHEME SIMILARITY_FUNC WORD_AGG_SCHEME model_type  \\\n",
       "1               mean     dot_product            mean   dist_sim   \n",
       "3       soft_cluster     dot_product            mean   dist_sim   \n",
       "5               None     dot_product            mean   dist_sim   \n",
       "0               mean     dot_product            mean   dist_sim   \n",
       "2       soft_cluster     dot_product            mean   dist_sim   \n",
       "4               None     dot_product            mean   dist_sim   \n",
       "\n",
       "   hellaswag:acc ENCODING_LAYER         mtime      encoding_scheme  \\\n",
       "1       0.244473         middle  1.671755e+09  concat_all_examples   \n",
       "3       0.245569         middle  1.671755e+09  concat_all_examples   \n",
       "5       0.248357         middle  1.671755e+09  concat_all_examples   \n",
       "0       0.250249           None  1.671755e+09  concat_all_examples   \n",
       "2       0.246863           None  1.671755e+09  concat_all_examples   \n",
       "4       0.250149           None  1.671755e+09  concat_all_examples   \n",
       "\n",
       "                                 date  \n",
       "1 2022-12-22 16:27:00.821106944-08:00  \n",
       "3 2022-12-22 16:27:00.821106944-08:00  \n",
       "5 2022-12-22 16:27:00.821106944-08:00  \n",
       "0 2022-12-22 16:27:00.821106944-08:00  \n",
       "2 2022-12-22 16:27:00.821106944-08:00  \n",
       "4 2022-12-22 16:27:00.821106944-08:00  "
      ]
     },
     "execution_count": 12,
     "metadata": {},
     "output_type": "execute_result"
    }
   ],
   "source": [
    "all_df_sim3 = read_results(dir = '../lmeval_results_sim3')\n",
    "df_hellaswag_sim3 = task_metrics(all_df_sim3, ['hellaswag:acc'], sort_metrics=['hellaswag:acc'])\n",
    "# fig_parcats(df_hellaswag_sim3, 'hellaswag:acc', ['hellaswag:acc_norm_stderr', 'hellaswag:acc_stderr'], height=1500)\n",
    "df_hellaswag_sim3.sort_values(by=['num_fewshot', 'ENCODING_LAYER', 'EXAMPLE_AGG_SCHEME'])"
   ]
  },
  {
   "cell_type": "code",
   "execution_count": null,
   "metadata": {},
   "outputs": [],
   "source": [
    "all_df_sim2 = read_results(dir = '../lmeval_results_sim2')\n",
    "df_hellaswag_sim2 = task_metrics(all_df_sim2, ['hellaswag:acc'], sort_metrics=['hellaswag:acc'])\n",
    "fig_parcats(df_hellaswag_sim2, 'hellaswag:acc', ['hellaswag:acc_norm_stderr', 'hellaswag:acc_stderr'], height=1500)"
   ]
  },
  {
   "cell_type": "code",
   "execution_count": null,
   "metadata": {},
   "outputs": [],
   "source": [
    "from pathlib import Path\n",
    "Path('x/y/z').name"
   ]
  }
 ],
 "metadata": {
  "kernelspec": {
   "display_name": "lme",
   "language": "python",
   "name": "lme"
  },
  "language_info": {
   "codemirror_mode": {
    "name": "ipython",
    "version": 3
   },
   "file_extension": ".py",
   "mimetype": "text/x-python",
   "name": "python",
   "nbconvert_exporter": "python",
   "pygments_lexer": "ipython3",
   "version": "3.9.13"
  },
  "vscode": {
   "interpreter": {
    "hash": "4a9a0c18e9779ed2e58fb5ce841cff9e897a8be01ea55109e48089b82d3eb788"
   }
  }
 },
 "nbformat": 4,
 "nbformat_minor": 4
}
